{
  "nbformat": 4,
  "nbformat_minor": 0,
  "metadata": {
    "colab": {
      "provenance": []
    },
    "kernelspec": {
      "name": "python3",
      "display_name": "Python 3"
    },
    "language_info": {
      "name": "python"
    }
  },
  "cells": [
    {
      "cell_type": "code",
      "execution_count": null,
      "metadata": {
        "id": "KOEjYDMvDxqm"
      },
      "outputs": [],
      "source": [
        "!git clone https://github.com/deepanrajm/deep_learning.git"
      ]
    },
    {
      "cell_type": "code",
      "source": [
        "from keras.models import Sequential\n",
        "from keras.layers import Dense\n",
        "from pandas import read_csv\n",
        "import numpy as np"
      ],
      "metadata": {
        "id": "UB2d3quBEZ92"
      },
      "execution_count": 2,
      "outputs": []
    },
    {
      "cell_type": "code",
      "source": [
        "dataframe = read_csv(\"/content/deep_learning/Mat_Sci/material.csv\")\n",
        "dataframe.head()"
      ],
      "metadata": {
        "id": "eg_8is6kElm4"
      },
      "execution_count": null,
      "outputs": []
    },
    {
      "cell_type": "code",
      "source": [
        "dataframe.isnull().any().any()\n",
        "dataframe.isnull().sum().sum()"
      ],
      "metadata": {
        "id": "1k07dl9MFA9d"
      },
      "execution_count": null,
      "outputs": []
    },
    {
      "cell_type": "code",
      "source": [
        "dataset = dataframe.values\n",
        "data = dataset[:,1:7].astype(float)\n",
        "labels = dataset[:,7].astype(int)"
      ],
      "metadata": {
        "id": "GT8qAAUZFDbs"
      },
      "execution_count": 7,
      "outputs": []
    },
    {
      "cell_type": "code",
      "source": [
        "model = Sequential()\n",
        "model.add(Dense(12, input_dim=6, activation='relu'))\n",
        "model.add(Dense(8, activation='relu'))\n",
        "model.add(Dense(1, activation='sigmoid'))"
      ],
      "metadata": {
        "id": "Ybea_OnRFI-J"
      },
      "execution_count": 11,
      "outputs": []
    },
    {
      "cell_type": "code",
      "source": [
        "model.compile(loss='binary_crossentropy', optimizer='adam', metrics=['accuracy'])"
      ],
      "metadata": {
        "id": "4ugSEZ46FLU_"
      },
      "execution_count": 12,
      "outputs": []
    },
    {
      "cell_type": "code",
      "source": [
        "history = model.fit(data, labels, epochs=200, batch_size=10)"
      ],
      "metadata": {
        "id": "xmKszvBbFNRn"
      },
      "execution_count": null,
      "outputs": []
    },
    {
      "cell_type": "code",
      "source": [
        "scores = model.evaluate(data, labels)\n",
        "print(\"%s: %.2f%%\" % (model.metrics_names[1], scores[1]*100))"
      ],
      "metadata": {
        "id": "D0caQ_P7FSbu"
      },
      "execution_count": null,
      "outputs": []
    }
  ]
}