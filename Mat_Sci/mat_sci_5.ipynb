{
  "nbformat": 4,
  "nbformat_minor": 0,
  "metadata": {
    "colab": {
      "provenance": []
    },
    "kernelspec": {
      "name": "python3",
      "display_name": "Python 3"
    },
    "language_info": {
      "name": "python"
    }
  },
  "cells": [
    {
      "cell_type": "code",
      "execution_count": null,
      "metadata": {
        "id": "BgYD4qMeH3EN"
      },
      "outputs": [],
      "source": [
        "!git clone https://github.com/deepanrajm/deep_learning.git"
      ]
    },
    {
      "cell_type": "code",
      "source": [
        "!pip install tensorflow==2.10"
      ],
      "metadata": {
        "id": "BmYYXOwyIxzi"
      },
      "execution_count": null,
      "outputs": []
    },
    {
      "cell_type": "code",
      "source": [
        "import tensorflow as tf\n",
        "from tensorflow.keras.models import Sequential\n",
        "from tensorflow.keras.layers import Dense\n",
        "from tensorflow.keras.wrappers.scikit_learn import KerasClassifier\n",
        "from sklearn.preprocessing import LabelEncoder\n",
        "from keras.utils import np_utils\n",
        "from pandas import read_csv\n",
        "import numpy as np\n",
        "from sklearn.model_selection import train_test_split\n",
        "import matplotlib.pyplot as plt\n",
        "from sklearn.model_selection import cross_val_score\n",
        "from sklearn.model_selection import KFold\n",
        "import numpy\n",
        "from imblearn.pipeline import Pipeline\n",
        "from imblearn.over_sampling import SMOTE\n",
        "from imblearn.over_sampling import BorderlineSMOTE\n",
        "from imblearn.over_sampling import SVMSMOTE\n",
        "from imblearn.over_sampling import ADASYN\n",
        "from matplotlib import pyplot\n",
        "from collections import Counter"
      ],
      "metadata": {
        "id": "qugmQav7IE67"
      },
      "execution_count": 3,
      "outputs": []
    },
    {
      "cell_type": "code",
      "source": [
        "seed = 7"
      ],
      "metadata": {
        "id": "Lqyy9KRtKmfX"
      },
      "execution_count": 4,
      "outputs": []
    },
    {
      "cell_type": "code",
      "source": [
        "dataframe = read_csv(\"/content/deep_learning/Mat_Sci/Cleaned_Metalearning.csv\")\n",
        "dataframe.head()"
      ],
      "metadata": {
        "id": "DwWTPhO2IJ3d"
      },
      "execution_count": null,
      "outputs": []
    },
    {
      "cell_type": "code",
      "source": [
        "\n",
        "dataframe.isnull().any().any()\n",
        "dataframe.isnull().sum().sum()"
      ],
      "metadata": {
        "colab": {
          "base_uri": "https://localhost:8080/"
        },
        "id": "NAwH9wcGJOyD",
        "outputId": "2fd4a4b5-12ef-4bd7-c9ea-705a5e718771"
      },
      "execution_count": 7,
      "outputs": [
        {
          "output_type": "execute_result",
          "data": {
            "text/plain": [
              "560"
            ]
          },
          "metadata": {},
          "execution_count": 7
        }
      ]
    },
    {
      "cell_type": "code",
      "source": [
        "dataframe.dropna(inplace = True)"
      ],
      "metadata": {
        "id": "wv84imxWJZBo"
      },
      "execution_count": 8,
      "outputs": []
    },
    {
      "cell_type": "code",
      "source": [
        "dataset = dataframe.values\n",
        "data = dataset[:,1:6].astype(float)\n",
        "labels = dataset[:,6].astype(int)"
      ],
      "metadata": {
        "id": "kCWkNMJWJa4G"
      },
      "execution_count": 9,
      "outputs": []
    },
    {
      "cell_type": "code",
      "source": [
        "(trainData, testData, trainLabels, testLabels) = train_test_split(np.array(data),\n",
        "\tnp.array(labels), test_size=0.25, random_state=42)"
      ],
      "metadata": {
        "id": "8X5ceHyLuzYx"
      },
      "execution_count": 14,
      "outputs": []
    },
    {
      "cell_type": "code",
      "source": [
        "sm = SMOTE(random_state=0, sampling_strategy={1:1171, 2:260, 3:150})\n",
        "trainData_resampled, trainLabels_resampled = sm.fit_resample(trainData, trainLabels)"
      ],
      "metadata": {
        "id": "DBHNX0rzu7qn"
      },
      "execution_count": 15,
      "outputs": []
    },
    {
      "cell_type": "code",
      "source": [
        "encoder = LabelEncoder()\n",
        "encoder.fit(trainLabels_resampled)\n",
        "encoded_Y = encoder.transform(trainLabels_resampled)\n",
        "train_dummy_y = np_utils.to_categorical(encoded_Y)"
      ],
      "metadata": {
        "id": "PPssOPuZw_tL"
      },
      "execution_count": 16,
      "outputs": []
    },
    {
      "cell_type": "code",
      "source": [
        "encoder = LabelEncoder()\n",
        "encoder.fit(testLabels)\n",
        "encoded_Y = encoder.transform(testLabels)\n",
        "test_dummy_y = np_utils.to_categorical(encoded_Y)"
      ],
      "metadata": {
        "id": "YS6LZAXxxFnI"
      },
      "execution_count": 17,
      "outputs": []
    },
    {
      "cell_type": "code",
      "source": [
        "\n",
        "model = Sequential()\n",
        "model.add(Dense(12, input_dim=5, activation='relu'))\n",
        "model.add(Dense(6,  activation='relu'))\n",
        "model.add(Dense(3,  activation='softmax'))\n",
        "\n",
        "# Compile model\n",
        "model.compile(loss='categorical_crossentropy', optimizer='adam', metrics=['accuracy'])\n"
      ],
      "metadata": {
        "id": "MVfD-gFGJioQ"
      },
      "execution_count": 19,
      "outputs": []
    },
    {
      "cell_type": "code",
      "source": [
        "history = model.fit(trainData_resampled, train_dummy_y,validation_data=(testData, test_dummy_y),epochs=10, batch_size=10)"
      ],
      "metadata": {
        "id": "BtKShAJ5J_F8"
      },
      "execution_count": null,
      "outputs": []
    },
    {
      "cell_type": "code",
      "source": [
        "print(history.history.keys())\n",
        "\n",
        "# Loss Curves\n",
        "plt.figure(figsize=(25, 10))\n",
        "plt.subplot(1, 2, 1)\n",
        "plt.plot(history.history['loss'],'-g',linewidth=1.0)\n",
        "plt.plot(history.history['val_loss'],'-r',linewidth=1.0)\n",
        "plt.legend(['Training loss', 'Validation Loss'],fontsize=14)\n",
        "plt.xlabel('Epochs ',fontsize=16)\n",
        "plt.ylabel('Loss',fontsize=16)\n",
        "plt.title('Loss Curves',fontsize=22)\n",
        "\n",
        "# Accuracy Curves\n",
        "plt.subplot(1, 2, 2)\n",
        "plt.plot(history.history['accuracy'],'-g',linewidth=1.0)\n",
        "plt.plot(history.history['val_accuracy'],'-r',linewidth=1.0)\n",
        "plt.legend(['Training Accuracy', 'Validation Accuracy'],fontsize=14)\n",
        "plt.xlabel('Epochs ',fontsize=16)\n",
        "\n",
        "plt.ylabel('Accuracy',fontsize=16)\n",
        "plt.title('Accuracy Curves',fontsize=22)\n",
        "plt.show()"
      ],
      "metadata": {
        "id": "7OrzO-rRvKZH"
      },
      "execution_count": null,
      "outputs": []
    }
  ]
}