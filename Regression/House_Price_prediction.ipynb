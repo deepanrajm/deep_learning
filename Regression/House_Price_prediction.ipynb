{
  "nbformat": 4,
  "nbformat_minor": 0,
  "metadata": {
    "colab": {
      "name": "House_Price_prediction.ipynb",
      "provenance": []
    },
    "kernelspec": {
      "name": "python3",
      "display_name": "Python 3"
    },
    "language_info": {
      "name": "python"
    }
  },
  "cells": [
    {
      "cell_type": "code",
      "execution_count": 4,
      "metadata": {
        "colab": {
          "base_uri": "https://localhost:8080/"
        },
        "id": "DJB7WRCnjn8d",
        "outputId": "9108a22a-3dff-4469-f680-a69fa55fb179"
      },
      "outputs": [
        {
          "output_type": "stream",
          "name": "stdout",
          "text": [
            "Cloning into 'deep_learning'...\n",
            "remote: Enumerating objects: 2539, done.\u001b[K\n",
            "remote: Counting objects: 100% (51/51), done.\u001b[K\n",
            "remote: Compressing objects: 100% (48/48), done.\u001b[K\n",
            "remote: Total 2539 (delta 14), reused 28 (delta 3), pack-reused 2488\u001b[K\n",
            "Receiving objects: 100% (2539/2539), 290.00 MiB | 18.91 MiB/s, done.\n",
            "Resolving deltas: 100% (53/53), done.\n",
            "Checking out files: 100% (2417/2417), done.\n"
          ]
        }
      ],
      "source": [
        "!git clone https://github.com/deepanrajm/deep_learning.git"
      ]
    },
    {
      "cell_type": "code",
      "source": [
        "#import required libraries\n",
        "import pandas as pd\n",
        "import numpy as np\n",
        "import seaborn as sns\n",
        "import matplotlib.pyplot as plt\n",
        "#import Data\n",
        "Data = pd.read_csv('deep_learning/Regression/kc_house_data.csv')\n",
        "Data.head(5).T\n",
        "#get some information about our Data-Set\n",
        "Data.info()\n",
        "Data.describe().transpose()"
      ],
      "metadata": {
        "id": "SrTGGAN9kmz0"
      },
      "execution_count": null,
      "outputs": []
    },
    {
      "cell_type": "code",
      "source": [
        "# check if there are any Null values\n",
        "Data.isnull().sum()\n",
        "# drop some unnecessary columns\n",
        "Data = Data.drop('date',axis=1)\n",
        "Data = Data.drop('id',axis=1)\n",
        "Data = Data.drop('zipcode',axis=1)"
      ],
      "metadata": {
        "id": "TWRqwTSOlEi3"
      },
      "execution_count": 6,
      "outputs": []
    },
    {
      "cell_type": "code",
      "source": [
        "X = Data.drop('price',axis =1).values\n",
        "y = Data['price'].values\n",
        "#splitting Train and Test \n",
        "from sklearn.model_selection import train_test_split\n",
        "X_train, X_test, y_train, y_test = train_test_split(X, y, test_size=0.33, random_state=101)"
      ],
      "metadata": {
        "id": "Wix1n9CQlIHK"
      },
      "execution_count": 7,
      "outputs": []
    },
    {
      "cell_type": "code",
      "source": [
        "#standardization scaler - fit&transform on train, fit only on test\n",
        "from sklearn.preprocessing import StandardScaler\n",
        "s_scaler = StandardScaler()\n",
        "X_train = s_scaler.fit_transform(X_train.astype(np.float))\n",
        "X_test = s_scaler.transform(X_test.astype(np.float))"
      ],
      "metadata": {
        "id": "tX1ZWsj7lLqX"
      },
      "execution_count": null,
      "outputs": []
    },
    {
      "cell_type": "code",
      "source": [
        "#  Liner Regression\n",
        "from sklearn.linear_model import LinearRegression\n",
        "regressor = LinearRegression()  \n",
        "regressor.fit(X_train, y_train)"
      ],
      "metadata": {
        "id": "IWCbwfm3laOL"
      },
      "execution_count": null,
      "outputs": []
    },
    {
      "cell_type": "code",
      "source": [
        "#predicting the test set result\n",
        "y_pred = regressor.predict(X_test)"
      ],
      "metadata": {
        "id": "8VOszmRUle08"
      },
      "execution_count": 10,
      "outputs": []
    },
    {
      "cell_type": "code",
      "source": [
        "from sklearn import metrics\n",
        "print('VarScore:',metrics.explained_variance_score(y_test,y_pred))"
      ],
      "metadata": {
        "colab": {
          "base_uri": "https://localhost:8080/"
        },
        "id": "DKC6EpEylmFC",
        "outputId": "9d114e5e-fda6-4d5b-bc20-0b7fcdc5e958"
      },
      "execution_count": 11,
      "outputs": [
        {
          "output_type": "stream",
          "name": "stdout",
          "text": [
            "VarScore: 0.7022879336018735\n"
          ]
        }
      ]
    },
    {
      "cell_type": "code",
      "source": [
        "# Creating a Neural Network Model\n",
        "from tensorflow.keras.models import Sequential\n",
        "from tensorflow.keras.layers import Dense, Activation\n",
        "from tensorflow.keras.optimizers import Adam"
      ],
      "metadata": {
        "id": "Bb0SGS-tlSol"
      },
      "execution_count": 12,
      "outputs": []
    },
    {
      "cell_type": "code",
      "source": [
        "# having 19 neuron is based on the number of available features\n",
        "model = Sequential()\n",
        "model.add(Dense(19,activation='relu'))\n",
        "model.add(Dense(19,activation='relu'))\n",
        "model.add(Dense(19,activation='relu'))\n",
        "model.add(Dense(19,activation='relu'))\n",
        "model.add(Dense(1))\n",
        "model.compile(optimizer='Adam',loss='mean_squared_error')"
      ],
      "metadata": {
        "id": "yc7PsyxKl0Yq"
      },
      "execution_count": 15,
      "outputs": []
    },
    {
      "cell_type": "code",
      "source": [
        "model.fit(x=X_train,y=y_train,\n",
        "          validation_data=(X_test,y_test),\n",
        "          batch_size=128,epochs=400)\n",
        "model.summary()"
      ],
      "metadata": {
        "id": "f-EhZYJUl4X5"
      },
      "execution_count": null,
      "outputs": []
    },
    {
      "cell_type": "code",
      "source": [
        "y_pred = model.predict(X_test)"
      ],
      "metadata": {
        "id": "ONUhAzWvmsKP"
      },
      "execution_count": 17,
      "outputs": []
    },
    {
      "cell_type": "code",
      "source": [
        "print('VarScore:',metrics.explained_variance_score(y_test,y_pred))"
      ],
      "metadata": {
        "id": "gbfJq527muwH"
      },
      "execution_count": null,
      "outputs": []
    }
  ]
}