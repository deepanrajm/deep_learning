{
  "nbformat": 4,
  "nbformat_minor": 0,
  "metadata": {
    "colab": {
      "name": "GRU NLP.ipynb",
      "provenance": []
    },
    "kernelspec": {
      "name": "python3",
      "display_name": "Python 3"
    }
  },
  "cells": [
    {
      "cell_type": "markdown",
      "metadata": {
        "id": "XLL_EuVa4E1c"
      },
      "source": [
        "# ***GRU - Gated Recurrent Unit***"
      ]
    },
    {
      "cell_type": "code",
      "source": [
        "!git clone https://github.com/deepanrajm/deep_learning.git"
      ],
      "metadata": {
        "id": "-ZwIPV0Md2fo"
      },
      "execution_count": null,
      "outputs": []
    },
    {
      "cell_type": "code",
      "source": [
        "import json\n",
        "import tensorflow as tf\n",
        "import numpy as np\n",
        "import pandas as pd\n",
        "\n",
        "data = pd.read_json(\"/content/deep_learning/NLP/Sarcasm.json\", lines=True)\n",
        "data.head(10)\n"
      ],
      "metadata": {
        "id": "f5hvVEQPffiY"
      },
      "execution_count": null,
      "outputs": []
    },
    {
      "cell_type": "code",
      "metadata": {
        "id": "NYfj0ZBh01YY"
      },
      "source": [
        "traning_labels=np.array(data['is_sarcastic'])\n",
        "\n",
        "from tensorflow.keras.preprocessing.text import Tokenizer\n",
        "from tensorflow.keras.preprocessing.sequence import pad_sequences\n",
        "tokenizer = Tokenizer(oov_token=\"<OOV>\")\n",
        "tokenizer.fit_on_texts(data['headline'])\n",
        "\n",
        "word_index = tokenizer.word_index\n",
        "print(len(word_index))\n",
        "print(word_index)\n",
        "sequences = tokenizer.texts_to_sequences(data['headline'])\n",
        "padded = pad_sequences(sequences, padding='post')\n",
        "print(padded[0])\n",
        "print(padded.shape)"
      ],
      "execution_count": null,
      "outputs": []
    },
    {
      "cell_type": "markdown",
      "metadata": {
        "id": "a-yA3vRc4Ojz"
      },
      "source": [
        "**Using TF 2 version**"
      ]
    },
    {
      "cell_type": "code",
      "metadata": {
        "id": "5aQEBC2K0_jW"
      },
      "source": [
        "model = tf.keras.Sequential([\n",
        "    tf.keras.layers.Embedding(30000, 64, input_length=40),\n",
        "    tf.keras.layers.Bidirectional(tf.keras.layers.GRU(32)),\n",
        "    #tf.keras.layers.Dense(6, activation='relu'),\n",
        "    tf.keras.layers.Dense(1, activation='sigmoid')\n",
        "])\n",
        "model.compile(loss='binary_crossentropy',optimizer='adam',metrics=['accuracy'])"
      ],
      "execution_count": 22,
      "outputs": []
    },
    {
      "cell_type": "code",
      "metadata": {
        "id": "SV4eDA6o1uUs"
      },
      "source": [
        "history = model.fit(padded, traning_labels, epochs=1,batch_size =100)"
      ],
      "execution_count": null,
      "outputs": []
    }
  ]
}