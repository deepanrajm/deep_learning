{
  "nbformat": 4,
  "nbformat_minor": 0,
  "metadata": {
    "colab": {
      "name": "Untitled1.ipynb",
      "provenance": [],
      "include_colab_link": true
    },
    "kernelspec": {
      "name": "python3",
      "display_name": "Python 3"
    },
    "accelerator": "GPU"
  },
  "cells": [
    {
      "cell_type": "markdown",
      "metadata": {
        "id": "view-in-github",
        "colab_type": "text"
      },
      "source": [
        "<a href=\"https://colab.research.google.com/github/deepanrajm/deep_learning/blob/master/Transfer-Learning/Transfer_Learning.ipynb\" target=\"_parent\"><img src=\"https://colab.research.google.com/assets/colab-badge.svg\" alt=\"Open In Colab\"/></a>"
      ]
    },
    {
      "cell_type": "code",
      "metadata": {
        "id": "1nN_5ysEpbCO"
      },
      "source": [
        "!pip install tensorflow==1.14 tensorflow-gpu==1.14 keras==2.1.2 h5py==2.10.0"
      ],
      "execution_count": null,
      "outputs": []
    },
    {
      "cell_type": "code",
      "metadata": {
        "id": "pdxVC0hnBMo3"
      },
      "source": [
        "from pathlib import Path\n",
        "import numpy as np\n",
        "import joblib\n",
        "from keras.preprocessing import image\n",
        "from keras.applications.vgg19 import VGG19, preprocess_input\n",
        "\n",
        "# Empty lists to hold the images and labels for each each image\n",
        "x_train = []\n",
        "y_train = []"
      ],
      "execution_count": 13,
      "outputs": []
    },
    {
      "cell_type": "code",
      "metadata": {
        "id": "YmEmDeXKHtyU"
      },
      "source": [
        "!git clone https://github.com/deepanrajm/deep_learning.git"
      ],
      "execution_count": null,
      "outputs": []
    },
    {
      "cell_type": "code",
      "metadata": {
        "id": "_9Es9qfMKV5l"
      },
      "source": [
        "!ls"
      ],
      "execution_count": null,
      "outputs": []
    },
    {
      "cell_type": "code",
      "metadata": {
        "id": "pFzZzArPBQW6"
      },
      "source": [
        "# Load the training data set by looping over every image file\n",
        "for image_file in Path(\"deep_learning/Transfer-Learning/training_dataset\").glob(\"**/*.png\"):\n",
        "\n",
        "    # Load the current image file\n",
        "    image_data = image.load_img(image_file, target_size=(100, 100))\n",
        "\n",
        "    # Convert the loaded image file to a numpy array\n",
        "    image_array = image.img_to_array(image_data)\n",
        "\n",
        "    # Add the current image to our list of training images\n",
        "    x_train.append(image_array)\n",
        "\n",
        "    # Add a label for this image. If it was a not_bird image, label it 0. If it was a bird, label it 1.\n",
        "    if \"not_bird\" in image_file.stem:\n",
        "        y_train.append(0)\n",
        "    else:\n",
        "        y_train.append(1)"
      ],
      "execution_count": 14,
      "outputs": []
    },
    {
      "cell_type": "code",
      "metadata": {
        "id": "sBfVYK56BbwT"
      },
      "source": [
        "# Convert the list of separate images into a single 4D numpy array. This is what Keras expects.\n",
        "x_train = np.array(x_train)\n",
        "\n",
        "# Normalize image data to 0-to-1 range\n",
        "x_train = preprocess_input(x_train)\n",
        "\n",
        "# Load the pre-trained neural network to use as a feature extractor\n",
        "base_model = VGG19(weights=\"imagenet\")\n",
        "feature_extractor = VGG19(include_top=False, input_shape=(100, 100, 3))\n",
        "\n",
        "# Extract features for each image (all in one pass)\n",
        "features_x = feature_extractor.predict(x_train)\n",
        "\n",
        "# Save the array of extracted features to a file\n",
        "joblib.dump(features_x, \"x_train.dat\")\n",
        "\n",
        "# Save the matching array of expected values to a file\n",
        "joblib.dump(y_train, \"y_train.dat\")\n"
      ],
      "execution_count": null,
      "outputs": []
    },
    {
      "cell_type": "code",
      "metadata": {
        "id": "9sXXX9VOBmpv"
      },
      "source": [
        "# Load data set of extracted features\n",
        "x_train = joblib.load(\"x_train.dat\")\n",
        "y_train = joblib.load(\"y_train.dat\")\n"
      ],
      "execution_count": 16,
      "outputs": []
    },
    {
      "cell_type": "code",
      "metadata": {
        "id": "CvvFDEMpKwQt"
      },
      "source": [
        "from keras.models import Sequential\n",
        "from keras.layers import Dense, Dropout, Flatten"
      ],
      "execution_count": 17,
      "outputs": []
    },
    {
      "cell_type": "code",
      "metadata": {
        "id": "Nn81_QfVBvuj"
      },
      "source": [
        "# Create a model and add layers\n",
        "model = Sequential()\n",
        "\n",
        "# Add layers to our model\n",
        "model.add(Flatten(input_shape=x_train.shape[1:]))\n",
        "model.add(Dense(128, activation='relu'))\n",
        "model.add(Dropout(0.5))\n",
        "model.add(Dense(1, activation='sigmoid'))\n",
        "\n",
        "# Compile the model\n",
        "model.compile(\n",
        "    loss='binary_crossentropy',\n",
        "    optimizer='adam',\n",
        "    metrics=['accuracy']\n",
        ")\n"
      ],
      "execution_count": 18,
      "outputs": []
    },
    {
      "cell_type": "code",
      "metadata": {
        "id": "-Rxngy6-Bynu"
      },
      "source": [
        "# Train the model\n",
        "model.fit(\n",
        "    x_train,\n",
        "    y_train,\n",
        "    validation_split=0.05,\n",
        "    epochs=10,\n",
        "    shuffle=True,\n",
        "    verbose=2\n",
        ")\n",
        "\n",
        "# Save the trained model to a file so we can use it to make predictions later\n",
        "model.save(\"bird_feature_classifier_model.h5\")"
      ],
      "execution_count": null,
      "outputs": []
    },
    {
      "cell_type": "code",
      "metadata": {
        "id": "UZLgCYOnB1k-"
      },
      "source": [
        "from keras.models import load_model\n",
        "from sklearn.metrics import confusion_matrix"
      ],
      "execution_count": 20,
      "outputs": []
    },
    {
      "cell_type": "code",
      "metadata": {
        "id": "yUqfBf9ECFBU"
      },
      "source": [
        "# Empty lists to hold the images and labels for each each image\n",
        "x_test = []\n",
        "y_test = []\n",
        "\n",
        "# Load the test data set by looping over every image file\n",
        "for image_file in Path(\"deep_learning/Transfer-Learning/test_dataset\").glob(\"**/*.png\"):\n",
        "\n",
        "    # Load the current image file\n",
        "    image_data = image.load_img(image_file, target_size=(100, 100))\n",
        "\n",
        "    # Convert the loaded image file to a numpy array\n",
        "    image_array = image.img_to_array(image_data)\n",
        "\n",
        "    # Add the current image to our list of test images\n",
        "    x_test.append(image_array)\n",
        "\n",
        "    # Add an expected label for this image. If it was a not_bird image, label it 0. If it was a bird, label it 1.\n",
        "    if \"not_bird\" in image_file.stem:\n",
        "        y_test.append(0)\n",
        "    else:\n",
        "        y_test.append(1)\n",
        "\n",
        "# Convert the list of test images to a numpy array\n",
        "x_test = np.array(x_test)\n",
        "\n",
        "# Normalize test data set to 0-to-1 range\n",
        "x_test = xception.preprocess_input(x_test)"
      ],
      "execution_count": 23,
      "outputs": []
    },
    {
      "cell_type": "code",
      "metadata": {
        "id": "mPYbXZBMCSGn"
      },
      "source": [
        "# Load our trained classifier model\n",
        "model = load_model(\"bird_feature_classifier_model.h5\")\n",
        "\n",
        "# Extract features for each image (all in one pass)\n",
        "features_x = feature_extractor.predict(x_test)\n",
        "\n",
        "# Given the extracted features, make a final prediction using our own model\n",
        "predictions = model.predict(features_x)\n",
        "\n",
        "# If the model is more than 50% sure the object is a bird, call it a bird.\n",
        "# Otherwise, call it \"not a bird\".\n",
        "predictions = predictions > 0.5\n",
        "\n",
        "# Calculate how many mis-classifications the model makes\n",
        "tn, fp, fn, tp = confusion_matrix(y_test, predictions).ravel()\n",
        "print(f\"True Positives: {tp}\")\n",
        "print(f\"True Negatives: {tn}\")\n",
        "print(f\"False Positives: {fp}\")\n",
        "print(f\"False Negatives: {fn}\")"
      ],
      "execution_count": null,
      "outputs": []
    }
  ]
}