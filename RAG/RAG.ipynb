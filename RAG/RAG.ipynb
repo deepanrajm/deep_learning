{
 "cells": [
  {
   "cell_type": "code",
   "execution_count": 1,
   "metadata": {},
   "outputs": [],
   "source": [
    "from langchain_community.document_loaders import PDFPlumberLoader\n",
    "from langchain_experimental.text_splitter import SemanticChunker\n",
    "# from langchain.embeddings import HuggingFaceEmbeddings\n",
    "from langchain_community.embeddings import HuggingFaceEmbeddings\n",
    "from langchain_community.vectorstores import FAISS"
   ]
  },
  {
   "cell_type": "code",
   "execution_count": 2,
   "metadata": {},
   "outputs": [
    {
     "name": "stdout",
     "output_type": "stream",
     "text": [
      "Number of pages in the PDF: 3\n"
     ]
    },
    {
     "data": {
      "text/plain": [
       "'Basic Home Remedies & Healthy Lifestyle\\nGuide\\n1. Introduction\\nHome remedies have been used for centuries to treat common ailments using natural ingredients.\\nCombined with a healthy lifestyle, these remedies can support overall well-being and disease\\nprevention.\\n2. Home Remedies for Common Ailments\\n2.1 Cold & Flu\\n\\uf0b7 Ginger Tea: Boil ginger slices in water, add honey and lemon. Helps relieve congestion\\nand sore throat.\\n\\uf0b7 Turmeric Milk: Mix 1 tsp turmeric in warm milk. Acts as an anti-inflammatory and\\nboosts immunity.\\n\\uf0b7 Steam Inhalation: Boil water, add eucalyptus oil, and inhale steam to clear nasal\\ncongestion.\\n2.2 Cough\\n\\uf0b7 Honey & Lemon: Mix 1 tbsp honey with warm water and lemon juice. Soothes the\\nthroat and reduces cough.\\n\\uf0b7 Tulsi (Holy Basil) Tea: Boil tulsi leaves in water and drink. Helps with respiratory\\nissues.\\n2.3 Headache\\n\\uf0b7 Peppermint Oil: Apply a few drops on the temples for relief.\\n\\uf0b7 Ginger Paste: Make a paste of ginger and water, apply on forehead. Reduces headache\\nsymptoms.\\n\\uf0b7 Hydration: Drink plenty of water, as dehydration is a common cause of headaches.\\n2.4 Indigestion & Acidity\\n\\uf0b7 Fennel Seeds: Chew fennel seeds after meals to aid digestion.\\n\\uf0b7 Baking Soda: Mix 1/2 tsp in warm water and drink for instant relief from acidity.\\n\\uf0b7 Apple Cider Vinegar: Take 1 tbsp in a glass of water before meals to aid digestion.\\n2.5 Constipation\\n'"
      ]
     },
     "execution_count": 2,
     "metadata": {},
     "output_type": "execute_result"
    }
   ],
   "source": [
    "loader = PDFPlumberLoader(r\"D:\\Petramount\\Courses\\AI\\LLM\\Basic_Home_Remedies.pdf\")\n",
    "docs = loader.load()\n",
    "\n",
    "# Check the number of pages\n",
    "print(\"Number of pages in the PDF:\",len(docs))\n",
    "\n",
    "# Load the random page content\n",
    "docs[0].page_content"
   ]
  },
  {
   "cell_type": "code",
   "execution_count": 3,
   "metadata": {},
   "outputs": [
    {
     "name": "stderr",
     "output_type": "stream",
     "text": [
      "c:\\Users\\deepa\\.conda\\envs\\rag\\lib\\site-packages\\tqdm\\auto.py:21: TqdmWarning: IProgress not found. Please update jupyter and ipywidgets. See https://ipywidgets.readthedocs.io/en/stable/user_install.html\n",
      "  from .autonotebook import tqdm as notebook_tqdm\n"
     ]
    }
   ],
   "source": [
    "text_splitter = SemanticChunker(HuggingFaceEmbeddings())\n",
    "documents = text_splitter.split_documents(docs)"
   ]
  },
  {
   "cell_type": "code",
   "execution_count": 4,
   "metadata": {},
   "outputs": [
    {
     "name": "stdout",
     "output_type": "stream",
     "text": [
      "Number of chunks created:  7\n",
      " Baking Soda: Mix 1/2 tsp in warm water and drink for instant relief from acidity.  Apple Cider Vinegar: Take 1 tbsp in a glass of water before meals to aid digestion. 2.5 Constipation\n",
      "\n"
     ]
    }
   ],
   "source": [
    "print(\"Number of chunks created: \", len(documents))\n",
    "\n",
    "print(documents[1].page_content)"
   ]
  },
  {
   "cell_type": "code",
   "execution_count": 5,
   "metadata": {},
   "outputs": [],
   "source": [
    "# Instantiate the embedding model\n",
    "embedder = HuggingFaceEmbeddings()\n",
    "\n",
    "# Create the vector store \n",
    "vector = FAISS.from_documents(documents, embedder)\n",
    "retriever = vector.as_retriever(search_type=\"similarity\", search_kwargs={\"k\": 2})"
   ]
  },
  {
   "cell_type": "code",
   "execution_count": 6,
   "metadata": {},
   "outputs": [],
   "source": [
    "from langchain_community.llms import Ollama\n",
    "\n",
    "llm = Ollama(model=\"llama3.2:1b\")"
   ]
  },
  {
   "cell_type": "code",
   "execution_count": null,
   "metadata": {},
   "outputs": [],
   "source": [
    "from langchain.chat_models import ChatOpenAI\n",
    "from langchain.schema import AIMessage, HumanMessage, SystemMessage\n",
    "\n",
    "llm = ChatOpenAI(openai_api_base = \"http://localhost:1234/v1\", openai_api_key = \"lm_studio\", model = \"llama-3.2-1b-instruct\")\n",
    "\n"
   ]
  },
  {
   "cell_type": "code",
   "execution_count": null,
   "metadata": {},
   "outputs": [],
   "source": [
    "2. If you don't know the answer, just say that \"I don't know\" but don't make up an answer on your own.\\n"
   ]
  },
  {
   "cell_type": "code",
   "execution_count": null,
   "metadata": {},
   "outputs": [],
   "source": [
    "from langchain.chains import RetrievalQA\n",
    "from langchain.chains.llm import LLMChain\n",
    "from langchain.chains.combine_documents.stuff import StuffDocumentsChain\n",
    "from langchain.prompts import PromptTemplate\n",
    "\n",
    "prompt = \"\"\"\n",
    "1. You are an helpful assitant \n",
    "2. Use the following pieces of context to answer the question at the end.\n",
    "3. Answer only by using the context and articulate it better\n",
    "4. Keep the answer crisp and limited to 3,4 sentences.\n",
    "\n",
    "Context: {context}\n",
    "\n",
    "Question: {question}\n",
    "\n",
    "Answer to the question:\"\"\"\n",
    "\n",
    "\n",
    "QA_CHAIN_PROMPT = PromptTemplate.from_template(prompt) \n",
    "\n",
    "llm_chain = LLMChain(\n",
    "                  llm=llm, \n",
    "                  prompt=QA_CHAIN_PROMPT, \n",
    "                  callbacks=None, \n",
    "                  verbose=True)\n",
    "\n",
    "document_prompt = PromptTemplate(\n",
    "    input_variables=[\"page_content\", \"source\"],\n",
    "    template=\"Context:\\ncontent:{page_content}\\nsource:{source}\",\n",
    ")\n",
    "\n",
    "combine_documents_chain = StuffDocumentsChain(\n",
    "                  llm_chain=llm_chain,\n",
    "                  document_variable_name=\"context\",\n",
    "                  document_prompt=document_prompt,\n",
    "                  callbacks=None,\n",
    "              )\n",
    "\n",
    "qa = RetrievalQA(\n",
    "                  combine_documents_chain=combine_documents_chain,\n",
    "                  verbose=True,\n",
    "                  retriever=retriever,\n",
    "                  return_source_documents=True,\n",
    "              )"
   ]
  },
  {
   "cell_type": "code",
   "execution_count": 16,
   "metadata": {},
   "outputs": [
    {
     "name": "stdout",
     "output_type": "stream",
     "text": [
      "\n",
      "\n",
      "\u001b[1m> Entering new RetrievalQA chain...\u001b[0m\n",
      "\n",
      "\n",
      "\u001b[1m> Entering new LLMChain chain...\u001b[0m\n",
      "Prompt after formatting:\n",
      "\u001b[32;1m\u001b[1;3m\n",
      "1. Use the following pieces of context to answer the question at the end.\n",
      "2. Answer only by using the context and articulate it better\n",
      "\n",
      "3. Keep the answer crisp and limited to 3,4 sentences.\n",
      "\n",
      "Context: Context:\n",
      "content: Warm Lemon Water: Drink on an empty stomach to stimulate digestion.  Flaxseeds: Soak overnight and consume in the morning for fiber intake.  Aloe Vera Juice: Helps in smooth bowel movements. 2.6 Skin Problems (Acne, Dry Skin, Sunburn)\n",
      " Aloe Vera Gel: Apply fresh aloe vera gel to reduce acne and soothe burns.  Coconut Oil: Moisturizes dry skin and prevents infections.  Cucumber & Honey Face Pack: Hydrates skin and reduces irritation. 2.7 Joint Pain & Inflammation\n",
      " Turmeric & Black Pepper: Mix 1 tsp turmeric with a pinch of black pepper in warm\n",
      "milk. Reduces inflammation.  Epsom Salt Bath: Soak in warm water with Epsom salt for muscle relaxation.  Ginger Tea: Acts as a natural pain reliever. 2.8 Insomnia (Sleep Issues)\n",
      " Chamomile Tea: Calms the mind and promotes sleep.  Warm Milk & Nutmeg: Drink before bed to improve sleep quality.  Lavender Essential Oil: Diffuse in the bedroom to relax the mind. 3.\n",
      "source:D:\\Petramount\\Courses\\AI\\LLM\\Basic_Home_Remedies.pdf\n",
      "\n",
      "Context:\n",
      "content:3.4 Sleep Hygiene\n",
      " Maintain a consistent sleep schedule (7-9 hours per night).  Avoid screens at least 1 hour before bedtime.  Keep the bedroom cool and dark for better sleep quality. 3.5 Detox & Immunity Boosting\n",
      " Start the day with warm lemon water for detoxification.  Consume garlic and ginger to strengthen immunity.  Eat fermented foods (yogurt, kimchi) for gut health. 3.6 Avoiding Harmful Habits\n",
      " Quit smoking and limit alcohol consumption.\n",
      "source:D:\\Petramount\\Courses\\AI\\LLM\\Basic_Home_Remedies.pdf\n",
      "\n",
      "Question: i am not sleeping. what to drink to promote sleep?\n",
      "\n",
      "Answer to the question:\u001b[0m\n",
      "\n",
      "\u001b[1m> Finished chain.\u001b[0m\n",
      "\n",
      "\u001b[1m> Finished chain.\u001b[0m\n",
      "The best answer is Warm Lemon Water, as it helps stimulate digestion on an empty stomach and promotes better sleep quality by regulating body temperature. Consuming Aloe Vera Juice also promotes smooth bowel movements, which can help prevent insomnia caused by digestive issues. Additionally, a warm drink like Chamomile Tea or a combination of these remedies can help promote relaxation and induce sleep.\n"
     ]
    }
   ],
   "source": [
    "print(qa(\"i am not sleeping. what to drink to promote sleep?\")[\"result\"])"
   ]
  },
  {
   "cell_type": "code",
   "execution_count": null,
   "metadata": {},
   "outputs": [
    {
     "name": "stderr",
     "output_type": "stream",
     "text": [
      "c:\\Users\\deepa\\.conda\\envs\\rag\\lib\\site-packages\\langchain_core\\_api\\deprecation.py:119: LangChainDeprecationWarning: The class `ChatOpenAI` was deprecated in LangChain 0.0.10 and will be removed in 0.2.0. An updated version of the class exists in the langchain-openai package and should be used instead. To use it run `pip install -U langchain-openai` and import as `from langchain_openai import ChatOpenAI`.\n",
      "  warn_deprecated(\n"
     ]
    }
   ],
   "source": []
  }
 ],
 "metadata": {
  "kernelspec": {
   "display_name": "rag",
   "language": "python",
   "name": "python3"
  },
  "language_info": {
   "codemirror_mode": {
    "name": "ipython",
    "version": 3
   },
   "file_extension": ".py",
   "mimetype": "text/x-python",
   "name": "python",
   "nbconvert_exporter": "python",
   "pygments_lexer": "ipython3",
   "version": "3.9.21"
  }
 },
 "nbformat": 4,
 "nbformat_minor": 2
}
