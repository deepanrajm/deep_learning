{
 "cells": [
  {
   "cell_type": "code",
   "execution_count": 2,
   "metadata": {},
   "outputs": [],
   "source": [
    "from langchain_community.document_loaders import PDFPlumberLoader\n",
    "from langchain_community.embeddings import HuggingFaceEmbeddings\n",
    "from langchain_community.vectorstores import FAISS\n",
    "\n",
    "from llama_index.core.node_parser import SemanticSplitterNodeParser\n",
    "from llama_index.embeddings.huggingface import HuggingFaceEmbedding\n",
    "from llama_index.core.schema import Document as LlamaDocument\n",
    "from langchain.docstore.document import Document"
   ]
  },
  {
   "cell_type": "code",
   "execution_count": 3,
   "metadata": {},
   "outputs": [],
   "source": [
    "loader = PDFPlumberLoader(r\"D:\\Petramount\\Courses\\AI\\LLM\\Basic_Home_Remedies.pdf\")\n",
    "docs = loader.load()"
   ]
  },
  {
   "cell_type": "code",
   "execution_count": 4,
   "metadata": {},
   "outputs": [],
   "source": [
    "llama_docs = [LlamaDocument(text=doc.page_content) for doc in docs]"
   ]
  },
  {
   "cell_type": "code",
   "execution_count": 5,
   "metadata": {},
   "outputs": [
    {
     "name": "stderr",
     "output_type": "stream",
     "text": [
      "c:\\Users\\deepa\\.conda\\envs\\rag\\lib\\site-packages\\huggingface_hub\\file_download.py:142: UserWarning: `huggingface_hub` cache-system uses symlinks by default to efficiently store duplicated files but your machine does not support them in C:\\Users\\deepa\\AppData\\Local\\llama_index\\models--sentence-transformers--all-MiniLM-L6-v2. Caching files will still work but in a degraded version that might require more space on your disk. This warning can be disabled by setting the `HF_HUB_DISABLE_SYMLINKS_WARNING` environment variable. For more details, see https://huggingface.co/docs/huggingface_hub/how-to-cache#limitations.\n",
      "To support symlinks on Windows, you either need to activate Developer Mode or to run Python as an administrator. In order to activate developer mode, see this article: https://docs.microsoft.com/en-us/windows/apps/get-started/enable-your-device-for-development\n",
      "  warnings.warn(message)\n"
     ]
    }
   ],
   "source": [
    "hf_embedding = HuggingFaceEmbedding(model_name=\"sentence-transformers/all-MiniLM-L6-v2\")\n",
    "node_parser = SemanticSplitterNodeParser(embed_model=hf_embedding)\n",
    "nodes = node_parser.get_nodes_from_documents(llama_docs)"
   ]
  },
  {
   "cell_type": "code",
   "execution_count": 14,
   "metadata": {},
   "outputs": [],
   "source": [
    "# documents = [Document(page_content=node.text) for node in nodes]\n",
    "documents = [Document(page_content=node.text, metadata={\"source\": f\"chunk_{i}\"}) for i, node in enumerate(nodes)]\n"
   ]
  },
  {
   "cell_type": "code",
   "execution_count": 15,
   "metadata": {},
   "outputs": [],
   "source": [
    "embedder = HuggingFaceEmbeddings()\n",
    "\n",
    "\n",
    "vector = FAISS.from_documents(documents, embedder)\n",
    "retriever = vector.as_retriever(search_type=\"similarity\", search_kwargs={\"k\": 2})"
   ]
  },
  {
   "cell_type": "code",
   "execution_count": 16,
   "metadata": {},
   "outputs": [],
   "source": [
    "from langchain.chat_models import ChatOpenAI\n",
    "from langchain.schema import AIMessage, HumanMessage, SystemMessage\n",
    "\n",
    "llm = ChatOpenAI(openai_api_base = \"http://localhost:1234/v1\", openai_api_key = \"lm_studio\", model = \"llama-3.2-1b-instruct\")\n",
    "\n"
   ]
  },
  {
   "cell_type": "code",
   "execution_count": 17,
   "metadata": {},
   "outputs": [],
   "source": [
    "from langchain.chains import RetrievalQA\n",
    "from langchain.chains.llm import LLMChain\n",
    "from langchain.chains.combine_documents.stuff import StuffDocumentsChain\n",
    "from langchain.prompts import PromptTemplate\n",
    "\n",
    "prompt = \"\"\"\n",
    "1. You are an helpful assitant \n",
    "2. Use the following pieces of context to answer the question at the end.\n",
    "3. Answer only by using the context and articulate it better\n",
    "4. Keep the answer crisp and limited to 3,4 sentences.\n",
    "\n",
    "Context: {context}\n",
    "\n",
    "Question: {question}\n",
    "\n",
    "Answer to the question:\"\"\"\n",
    "\n",
    "\n",
    "QA_CHAIN_PROMPT = PromptTemplate.from_template(prompt) \n",
    "\n",
    "llm_chain = LLMChain(\n",
    "                  llm=llm, \n",
    "                  prompt=QA_CHAIN_PROMPT, \n",
    "                  callbacks=None, \n",
    "                  verbose=True)\n",
    "\n",
    "document_prompt = PromptTemplate(\n",
    "    input_variables=[\"page_content\", \"source\"],\n",
    "    template=\"Context:\\ncontent:{page_content}\\nsource:{source}\",\n",
    ")\n",
    "\n",
    "combine_documents_chain = StuffDocumentsChain(\n",
    "                  llm_chain=llm_chain,\n",
    "                  document_variable_name=\"context\",\n",
    "                  document_prompt=document_prompt,\n",
    "                  callbacks=None,\n",
    "              )\n",
    "\n",
    "qa = RetrievalQA(\n",
    "                  combine_documents_chain=combine_documents_chain,\n",
    "                  verbose=True,\n",
    "                  retriever=retriever,\n",
    "                  return_source_documents=True,\n",
    "              )"
   ]
  },
  {
   "cell_type": "code",
   "execution_count": 19,
   "metadata": {},
   "outputs": [
    {
     "name": "stdout",
     "output_type": "stream",
     "text": [
      "\n",
      "\n",
      "\u001b[1m> Entering new RetrievalQA chain...\u001b[0m\n",
      "\n",
      "\n",
      "\u001b[1m> Entering new LLMChain chain...\u001b[0m\n",
      "Prompt after formatting:\n",
      "\u001b[32;1m\u001b[1;3m\n",
      "1. You are an helpful assitant \n",
      "2. Use the following pieces of context to answer the question at the end.\n",
      "3. Answer only by using the context and articulate it better\n",
      "4. Keep the answer crisp and limited to 3,4 sentences.\n",
      "\n",
      "Context: Context:\n",
      "content:Basic Home Remedies & Healthy Lifestyle\n",
      "Guide\n",
      "1. Introduction\n",
      "Home remedies have been used for centuries to treat common ailments using natural ingredients.\n",
      "Combined with a healthy lifestyle, these remedies can support overall well-being and disease\n",
      "prevention.\n",
      "2. Home Remedies for Common Ailments\n",
      "2.1 Cold & Flu\n",
      " Ginger Tea: Boil ginger slices in water, add honey and lemon. Helps relieve congestion\n",
      "and sore throat.\n",
      " Turmeric Milk: Mix 1 tsp turmeric in warm milk. Acts as an anti-inflammatory and\n",
      "boosts immunity.\n",
      " Steam Inhalation: Boil water, add eucalyptus oil, and inhale steam to clear nasal\n",
      "congestion.\n",
      "2.2 Cough\n",
      " Honey & Lemon: Mix 1 tbsp honey with warm water and lemon juice. Soothes the\n",
      "throat and reduces cough.\n",
      " Tulsi (Holy Basil) Tea: Boil tulsi leaves in water and drink. Helps with respiratory\n",
      "issues.\n",
      "2.3 Headache\n",
      " Peppermint Oil: Apply a few drops on the temples for relief.\n",
      " Ginger Paste: Make a paste of ginger and water, apply on forehead. Reduces headache\n",
      "symptoms.\n",
      " Hydration: Drink plenty of water, as dehydration is a common cause of headaches.\n",
      "2.4 Indigestion & Acidity\n",
      " Fennel Seeds: Chew fennel seeds after meals to aid digestion.\n",
      "\n",
      "source:chunk_0\n",
      "\n",
      "Context:\n",
      "content: Warm Lemon Water: Drink on an empty stomach to stimulate digestion.\n",
      " Flaxseeds: Soak overnight and consume in the morning for fiber intake.\n",
      " Aloe Vera Juice: Helps in smooth bowel movements.\n",
      "2.6 Skin Problems (Acne, Dry Skin, Sunburn)\n",
      " Aloe Vera Gel: Apply fresh aloe vera gel to reduce acne and soothe burns.\n",
      " Coconut Oil: Moisturizes dry skin and prevents infections.\n",
      " Cucumber & Honey Face Pack: Hydrates skin and reduces irritation.\n",
      "2.7 Joint Pain & Inflammation\n",
      " Turmeric & Black Pepper: Mix 1 tsp turmeric with a pinch of black pepper in warm\n",
      "milk. Reduces inflammation.\n",
      " Epsom Salt Bath: Soak in warm water with Epsom salt for muscle relaxation.\n",
      " Ginger Tea: Acts as a natural pain reliever.\n",
      "2.8 Insomnia (Sleep Issues)\n",
      " Chamomile Tea: Calms the mind and promotes sleep.\n",
      " Warm Milk & Nutmeg: Drink before bed to improve sleep quality.\n",
      " Lavender Essential Oil: Diffuse in the bedroom to relax the mind.\n",
      "3. \n",
      "source:chunk_2\n",
      "\n",
      "Question: remedy for flu\n",
      "\n",
      "Answer to the question:\u001b[0m\n",
      "\n",
      "\u001b[1m> Finished chain.\u001b[0m\n",
      "\n",
      "\u001b[1m> Finished chain.\u001b[0m\n",
      "Based on the provided context and guidelines, I would recommend using a combination of Ginger Tea (2.1 Cold & Flu) and Turmeric Milk (2.1 Cold & Flu), as they are specifically mentioned in this guide under \"Cold & Flu\" remedies.\n",
      "\n",
      "Ginger Tea helps to relieve congestion and soothe a sore throat, while Turmeric Milk acts as an anti-inflammatory and boosts immunity, making it a powerful combination to support overall well-being during the flu season.\n"
     ]
    }
   ],
   "source": [
    "print(qa(\"remedy for flu\")[\"result\"])"
   ]
  }
 ],
 "metadata": {
  "kernelspec": {
   "display_name": "rag",
   "language": "python",
   "name": "python3"
  },
  "language_info": {
   "codemirror_mode": {
    "name": "ipython",
    "version": 3
   },
   "file_extension": ".py",
   "mimetype": "text/x-python",
   "name": "python",
   "nbconvert_exporter": "python",
   "pygments_lexer": "ipython3",
   "version": "3.9.21"
  }
 },
 "nbformat": 4,
 "nbformat_minor": 2
}
