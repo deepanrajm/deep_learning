{
  "nbformat": 4,
  "nbformat_minor": 0,
  "metadata": {
    "colab": {
      "name": "Untitled5.ipynb",
      "provenance": []
    },
    "kernelspec": {
      "name": "python3",
      "display_name": "Python 3"
    }
  },
  "cells": [
    {
      "cell_type": "markdown",
      "metadata": {
        "id": "NC7eubPQmWOq"
      },
      "source": [
        "# **MLP for Iris dataset - multi-class problem**"
      ]
    },
    {
      "cell_type": "code",
      "metadata": {
        "id": "sKjCl1twmU8E"
      },
      "source": [
        "!git clone https://github.com/deepanrajm/deep_learning.git"
      ],
      "execution_count": null,
      "outputs": []
    },
    {
      "cell_type": "code",
      "metadata": {
        "id": "hVV34Zg2mTis"
      },
      "source": [
        "!ls"
      ],
      "execution_count": null,
      "outputs": []
    },
    {
      "cell_type": "markdown",
      "metadata": {
        "id": "EGD29u_ImvJO"
      },
      "source": [
        "**Import Packages**"
      ]
    },
    {
      "cell_type": "code",
      "source": [
        "!pip install tensorflow==2.10"
      ],
      "metadata": {
        "id": "UuJuC-hzZbK8"
      },
      "execution_count": null,
      "outputs": []
    },
    {
      "cell_type": "code",
      "metadata": {
        "id": "-P6U-cRVms8_"
      },
      "source": [
        "import numpy\n",
        "import tensorflow as tf\n",
        "from pandas import read_csv\n",
        "from tensorflow.keras.models import Sequential\n",
        "from tensorflow.keras.layers import Dense\n",
        "from tensorflow.keras.wrappers.scikit_learn import KerasClassifier\n",
        "from keras.utils import np_utils\n",
        "from sklearn.model_selection import cross_val_score\n",
        "from sklearn.model_selection import KFold\n",
        "from sklearn.preprocessing import LabelEncoder\n",
        "from sklearn.pipeline import Pipeline"
      ],
      "execution_count": 1,
      "outputs": []
    },
    {
      "cell_type": "code",
      "metadata": {
        "id": "Mp_ukB8wm0vu"
      },
      "source": [
        "seed = 7\n",
        "numpy.random.seed(seed)"
      ],
      "execution_count": 2,
      "outputs": []
    },
    {
      "cell_type": "markdown",
      "metadata": {
        "id": "gCBQzg_dm5w3"
      },
      "source": [
        "**Loading and Splitting input and output**"
      ]
    },
    {
      "cell_type": "code",
      "metadata": {
        "id": "bqdmvRu0m-LL"
      },
      "source": [
        "dataframe = read_csv(\"deep_learning/MLP_Iris/iris.csv\", header=None)\n",
        "dataset = dataframe.values\n",
        "X = dataset[:,0:4].astype(float)\n",
        "Y = dataset[:,4]"
      ],
      "execution_count": 3,
      "outputs": []
    },
    {
      "cell_type": "markdown",
      "metadata": {
        "id": "fMa-sno4nJbi"
      },
      "source": [
        "**encode class values as integers**"
      ]
    },
    {
      "cell_type": "code",
      "metadata": {
        "id": "y-zNL-ZhnM4_"
      },
      "source": [
        "encoder = LabelEncoder()\n",
        "encoder.fit(Y)\n",
        "encoded_Y = encoder.transform(Y)\n",
        "dummy_y = np_utils.to_categorical(encoded_Y)"
      ],
      "execution_count": 4,
      "outputs": []
    },
    {
      "cell_type": "markdown",
      "metadata": {
        "id": "JYF7HayZnYRj"
      },
      "source": [
        "**define baseline model**"
      ]
    },
    {
      "cell_type": "code",
      "metadata": {
        "id": "vIz0trc0nYCE"
      },
      "source": [
        "def baseline_model():\n",
        "\t# create model\n",
        "\tmodel = Sequential()\n",
        "\tmodel.add(Dense(12, input_dim=4, activation='relu'))\n",
        "\tmodel.add(Dense(6,  activation='relu'))\n",
        "\tmodel.add(Dense(3,  activation='sigmoid'))\n",
        "\n",
        "\t# Compile model\n",
        "\tmodel.compile(loss='categorical_crossentropy', optimizer='adam', metrics=['accuracy'])\n",
        "\treturn model"
      ],
      "execution_count": 8,
      "outputs": []
    },
    {
      "cell_type": "markdown",
      "metadata": {
        "id": "CRmQyH_jnfWh"
      },
      "source": [
        "**Kfold Validation**"
      ]
    },
    {
      "cell_type": "code",
      "metadata": {
        "id": "cYUwjiOdniMq"
      },
      "source": [
        "estimator = KerasClassifier(build_fn=baseline_model, epochs=100, batch_size=10)\n",
        "kfold = KFold(n_splits=10, shuffle=True, random_state=seed)\n",
        "results = cross_val_score(estimator, X, dummy_y, cv=kfold)\n",
        "print(\"Accuracy: %.2f%% (%.2f%%)\" % (results.mean()*100, results.std()*100))\n"
      ],
      "execution_count": null,
      "outputs": []
    }
  ]
}