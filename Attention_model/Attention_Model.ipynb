{
  "nbformat": 4,
  "nbformat_minor": 0,
  "metadata": {
    "kernelspec": {
      "display_name": "Python 3",
      "language": "python",
      "name": "python3"
    },
    "language_info": {
      "codemirror_mode": {
        "name": "ipython",
        "version": 3
      },
      "file_extension": ".py",
      "mimetype": "text/x-python",
      "name": "python",
      "nbconvert_exporter": "python",
      "pygments_lexer": "ipython3",
      "version": "3.6.5"
    },
    "colab": {
      "name": "Attention_Model.ipynb",
      "provenance": []
    }
  },
  "cells": [
    {
      "cell_type": "markdown",
      "metadata": {
        "id": "iiI8JV83-mkD"
      },
      "source": [
        "# Deep Learning for NLP - Creating a chatbot"
      ]
    },
    {
      "cell_type": "code",
      "metadata": {
        "id": "8GBakA3g-6Tn",
        "colab": {
          "base_uri": "https://localhost:8080/"
        },
        "outputId": "068177e9-edcf-44f5-ff45-3e5cfe9ff212"
      },
      "source": [
        "!git clone https://github.com/deepanrajm/deep_learning.git"
      ],
      "execution_count": 1,
      "outputs": [
        {
          "output_type": "stream",
          "name": "stdout",
          "text": [
            "Cloning into 'deep_learning'...\n",
            "remote: Enumerating objects: 2564, done.\u001b[K\n",
            "remote: Counting objects: 100% (76/76), done.\u001b[K\n",
            "remote: Compressing objects: 100% (68/68), done.\u001b[K\n",
            "remote: Total 2564 (delta 29), reused 42 (delta 8), pack-reused 2488\u001b[K\n",
            "Receiving objects: 100% (2564/2564), 292.61 MiB | 16.93 MiB/s, done.\n",
            "Resolving deltas: 100% (68/68), done.\n",
            "Updating files: 100% (2420/2420), done.\n"
          ]
        }
      ]
    },
    {
      "cell_type": "code",
      "metadata": {
        "id": "kLb9Zd57-mkE"
      },
      "source": [
        "#Library Imports\n",
        "import pickle\n",
        "import numpy as np"
      ],
      "execution_count": 2,
      "outputs": []
    },
    {
      "cell_type": "code",
      "metadata": {
        "id": "7pyGX0fz-mkJ"
      },
      "source": [
        "#retrieve training data\n",
        "with open('deep_learning/Attention_model/train_qa.txt', 'rb') as f:\n",
        "    train_data = pickle.load(f)"
      ],
      "execution_count": 3,
      "outputs": []
    },
    {
      "cell_type": "code",
      "metadata": {
        "id": "czS5Cw_g-mkN"
      },
      "source": [
        "#retrieve test data\n",
        "with open('deep_learning/Attention_model/test_qa.txt', 'rb') as f:\n",
        "    test_data = pickle.load(f)"
      ],
      "execution_count": 4,
      "outputs": []
    },
    {
      "cell_type": "code",
      "metadata": {
        "id": "EAHRKRju-mkQ",
        "colab": {
          "base_uri": "https://localhost:8080/"
        },
        "outputId": "1fabf1ae-4d2e-43f3-e647-57b1cb99eed7"
      },
      "source": [
        "#Number of training instances\n",
        "len(train_data)"
      ],
      "execution_count": 5,
      "outputs": [
        {
          "output_type": "execute_result",
          "data": {
            "text/plain": [
              "10000"
            ]
          },
          "metadata": {},
          "execution_count": 5
        }
      ]
    },
    {
      "cell_type": "code",
      "metadata": {
        "id": "4YUwLTr7-mkV",
        "colab": {
          "base_uri": "https://localhost:8080/"
        },
        "outputId": "12121b31-7b98-45bd-afc9-dc07ed8fd84a"
      },
      "source": [
        "#Number of test instances\n",
        "len(test_data)"
      ],
      "execution_count": 6,
      "outputs": [
        {
          "output_type": "execute_result",
          "data": {
            "text/plain": [
              "1000"
            ]
          },
          "metadata": {},
          "execution_count": 6
        }
      ]
    },
    {
      "cell_type": "code",
      "metadata": {
        "id": "e3-0ecS3-mkY",
        "colab": {
          "base_uri": "https://localhost:8080/"
        },
        "outputId": "3e77aa1b-335a-49d1-8714-81600e45a302"
      },
      "source": [
        "#Example of one of the instances\n",
        "train_data[10]"
      ],
      "execution_count": 7,
      "outputs": [
        {
          "output_type": "execute_result",
          "data": {
            "text/plain": [
              "(['Sandra',\n",
              "  'went',\n",
              "  'back',\n",
              "  'to',\n",
              "  'the',\n",
              "  'hallway',\n",
              "  '.',\n",
              "  'Sandra',\n",
              "  'moved',\n",
              "  'to',\n",
              "  'the',\n",
              "  'office',\n",
              "  '.'],\n",
              " ['Is', 'Sandra', 'in', 'the', 'office', '?'],\n",
              " 'yes')"
            ]
          },
          "metadata": {},
          "execution_count": 7
        }
      ]
    },
    {
      "cell_type": "code",
      "metadata": {
        "id": "O1jz62Zr-mkc",
        "colab": {
          "base_uri": "https://localhost:8080/",
          "height": 35
        },
        "outputId": "acc8b076-0386-483a-fc6c-23f62c884fb0"
      },
      "source": [
        "' '.join(train_data[10][0])"
      ],
      "execution_count": 8,
      "outputs": [
        {
          "output_type": "execute_result",
          "data": {
            "text/plain": [
              "'Sandra went back to the hallway . Sandra moved to the office .'"
            ],
            "application/vnd.google.colaboratory.intrinsic+json": {
              "type": "string"
            }
          },
          "metadata": {},
          "execution_count": 8
        }
      ]
    },
    {
      "cell_type": "code",
      "metadata": {
        "id": "ogkmR1H3-mkh",
        "colab": {
          "base_uri": "https://localhost:8080/",
          "height": 35
        },
        "outputId": "cab8305c-fe9b-4411-c6b7-23c96e74b14d"
      },
      "source": [
        "' '.join(train_data[10][1])"
      ],
      "execution_count": 9,
      "outputs": [
        {
          "output_type": "execute_result",
          "data": {
            "text/plain": [
              "'Is Sandra in the office ?'"
            ],
            "application/vnd.google.colaboratory.intrinsic+json": {
              "type": "string"
            }
          },
          "metadata": {},
          "execution_count": 9
        }
      ]
    },
    {
      "cell_type": "code",
      "metadata": {
        "id": "kJtbReMM-mkl",
        "colab": {
          "base_uri": "https://localhost:8080/",
          "height": 35
        },
        "outputId": "7999e772-2777-48b7-b3fe-71500356c2c5"
      },
      "source": [
        "train_data[10][2]"
      ],
      "execution_count": 10,
      "outputs": [
        {
          "output_type": "execute_result",
          "data": {
            "text/plain": [
              "'yes'"
            ],
            "application/vnd.google.colaboratory.intrinsic+json": {
              "type": "string"
            }
          },
          "metadata": {},
          "execution_count": 10
        }
      ]
    },
    {
      "cell_type": "code",
      "metadata": {
        "id": "KvrSoqUh-mkr"
      },
      "source": [
        "#First we will build a set of all the words in the dataset:\n",
        "vocab = set()\n",
        "for story, question, answer in train_data:\n",
        "    vocab = vocab.union(set(story)) #Set returns unique words in the sentence\n",
        "                                    #Union returns the unique common elements from a two sets\n",
        "    vocab = vocab.union(set(question))"
      ],
      "execution_count": 11,
      "outputs": []
    },
    {
      "cell_type": "code",
      "metadata": {
        "id": "QW-sQMhh-mku"
      },
      "source": [
        "vocab.add('no')\n",
        "vocab.add('yes')"
      ],
      "execution_count": 12,
      "outputs": []
    },
    {
      "cell_type": "code",
      "metadata": {
        "scrolled": true,
        "id": "uWd0TxVu-mky",
        "colab": {
          "base_uri": "https://localhost:8080/"
        },
        "outputId": "f63b0d23-3df2-4e58-8b96-d08b3ddde492"
      },
      "source": [
        "vocab"
      ],
      "execution_count": 13,
      "outputs": [
        {
          "output_type": "execute_result",
          "data": {
            "text/plain": [
              "{'.',\n",
              " '?',\n",
              " 'Daniel',\n",
              " 'Is',\n",
              " 'John',\n",
              " 'Mary',\n",
              " 'Sandra',\n",
              " 'apple',\n",
              " 'back',\n",
              " 'bathroom',\n",
              " 'bedroom',\n",
              " 'discarded',\n",
              " 'down',\n",
              " 'dropped',\n",
              " 'football',\n",
              " 'garden',\n",
              " 'got',\n",
              " 'grabbed',\n",
              " 'hallway',\n",
              " 'in',\n",
              " 'journeyed',\n",
              " 'kitchen',\n",
              " 'left',\n",
              " 'milk',\n",
              " 'moved',\n",
              " 'no',\n",
              " 'office',\n",
              " 'picked',\n",
              " 'put',\n",
              " 'the',\n",
              " 'there',\n",
              " 'to',\n",
              " 'took',\n",
              " 'travelled',\n",
              " 'up',\n",
              " 'went',\n",
              " 'yes'}"
            ]
          },
          "metadata": {},
          "execution_count": 13
        }
      ]
    },
    {
      "cell_type": "code",
      "metadata": {
        "id": "ZunpStZ2-mk1"
      },
      "source": [
        "#Calculate len and add 1 for Keras placeholder - Placeholders are used to feed in the data to the network. \n",
        "#They need a data type, and have optional shape arguements.\n",
        "#They will be empty at first, and then the data will get fed into the placeholder\n",
        "vocab_len = len(vocab) + 1"
      ],
      "execution_count": 14,
      "outputs": []
    },
    {
      "cell_type": "code",
      "metadata": {
        "id": "xL_8QLne-mk4",
        "colab": {
          "base_uri": "https://localhost:8080/"
        },
        "outputId": "a2911b7c-fa23-497e-e745-16603f6097df"
      },
      "source": [
        "vocab_len"
      ],
      "execution_count": 15,
      "outputs": [
        {
          "output_type": "execute_result",
          "data": {
            "text/plain": [
              "38"
            ]
          },
          "metadata": {},
          "execution_count": 15
        }
      ]
    },
    {
      "cell_type": "code",
      "metadata": {
        "id": "eY1luDwP-mk7"
      },
      "source": [
        "#Now we are going to calculate the longest story and the longest question\n",
        "#We need this for the Keras pad sequences. \n",
        "#Keras training layers expect all of the input to have the same length, so \n",
        "#we need to pad \n",
        "all_data = test_data + train_data"
      ],
      "execution_count": 16,
      "outputs": []
    },
    {
      "cell_type": "code",
      "metadata": {
        "id": "CpPdazBu-mk-"
      },
      "source": [
        "all_story_lens = [len(data[0]) for data in all_data]"
      ],
      "execution_count": 17,
      "outputs": []
    },
    {
      "cell_type": "code",
      "metadata": {
        "id": "ko5V9VrX-mlB"
      },
      "source": [
        "max_story_len = (max(all_story_lens))"
      ],
      "execution_count": 18,
      "outputs": []
    },
    {
      "cell_type": "code",
      "metadata": {
        "id": "cnb4D_H_-mlE"
      },
      "source": [
        "max_question_len = max([len(data[1]) for data in all_data])"
      ],
      "execution_count": 19,
      "outputs": []
    },
    {
      "cell_type": "markdown",
      "metadata": {
        "id": "RbaXRPit-mlJ"
      },
      "source": [
        "## Vectorizing the data"
      ]
    },
    {
      "cell_type": "code",
      "metadata": {
        "id": "bwHa8NrF-mlK"
      },
      "source": [
        "from tensorflow.keras.preprocessing.sequence import pad_sequences\n",
        "from tensorflow.keras.preprocessing.text import Tokenizer"
      ],
      "execution_count": 20,
      "outputs": []
    },
    {
      "cell_type": "code",
      "metadata": {
        "id": "uLlRRJvx-mlO"
      },
      "source": [
        "#Create an instance of the tokenizer object:\n",
        "tokenizer = Tokenizer(filters = [])\n",
        "tokenizer.fit_on_texts(vocab)"
      ],
      "execution_count": 21,
      "outputs": []
    },
    {
      "cell_type": "code",
      "metadata": {
        "id": "iUkjZcTD-mlR",
        "colab": {
          "base_uri": "https://localhost:8080/"
        },
        "outputId": "00834dde-678d-4229-aa8b-a2c2a49c7250"
      },
      "source": [
        "#Dictionary that maps every word in our vocab to an index\n",
        "# It has been automatically lowercased\n",
        "#This tokenizer can give different indexes for different words depending on when we run it\n",
        "tokenizer.word_index"
      ],
      "execution_count": 22,
      "outputs": [
        {
          "output_type": "execute_result",
          "data": {
            "text/plain": [
              "{'football': 1,\n",
              " 'dropped': 2,\n",
              " 'moved': 3,\n",
              " 'went': 4,\n",
              " 'discarded': 5,\n",
              " 'daniel': 6,\n",
              " 'bathroom': 7,\n",
              " 'back': 8,\n",
              " 'down': 9,\n",
              " 'sandra': 10,\n",
              " 'yes': 11,\n",
              " 'left': 12,\n",
              " 'mary': 13,\n",
              " 'in': 14,\n",
              " 'kitchen': 15,\n",
              " 'up': 16,\n",
              " 'took': 17,\n",
              " 'put': 18,\n",
              " 'hallway': 19,\n",
              " 'milk': 20,\n",
              " 'the': 21,\n",
              " 'is': 22,\n",
              " 'garden': 23,\n",
              " '?': 24,\n",
              " 'there': 25,\n",
              " 'to': 26,\n",
              " '.': 27,\n",
              " 'picked': 28,\n",
              " 'bedroom': 29,\n",
              " 'office': 30,\n",
              " 'no': 31,\n",
              " 'journeyed': 32,\n",
              " 'travelled': 33,\n",
              " 'apple': 34,\n",
              " 'john': 35,\n",
              " 'grabbed': 36,\n",
              " 'got': 37}"
            ]
          },
          "metadata": {},
          "execution_count": 22
        }
      ]
    },
    {
      "cell_type": "code",
      "metadata": {
        "id": "5bLhbta7-mlV"
      },
      "source": [
        "#Tokenize the stories, questions and answers:\n",
        "train_story_text = []\n",
        "train_question_text = []\n",
        "train_answers = []"
      ],
      "execution_count": 23,
      "outputs": []
    },
    {
      "cell_type": "code",
      "metadata": {
        "id": "edYyE3gt-mlY"
      },
      "source": [
        "#Separating each of the elements\n",
        "for story,question,answer in train_data:\n",
        "    train_story_text.append(story)\n",
        "    train_question_text.append(question) \n",
        "    train_answers.append(answer)\n",
        "    "
      ],
      "execution_count": 24,
      "outputs": []
    },
    {
      "cell_type": "code",
      "metadata": {
        "id": "7bwOlOHi-mlb"
      },
      "source": [
        "#Coverting the text into the indexes \n",
        "train_story_seq = tokenizer.texts_to_sequences(train_story_text)"
      ],
      "execution_count": 25,
      "outputs": []
    },
    {
      "cell_type": "code",
      "metadata": {
        "id": "Q52XUmMu-mlg"
      },
      "source": [
        "#Create a function for vectorizing the stories, questions and answers:\n",
        "def vectorize_stories(data,word_index = tokenizer.word_index, max_story_len = max_story_len, max_question_len = max_question_len):\n",
        "    #vectorized stories:\n",
        "    X = []\n",
        "    #vectorized questions:\n",
        "    Xq = []\n",
        "    #vectorized answers:\n",
        "    Y = []\n",
        "    \n",
        "    for story, question, answer in data:\n",
        "        #Getting indexes for each word in the story\n",
        "        x = [word_index[word.lower()] for word in story]\n",
        "        #Getting indexes for each word in the story\n",
        "        xq = [word_index[word.lower()] for word in question]\n",
        "        #For the answers\n",
        "        y = np.zeros(len(word_index) + 1) #Index 0 Reserved when padding the sequences\n",
        "        y[word_index[answer]] = 1\n",
        "        \n",
        "        X.append(x)\n",
        "        Xq.append(xq)\n",
        "        Y.append(y)\n",
        "        \n",
        "    #Now we have to pad these sequences:\n",
        "    return(pad_sequences(X,maxlen=max_story_len), pad_sequences(Xq, maxlen=max_question_len), np.array(Y))\n",
        "        "
      ],
      "execution_count": 26,
      "outputs": []
    },
    {
      "cell_type": "code",
      "metadata": {
        "id": "HVw3153X-mlj"
      },
      "source": [
        "inputs_train, questions_train, answers_train = vectorize_stories(train_data)"
      ],
      "execution_count": 27,
      "outputs": []
    },
    {
      "cell_type": "code",
      "metadata": {
        "id": "f8n9htpp-mlm"
      },
      "source": [
        "inputs_test, questions_test, answers_test = vectorize_stories(test_data)"
      ],
      "execution_count": 28,
      "outputs": []
    },
    {
      "cell_type": "code",
      "metadata": {
        "id": "go9DwXZS-mlo",
        "colab": {
          "base_uri": "https://localhost:8080/"
        },
        "outputId": "47aefeef-bfd2-4286-bb6f-dc9ed8e499ab"
      },
      "source": [
        "inputs_train[0]"
      ],
      "execution_count": 29,
      "outputs": [
        {
          "output_type": "execute_result",
          "data": {
            "text/plain": [
              "array([ 0,  0,  0,  0,  0,  0,  0,  0,  0,  0,  0,  0,  0,  0,  0,  0,  0,\n",
              "        0,  0,  0,  0,  0,  0,  0,  0,  0,  0,  0,  0,  0,  0,  0,  0,  0,\n",
              "        0,  0,  0,  0,  0,  0,  0,  0,  0,  0,  0,  0,  0,  0,  0,  0,  0,\n",
              "        0,  0,  0,  0,  0,  0,  0,  0,  0,  0,  0,  0,  0,  0,  0,  0,  0,\n",
              "        0,  0,  0,  0,  0,  0,  0,  0,  0,  0,  0,  0,  0,  0,  0,  0,  0,\n",
              "        0,  0,  0,  0,  0,  0,  0,  0,  0,  0,  0,  0,  0,  0,  0,  0,  0,\n",
              "        0,  0,  0,  0,  0,  0,  0,  0,  0,  0,  0,  0,  0,  0,  0,  0,  0,\n",
              "        0,  0,  0,  0,  0,  0,  0,  0,  0,  0,  0,  0,  0,  0,  0,  0,  0,\n",
              "        0,  0,  0,  0,  0,  0,  0,  0, 13,  3, 26, 21,  7, 27, 10, 32, 26,\n",
              "       21, 29, 27], dtype=int32)"
            ]
          },
          "metadata": {},
          "execution_count": 29
        }
      ]
    },
    {
      "cell_type": "code",
      "metadata": {
        "id": "ETze1dCW-mlr",
        "colab": {
          "base_uri": "https://localhost:8080/"
        },
        "outputId": "16f09702-6502-483c-c696-88202fde7027"
      },
      "source": [
        "train_story_text[0]"
      ],
      "execution_count": 30,
      "outputs": [
        {
          "output_type": "execute_result",
          "data": {
            "text/plain": [
              "['Mary',\n",
              " 'moved',\n",
              " 'to',\n",
              " 'the',\n",
              " 'bathroom',\n",
              " '.',\n",
              " 'Sandra',\n",
              " 'journeyed',\n",
              " 'to',\n",
              " 'the',\n",
              " 'bedroom',\n",
              " '.']"
            ]
          },
          "metadata": {},
          "execution_count": 30
        }
      ]
    },
    {
      "cell_type": "code",
      "metadata": {
        "id": "p5tMwegg-mlw",
        "colab": {
          "base_uri": "https://localhost:8080/"
        },
        "outputId": "28c9a808-24bf-42b7-8a14-db263c036f08"
      },
      "source": [
        "train_story_seq[0]"
      ],
      "execution_count": 31,
      "outputs": [
        {
          "output_type": "execute_result",
          "data": {
            "text/plain": [
              "[13, 3, 26, 21, 7, 27, 10, 32, 26, 21, 29, 27]"
            ]
          },
          "metadata": {},
          "execution_count": 31
        }
      ]
    },
    {
      "cell_type": "markdown",
      "metadata": {
        "id": "5raULSW2-ml0"
      },
      "source": [
        "## Building the Network"
      ]
    },
    {
      "cell_type": "code",
      "metadata": {
        "id": "ktQthvZB-ml0"
      },
      "source": [
        "#Imports\n",
        "from tensorflow.keras.models import Sequential, Model\n",
        "from tensorflow.keras.layers import Embedding\n",
        "from tensorflow.keras.layers import Input, Activation, Dense, Permute, Dropout, add, dot, concatenate, LSTM"
      ],
      "execution_count": 33,
      "outputs": []
    },
    {
      "cell_type": "code",
      "metadata": {
        "id": "Q4FBT9-K-ml3"
      },
      "source": [
        "# We need to create the placeholders \n",
        "#The Input function is used to create a keras tensor\n",
        "#PLACEHOLDER shape = (max_story_len,batch_size)\n",
        "#These are our placeholder for the inputs, ready to recieve batches of the stories and the questions\n",
        "input_sequence = Input((max_story_len,)) #As we dont know batch size yet\n",
        "question = Input((max_question_len,))"
      ],
      "execution_count": 34,
      "outputs": []
    },
    {
      "cell_type": "code",
      "metadata": {
        "id": "32RXGe7K-ml6"
      },
      "source": [
        "#Create input encoder M:\n",
        "input_encoder_m = Sequential()\n",
        "input_encoder_m.add(Embedding(input_dim=vocab_len,output_dim = 64)) #From paper\n",
        "input_encoder_m.add(Dropout(0.3))\n",
        "\n",
        "#Outputs: (Samples, story_maxlen,embedding_dim) -- Gives a list of the lenght of the samples where each item has the\n",
        "#lenght of the max story lenght and every word is embedded in the embbeding dimension"
      ],
      "execution_count": 35,
      "outputs": []
    },
    {
      "cell_type": "code",
      "metadata": {
        "id": "5evGqGWh-ml8"
      },
      "source": [
        "#Create input encoder C:\n",
        "input_encoder_c = Sequential()\n",
        "input_encoder_c.add(Embedding(input_dim=vocab_len,output_dim = max_question_len)) #From paper\n",
        "input_encoder_c.add(Dropout(0.3))\n",
        "\n",
        "#Outputs: (samples, story_maxlen, max_question_len)"
      ],
      "execution_count": 36,
      "outputs": []
    },
    {
      "cell_type": "code",
      "metadata": {
        "id": "TvpfzXMp-ml_"
      },
      "source": [
        "#Create question encoder:\n",
        "question_encoder = Sequential()\n",
        "question_encoder.add(Embedding(input_dim=vocab_len,output_dim = 64,input_length=max_question_len)) #From paper\n",
        "question_encoder.add(Dropout(0.3))\n",
        "\n",
        "#Outputs: (samples, question_maxlen, embedding_dim)"
      ],
      "execution_count": 37,
      "outputs": []
    },
    {
      "cell_type": "code",
      "metadata": {
        "id": "VHXB9zON-mmC"
      },
      "source": [
        "#Now lets encode the sequences, passing the placeholders into our encoders:\n",
        "input_encoded_m = input_encoder_m(input_sequence)\n",
        "input_encoded_c = input_encoder_c(input_sequence)\n",
        "question_encoded = question_encoder(question)"
      ],
      "execution_count": 38,
      "outputs": []
    },
    {
      "cell_type": "code",
      "metadata": {
        "id": "DmLr089Z-mmF"
      },
      "source": [
        "#Use dot product to compute similarity between input encoded m and question \n",
        "#Like in the paper:\n",
        "match = dot([input_encoded_m,question_encoded], axes = (2,2))\n",
        "match = Activation('softmax')(match)"
      ],
      "execution_count": 39,
      "outputs": []
    },
    {
      "cell_type": "code",
      "metadata": {
        "id": "KjqzPYfk-mmI"
      },
      "source": [
        "#For the response we want to add this match with the ouput of input_encoded_c\n",
        "response = add([match,input_encoded_c])\n",
        "response = Permute((2,1))(response) #Permute Layer: permutes dimensions of input"
      ],
      "execution_count": 40,
      "outputs": []
    },
    {
      "cell_type": "code",
      "metadata": {
        "id": "DKGwRogo-mmK"
      },
      "source": [
        "#Once we have the response we can concatenate it with the question encoded:\n",
        "answer = concatenate([response, question_encoded])"
      ],
      "execution_count": 41,
      "outputs": []
    },
    {
      "cell_type": "code",
      "metadata": {
        "id": "wZapSbJ_-mmT"
      },
      "source": [
        "# Reduce the answer tensor with a RNN (LSTM)\n",
        "answer = LSTM(32)(answer)"
      ],
      "execution_count": 42,
      "outputs": []
    },
    {
      "cell_type": "code",
      "metadata": {
        "id": "aPlwBw_k-mmW"
      },
      "source": [
        "#Regularization with dropout:\n",
        "answer = Dropout(0.5)(answer)\n",
        "#Output layer:\n",
        "answer = Dense(vocab_len)(answer) #Output shape: (Samples, Vocab_size) #Yes or no and all 0s"
      ],
      "execution_count": 43,
      "outputs": []
    },
    {
      "cell_type": "code",
      "metadata": {
        "id": "zuVsoj0_-mmZ"
      },
      "source": [
        "#Now we need to output a probability distribution for the vocab, using softmax:\n",
        "answer = Activation('softmax')(answer)"
      ],
      "execution_count": 44,
      "outputs": []
    },
    {
      "cell_type": "code",
      "metadata": {
        "id": "ggP6Jq2w-mmd"
      },
      "source": [
        "#Now we build the final model:\n",
        "model = Model([input_sequence,question], answer)"
      ],
      "execution_count": 45,
      "outputs": []
    },
    {
      "cell_type": "code",
      "metadata": {
        "id": "drB-YtuG-mmg"
      },
      "source": [
        "model.compile(optimizer='rmsprop', loss = 'categorical_crossentropy', metrics = ['accuracy'])\n",
        "#Categorical instead of binary cross entropy as because of the way we are training\n",
        "#we could actually see any of the words from the vocab as output\n",
        "#however, we should only see yes or no"
      ],
      "execution_count": 46,
      "outputs": []
    },
    {
      "cell_type": "markdown",
      "metadata": {
        "id": "dK2gWLtF-mmm"
      },
      "source": [
        "## Training and testing the model"
      ]
    },
    {
      "cell_type": "code",
      "metadata": {
        "id": "C65JPomo-mmm",
        "colab": {
          "base_uri": "https://localhost:8080/"
        },
        "outputId": "67d515f1-ca4f-48ad-d263-0a1f832866d1"
      },
      "source": [
        "history = model.fit([inputs_train,questions_train],answers_train, batch_size = 32, epochs = 10, validation_data = ([inputs_test,questions_test],answers_test))"
      ],
      "execution_count": 47,
      "outputs": [
        {
          "output_type": "stream",
          "name": "stdout",
          "text": [
            "Epoch 1/10\n",
            "313/313 [==============================] - 11s 21ms/step - loss: 0.9047 - accuracy: 0.4943 - val_loss: 0.6953 - val_accuracy: 0.5030\n",
            "Epoch 2/10\n",
            "313/313 [==============================] - 6s 18ms/step - loss: 0.7078 - accuracy: 0.5011 - val_loss: 0.6934 - val_accuracy: 0.5030\n",
            "Epoch 3/10\n",
            "313/313 [==============================] - 6s 20ms/step - loss: 0.6987 - accuracy: 0.5061 - val_loss: 0.6944 - val_accuracy: 0.4970\n",
            "Epoch 4/10\n",
            "313/313 [==============================] - 6s 18ms/step - loss: 0.6971 - accuracy: 0.5019 - val_loss: 0.6937 - val_accuracy: 0.4970\n",
            "Epoch 5/10\n",
            "313/313 [==============================] - 6s 20ms/step - loss: 0.6967 - accuracy: 0.4866 - val_loss: 0.6960 - val_accuracy: 0.5030\n",
            "Epoch 6/10\n",
            "313/313 [==============================] - 5s 16ms/step - loss: 0.6954 - accuracy: 0.5001 - val_loss: 0.6935 - val_accuracy: 0.5030\n",
            "Epoch 7/10\n",
            "313/313 [==============================] - 7s 21ms/step - loss: 0.6960 - accuracy: 0.4911 - val_loss: 0.6932 - val_accuracy: 0.5030\n",
            "Epoch 8/10\n",
            "313/313 [==============================] - 5s 17ms/step - loss: 0.6954 - accuracy: 0.4981 - val_loss: 0.6935 - val_accuracy: 0.5030\n",
            "Epoch 9/10\n",
            "313/313 [==============================] - 7s 21ms/step - loss: 0.6951 - accuracy: 0.4993 - val_loss: 0.6942 - val_accuracy: 0.5030\n",
            "Epoch 10/10\n",
            "313/313 [==============================] - 5s 17ms/step - loss: 0.6949 - accuracy: 0.5032 - val_loss: 0.6959 - val_accuracy: 0.5030\n"
          ]
        }
      ]
    },
    {
      "cell_type": "code",
      "metadata": {
        "id": "LcPq-RGe-mmp"
      },
      "source": [
        "filename = 'Z_chatbot_100_epochs.h5'\n",
        "model.save(filename)"
      ],
      "execution_count": 48,
      "outputs": []
    },
    {
      "cell_type": "code",
      "metadata": {
        "id": "yrXDBLjD-mmu"
      },
      "source": [
        "#To load a model that we have already trained and saved:\n",
        "model.load_weights('Z_chatbot_100_epochs.h5')"
      ],
      "execution_count": 49,
      "outputs": []
    },
    {
      "cell_type": "code",
      "metadata": {
        "id": "oKq6LVeH-mmy",
        "colab": {
          "base_uri": "https://localhost:8080/"
        },
        "outputId": "b7e86296-f4e1-40de-d0d7-fefc6aa9c975"
      },
      "source": [
        "#Lets check out the predictions on the test set:\n",
        "#These are just probabilities for every single word on the vocab\n",
        "pred_results = model.predict(([inputs_test,questions_test]))"
      ],
      "execution_count": 50,
      "outputs": [
        {
          "output_type": "stream",
          "name": "stdout",
          "text": [
            "32/32 [==============================] - 1s 4ms/step\n"
          ]
        }
      ]
    },
    {
      "cell_type": "code",
      "metadata": {
        "id": "pN2nm6gf-mm2",
        "colab": {
          "base_uri": "https://localhost:8080/"
        },
        "outputId": "d27110db-5f22-49a4-d50f-afd85dbe00b7"
      },
      "source": [
        "#First test data point\n",
        "test_data[0]"
      ],
      "execution_count": 51,
      "outputs": [
        {
          "output_type": "execute_result",
          "data": {
            "text/plain": [
              "(['Mary',\n",
              "  'got',\n",
              "  'the',\n",
              "  'milk',\n",
              "  'there',\n",
              "  '.',\n",
              "  'John',\n",
              "  'moved',\n",
              "  'to',\n",
              "  'the',\n",
              "  'bedroom',\n",
              "  '.'],\n",
              " ['Is', 'John', 'in', 'the', 'kitchen', '?'],\n",
              " 'no')"
            ]
          },
          "metadata": {},
          "execution_count": 51
        }
      ]
    },
    {
      "cell_type": "code",
      "metadata": {
        "id": "O4ae6lRR-mm5",
        "colab": {
          "base_uri": "https://localhost:8080/"
        },
        "outputId": "eb130f90-86e7-4f5b-91a2-97611d1e5bfa"
      },
      "source": [
        "#These are the probabilities for the vocab words using the 1st sentence\n",
        "pred_results[0]"
      ],
      "execution_count": 52,
      "outputs": [
        {
          "output_type": "execute_result",
          "data": {
            "text/plain": [
              "array([2.2259530e-07, 1.8268750e-07, 2.1535004e-07, 1.9866428e-07,\n",
              "       2.0431054e-07, 1.8660683e-07, 2.4095345e-07, 1.9344766e-07,\n",
              "       1.7379344e-07, 1.7595177e-07, 2.3182170e-07, 4.6050417e-01,\n",
              "       1.7740552e-07, 2.2139280e-07, 1.8970714e-07, 1.8913413e-07,\n",
              "       1.9646330e-07, 2.3427356e-07, 1.7612267e-07, 2.0829370e-07,\n",
              "       2.0681588e-07, 2.0721865e-07, 1.9322863e-07, 2.1326579e-07,\n",
              "       1.9052156e-07, 2.0180472e-07, 2.0090334e-07, 1.9065679e-07,\n",
              "       2.0848091e-07, 1.9787581e-07, 1.7418370e-07, 5.3948873e-01,\n",
              "       2.1478600e-07, 2.1963641e-07, 1.7755548e-07, 1.7804926e-07,\n",
              "       1.8592578e-07, 1.9482029e-07], dtype=float32)"
            ]
          },
          "metadata": {},
          "execution_count": 52
        }
      ]
    },
    {
      "cell_type": "code",
      "metadata": {
        "id": "o1N0IbjC-mm8"
      },
      "source": [
        "val_max = np.argmax(pred_results[0])"
      ],
      "execution_count": 53,
      "outputs": []
    },
    {
      "cell_type": "code",
      "metadata": {
        "id": "aewQoy7m-mm-",
        "colab": {
          "base_uri": "https://localhost:8080/"
        },
        "outputId": "cdb93de7-e8cb-43c6-cb28-d9081cb2b475"
      },
      "source": [
        "for key,val in tokenizer.word_index.items():\n",
        "    if val == val_max:\n",
        "        k = key\n",
        "print(k)"
      ],
      "execution_count": 54,
      "outputs": [
        {
          "output_type": "stream",
          "name": "stdout",
          "text": [
            "no\n"
          ]
        }
      ]
    },
    {
      "cell_type": "code",
      "metadata": {
        "id": "LBEmehXd-mnC",
        "colab": {
          "base_uri": "https://localhost:8080/"
        },
        "outputId": "32496dd4-e979-4979-b02e-663e6ee3b1e6"
      },
      "source": [
        "#See probability:\n",
        "pred_results[0][val_max]"
      ],
      "execution_count": 55,
      "outputs": [
        {
          "output_type": "execute_result",
          "data": {
            "text/plain": [
              "0.53948873"
            ]
          },
          "metadata": {},
          "execution_count": 55
        }
      ]
    },
    {
      "cell_type": "code",
      "metadata": {
        "id": "4ULNaig_-mnF",
        "colab": {
          "base_uri": "https://localhost:8080/"
        },
        "outputId": "79ae9e6f-1df8-47fd-ab45-ef513202d99d"
      },
      "source": [
        "#Now, we can make our own questions using the vocabulary we have\n",
        "vocab"
      ],
      "execution_count": 56,
      "outputs": [
        {
          "output_type": "execute_result",
          "data": {
            "text/plain": [
              "{'.',\n",
              " '?',\n",
              " 'Daniel',\n",
              " 'Is',\n",
              " 'John',\n",
              " 'Mary',\n",
              " 'Sandra',\n",
              " 'apple',\n",
              " 'back',\n",
              " 'bathroom',\n",
              " 'bedroom',\n",
              " 'discarded',\n",
              " 'down',\n",
              " 'dropped',\n",
              " 'football',\n",
              " 'garden',\n",
              " 'got',\n",
              " 'grabbed',\n",
              " 'hallway',\n",
              " 'in',\n",
              " 'journeyed',\n",
              " 'kitchen',\n",
              " 'left',\n",
              " 'milk',\n",
              " 'moved',\n",
              " 'no',\n",
              " 'office',\n",
              " 'picked',\n",
              " 'put',\n",
              " 'the',\n",
              " 'there',\n",
              " 'to',\n",
              " 'took',\n",
              " 'travelled',\n",
              " 'up',\n",
              " 'went',\n",
              " 'yes'}"
            ]
          },
          "metadata": {},
          "execution_count": 56
        }
      ]
    },
    {
      "cell_type": "code",
      "metadata": {
        "id": "JSBSNW5f-mnH"
      },
      "source": [
        "my_story = 'Sandra picked up the milk . Mary travelled left . '"
      ],
      "execution_count": 57,
      "outputs": []
    },
    {
      "cell_type": "code",
      "metadata": {
        "id": "Ey5OqNHm-mnJ",
        "colab": {
          "base_uri": "https://localhost:8080/"
        },
        "outputId": "71e3013e-0f07-4279-baa9-6afcc660f504"
      },
      "source": [
        "my_story.split()"
      ],
      "execution_count": 58,
      "outputs": [
        {
          "output_type": "execute_result",
          "data": {
            "text/plain": [
              "['Sandra',\n",
              " 'picked',\n",
              " 'up',\n",
              " 'the',\n",
              " 'milk',\n",
              " '.',\n",
              " 'Mary',\n",
              " 'travelled',\n",
              " 'left',\n",
              " '.']"
            ]
          },
          "metadata": {},
          "execution_count": 58
        }
      ]
    },
    {
      "cell_type": "code",
      "metadata": {
        "id": "ghbFu5Dv-mnL"
      },
      "source": [
        "my_question = 'Sandra got the milk ?'"
      ],
      "execution_count": 59,
      "outputs": []
    },
    {
      "cell_type": "code",
      "metadata": {
        "id": "KYn26Eln-mnO",
        "colab": {
          "base_uri": "https://localhost:8080/"
        },
        "outputId": "1ce1efa1-47ed-479d-cbd6-b5c9fac2be6a"
      },
      "source": [
        "my_question.split()"
      ],
      "execution_count": 60,
      "outputs": [
        {
          "output_type": "execute_result",
          "data": {
            "text/plain": [
              "['Sandra', 'got', 'the', 'milk', '?']"
            ]
          },
          "metadata": {},
          "execution_count": 60
        }
      ]
    },
    {
      "cell_type": "code",
      "metadata": {
        "id": "udROY2xx-mnR"
      },
      "source": [
        "#Put the data in the same format as before\n",
        "my_data = [(my_story.split(), my_question.split(),'yes')]"
      ],
      "execution_count": 61,
      "outputs": []
    },
    {
      "cell_type": "code",
      "metadata": {
        "id": "zvncfqdT-mnT"
      },
      "source": [
        "#Vectorize this data\n",
        "my_story, my_ques, my_ans = vectorize_stories(my_data)"
      ],
      "execution_count": 62,
      "outputs": []
    },
    {
      "cell_type": "code",
      "metadata": {
        "id": "jA-k1REM-mnV",
        "colab": {
          "base_uri": "https://localhost:8080/"
        },
        "outputId": "8911b751-4622-47d2-c25d-6329e3a8a03b"
      },
      "source": [
        "#Make the prediction\n",
        "pred_results = model.predict(([my_story,my_ques]))"
      ],
      "execution_count": 63,
      "outputs": [
        {
          "output_type": "stream",
          "name": "stdout",
          "text": [
            "1/1 [==============================] - 0s 24ms/step\n"
          ]
        }
      ]
    },
    {
      "cell_type": "code",
      "metadata": {
        "id": "QaVFVfoS-mnY"
      },
      "source": [
        "val_max = np.argmax(pred_results[0])"
      ],
      "execution_count": 64,
      "outputs": []
    },
    {
      "cell_type": "code",
      "metadata": {
        "id": "6-BvXFkC-mna"
      },
      "source": [
        "#Correct prediction!\n",
        "for key,val in tokenizer.word_index.items():\n",
        "    if val == val_max:\n",
        "        k = key\n",
        "print(k)"
      ],
      "execution_count": null,
      "outputs": []
    },
    {
      "cell_type": "code",
      "metadata": {
        "id": "mXlC99iu-mnc"
      },
      "source": [
        "#Confidence\n",
        "pred_results[0][val_max]"
      ],
      "execution_count": null,
      "outputs": []
    }
  ]
}