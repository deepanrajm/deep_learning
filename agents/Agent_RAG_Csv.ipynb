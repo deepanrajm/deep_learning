{
 "cells": [
  {
   "cell_type": "code",
   "execution_count": null,
   "id": "cd9eb787",
   "metadata": {},
   "outputs": [],
   "source": [
    "!pip install  tabulate"
   ]
  },
  {
   "cell_type": "code",
   "execution_count": 1,
   "id": "bffbfcf8",
   "metadata": {},
   "outputs": [],
   "source": [
    "import pandas as pd\n",
    "import os\n",
    "from langchain_community.chat_models import ChatOpenAI\n",
    "from langchain_experimental.agents.agent_toolkits import create_csv_agent\n",
    "from langchain.agents.agent_types import AgentType"
   ]
  },
  {
   "cell_type": "code",
   "execution_count": 2,
   "id": "51dd7bbf",
   "metadata": {},
   "outputs": [],
   "source": [
    "csv_file_path = 'sales_report.csv'"
   ]
  },
  {
   "cell_type": "code",
   "execution_count": null,
   "id": "a938f553",
   "metadata": {},
   "outputs": [],
   "source": [
    "llm = ChatOpenAI(openai_api_base=\"http://localhost:1234/v1\", openai_api_key=\"lm_studio\", model=\"local-model\")"
   ]
  },
  {
   "cell_type": "code",
   "execution_count": null,
   "id": "fc431293",
   "metadata": {},
   "outputs": [],
   "source": [
    "print(\"\\nCreating CSV Agent...\")\n",
    "agent_executor = create_csv_agent(\n",
    "    llm,\n",
    "    csv_file_path,\n",
    "    verbose=True, \n",
    "    agent_type=AgentType.ZERO_SHOT_REACT_DESCRIPTION,\n",
    "    allow_dangerous_code=True, # Allow the agent to execute python code\n",
    "    handle_parsing_errors=True # Handle cases where the LLM output is not perfectly formatted\n",
    "\n",
    ")\n",
    "print(\"Agent is ready.\")"
   ]
  },
  {
   "cell_type": "code",
   "execution_count": null,
   "id": "06dc49f8",
   "metadata": {},
   "outputs": [],
   "source": [
    "AGENT_PREFIX = \"\"\"\n",
    "You are working with a pandas dataframe in Python. The name of the dataframe is `df`.\n",
    "You should use the tools below to answer the question posed of you.\n",
    "You have access to a single tool: `python_repl_ast`.\n",
    "Use this to process the dataframe and return the final answer.\n",
    "\n",
    "Your response MUST be in the following format:\n",
    "\n",
    "Question: the user's question\n",
    "Thought: I need to use pandas to find the answer. I will write the code to do that.\n",
    "Action: python_repl_ast\n",
    "Action Input: a single, valid line of pandas code to run\n",
    "\n",
    "Example:\n",
    "Question: how many rows are there?\n",
    "Thought: I need to count the rows in the dataframe.\n",
    "Action: python_repl_ast\n",
    "Action Input: df.shape[0]\n",
    "\"\"\"\n",
    "\n",
    "print(\"\\nCreating CSV Agent with a guiding prefix...\")\n",
    "agent_executor = create_csv_agent(\n",
    "    llm,\n",
    "    csv_file_path,\n",
    "    verbose=True,\n",
    "    agent_type=AgentType.ZERO_SHOT_REACT_DESCRIPTION,\n",
    "    allow_dangerous_code=True,\n",
    "    handle_parsing_errors=True,\n",
    "    prefix=AGENT_PREFIX\n",
    ")\n",
    "print(\"Agent is ready.\")"
   ]
  },
  {
   "cell_type": "code",
   "execution_count": null,
   "id": "72df6d72",
   "metadata": {},
   "outputs": [],
   "source": [
    "query1 = \"What was the total sale amount for the North region?\"\n",
    "print(f\"\\nQuestion: {query1}\")\n",
    "response1 = agent_executor.invoke(query1)\n",
    "print(\"Answer:\", response1['output'])\n"
   ]
  },
  {
   "cell_type": "code",
   "execution_count": null,
   "id": "db2f99a1",
   "metadata": {},
   "outputs": [],
   "source": [
    "query1 = \"how many laptops sold in south region\"\n",
    "print(f\"\\nQuestion: {query1}\")\n",
    "response1 = agent_executor.invoke(query1)\n",
    "print(\"Answer:\", response1['output'])"
   ]
  }
 ],
 "metadata": {
  "kernelspec": {
   "display_name": "rag",
   "language": "python",
   "name": "python3"
  },
  "language_info": {
   "codemirror_mode": {
    "name": "ipython",
    "version": 3
   },
   "file_extension": ".py",
   "mimetype": "text/x-python",
   "name": "python",
   "nbconvert_exporter": "python",
   "pygments_lexer": "ipython3",
   "version": "3.9.21"
  }
 },
 "nbformat": 4,
 "nbformat_minor": 5
}
