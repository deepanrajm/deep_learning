{
 "cells": [
  {
   "cell_type": "code",
   "execution_count": 5,
   "id": "cd9eb787",
   "metadata": {},
   "outputs": [
    {
     "name": "stdout",
     "output_type": "stream",
     "text": [
      "Collecting tabulate\n",
      "  Using cached tabulate-0.9.0-py3-none-any.whl.metadata (34 kB)\n",
      "Using cached tabulate-0.9.0-py3-none-any.whl (35 kB)\n",
      "Installing collected packages: tabulate\n",
      "Successfully installed tabulate-0.9.0\n"
     ]
    }
   ],
   "source": [
    "!pip install  tabulate"
   ]
  },
  {
   "cell_type": "code",
   "execution_count": 1,
   "id": "bffbfcf8",
   "metadata": {},
   "outputs": [],
   "source": [
    "import pandas as pd\n",
    "import os\n",
    "from langchain_community.chat_models import ChatOpenAI\n",
    "from langchain_experimental.agents.agent_toolkits import create_csv_agent\n",
    "from langchain.agents.agent_types import AgentType"
   ]
  },
  {
   "cell_type": "code",
   "execution_count": 2,
   "id": "51dd7bbf",
   "metadata": {},
   "outputs": [],
   "source": [
    "csv_file_path = 'sales_report.csv'"
   ]
  },
  {
   "cell_type": "code",
   "execution_count": 3,
   "id": "a938f553",
   "metadata": {},
   "outputs": [
    {
     "name": "stderr",
     "output_type": "stream",
     "text": [
      "c:\\Users\\deepa\\.conda\\envs\\rag\\lib\\site-packages\\langchain_core\\_api\\deprecation.py:119: LangChainDeprecationWarning: The class `ChatOpenAI` was deprecated in LangChain 0.0.10 and will be removed in 0.2.0. An updated version of the class exists in the langchain-openai package and should be used instead. To use it run `pip install -U langchain-openai` and import as `from langchain_openai import ChatOpenAI`.\n",
      "  warn_deprecated(\n"
     ]
    }
   ],
   "source": [
    "llm = ChatOpenAI(openai_api_base=\"http://localhost:1234/v1\", openai_api_key=\"lm_studio\", model=\"local-model\")"
   ]
  },
  {
   "cell_type": "code",
   "execution_count": null,
   "id": "fc431293",
   "metadata": {},
   "outputs": [],
   "source": [
    "print(\"\\nCreating CSV Agent...\")\n",
    "agent_executor = create_csv_agent(\n",
    "    llm,\n",
    "    csv_file_path,\n",
    "    verbose=True, \n",
    "    agent_type=AgentType.ZERO_SHOT_REACT_DESCRIPTION,\n",
    "    allow_dangerous_code=True, # Allow the agent to execute python code\n",
    "    handle_parsing_errors=True # Handle cases where the LLM output is not perfectly formatted\n",
    "\n",
    ")\n",
    "print(\"Agent is ready.\")"
   ]
  },
  {
   "cell_type": "code",
   "execution_count": 16,
   "id": "06dc49f8",
   "metadata": {},
   "outputs": [
    {
     "name": "stdout",
     "output_type": "stream",
     "text": [
      "\n",
      "Creating CSV Agent with a guiding prefix...\n",
      "Agent is ready.\n"
     ]
    },
    {
     "name": "stderr",
     "output_type": "stream",
     "text": [
      "c:\\Users\\deepa\\.conda\\envs\\rag\\lib\\site-packages\\langchain_experimental\\agents\\agent_toolkits\\pandas\\base.py:242: UserWarning: Received additional kwargs {'allow_dangerous_code': True, 'handle_parsing_errors': True} which are no longer supported.\n",
      "  warnings.warn(\n"
     ]
    }
   ],
   "source": [
    "AGENT_PREFIX = \"\"\"\n",
    "You are working with a pandas dataframe in Python. The name of the dataframe is `df`.\n",
    "You should use the tools below to answer the question posed of you.\n",
    "You have access to a single tool: `python_repl_ast`.\n",
    "Use this to process the dataframe and return the final answer.\n",
    "\n",
    "Your response MUST be in the following format:\n",
    "\n",
    "Question: the user's question\n",
    "Thought: I need to use pandas to find the answer. I will write the code to do that.\n",
    "Action: python_repl_ast\n",
    "Action Input: a single, valid line of pandas code to run\n",
    "\n",
    "Example:\n",
    "Question: how many rows are there?\n",
    "Thought: I need to count the rows in the dataframe.\n",
    "Action: python_repl_ast\n",
    "Action Input: df.shape[0]\n",
    "\"\"\"\n",
    "\n",
    "print(\"\\nCreating CSV Agent with a guiding prefix...\")\n",
    "agent_executor = create_csv_agent(\n",
    "    llm,\n",
    "    csv_file_path,\n",
    "    verbose=True,\n",
    "    agent_type=AgentType.ZERO_SHOT_REACT_DESCRIPTION,\n",
    "    allow_dangerous_code=True,\n",
    "    handle_parsing_errors=True,\n",
    "    prefix=AGENT_PREFIX\n",
    ")\n",
    "print(\"Agent is ready.\")"
   ]
  },
  {
   "cell_type": "code",
   "execution_count": 17,
   "id": "72df6d72",
   "metadata": {},
   "outputs": [
    {
     "name": "stdout",
     "output_type": "stream",
     "text": [
      "\n",
      "Question: What was the total sale amount for the North region?\n",
      "\n",
      "\n",
      "\u001b[1m> Entering new AgentExecutor chain...\u001b[0m\n",
      "\u001b[32;1m\u001b[1;3mThought: I need to find the sum of the sales amounts for the North region.\n",
      "Action: python_repl_ast\n",
      "Action Input: df[df['Region'] == 'North']['Sale Amount'].sum() \u001b[0m\u001b[36;1m\u001b[1;3m17000\u001b[0m\u001b[32;1m\u001b[1;3mThought: I now know the final answer\n",
      "Final Answer: 17000 \n",
      "\u001b[0m\n",
      "\n",
      "\u001b[1m> Finished chain.\u001b[0m\n",
      "Answer: 17000\n"
     ]
    }
   ],
   "source": [
    "query1 = \"What was the total sale amount for the North region?\"\n",
    "print(f\"\\nQuestion: {query1}\")\n",
    "response1 = agent_executor.invoke(query1)\n",
    "print(\"Answer:\", response1['output'])\n"
   ]
  },
  {
   "cell_type": "code",
   "execution_count": 18,
   "id": "db2f99a1",
   "metadata": {},
   "outputs": [
    {
     "name": "stdout",
     "output_type": "stream",
     "text": [
      "\n",
      "Question: how many laptops sold in south region\n",
      "\n",
      "\n",
      "\u001b[1m> Entering new AgentExecutor chain...\u001b[0m\n",
      "\u001b[32;1m\u001b[1;3mThought: I need to count the number of rows where the 'Region' is 'South' and the product is 'Laptop'. \n",
      "Action: python_repl_ast\n",
      "Action Input: df[df['Region'] == 'South'][df['Product'] == 'Laptop']['Units Sold'].sum() \u001b[0m\u001b[36;1m\u001b[1;3m5\u001b[0m"
     ]
    },
    {
     "name": "stderr",
     "output_type": "stream",
     "text": [
      "<string>:1: UserWarning: Boolean Series key will be reindexed to match DataFrame index.\n"
     ]
    },
    {
     "name": "stdout",
     "output_type": "stream",
     "text": [
      "\u001b[32;1m\u001b[1;3mThought: I now know the final answer\n",
      "Final Answer: 5 \n",
      "\u001b[0m\n",
      "\n",
      "\u001b[1m> Finished chain.\u001b[0m\n",
      "Answer: 5\n"
     ]
    }
   ],
   "source": [
    "query1 = \"how many laptops sold in south region\"\n",
    "print(f\"\\nQuestion: {query1}\")\n",
    "response1 = agent_executor.invoke(query1)\n",
    "print(\"Answer:\", response1['output'])"
   ]
  }
 ],
 "metadata": {
  "kernelspec": {
   "display_name": "rag",
   "language": "python",
   "name": "python3"
  },
  "language_info": {
   "codemirror_mode": {
    "name": "ipython",
    "version": 3
   },
   "file_extension": ".py",
   "mimetype": "text/x-python",
   "name": "python",
   "nbconvert_exporter": "python",
   "pygments_lexer": "ipython3",
   "version": "3.9.21"
  }
 },
 "nbformat": 4,
 "nbformat_minor": 5
}
