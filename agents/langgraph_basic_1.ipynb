{
 "cells": [
  {
   "cell_type": "code",
   "execution_count": null,
   "id": "0200e82a",
   "metadata": {},
   "outputs": [],
   "source": [
    "import os\n",
    "import operator\n",
    "from typing import TypedDict, Annotated, List\n",
    "from dotenv import load_dotenv\n",
    "\n",
    "from langchain_core.prompts import ChatPromptTemplate\n",
    "from langchain_openai import ChatOpenAI\n",
    "from langchain_community.utilities import SerpAPIWrapper\n",
    "from langgraph.graph import StateGraph, END"
   ]
  },
  {
   "cell_type": "code",
   "execution_count": null,
   "id": "389f99ee",
   "metadata": {},
   "outputs": [],
   "source": [
    "os.environ[\"SERPAPI_API_KEY\"] = \"42a63592c032fc7a97f972c068c18c2055f7409b1886d53270e4e77d089fd71f\"\n",
    "\n",
    "llm = ChatOpenAI(\n",
    "    api_key=\"not-needed\",\n",
    "    base_url=\"http://localhost:1234/v1\",\n",
    "    model=\"local-model\",\n",
    "    temperature=0,\n",
    "    streaming=True\n",
    ")"
   ]
  },
  {
   "cell_type": "code",
   "execution_count": null,
   "id": "2891b362",
   "metadata": {},
   "outputs": [],
   "source": [
    "# --- Tool Definition ---\n",
    "# Instantiate the SerpAPI search tool.\n",
    "search_tool = SerpAPIWrapper()\n",
    "\n",
    "# --- State Definition ---\n",
    "# This defines the \"memory\" or \"state\" that flows through the graph.\n",
    "class ResearchState(TypedDict):\n",
    "    topic: str\n",
    "    explanation: str\n",
    "    summary: str\n"
   ]
  },
  {
   "cell_type": "code",
   "execution_count": null,
   "id": "6dc97a34",
   "metadata": {},
   "outputs": [],
   "source": [
    "def researcher_agent(state: ResearchState) -> dict:\n",
    "    \"\"\"\n",
    "    This agent uses a web search tool to find information on a topic and then explains it.\n",
    "    \"\"\"\n",
    "    print(\"---RESEARCHER (with SerpApi Web Search)---\")\n",
    "    topic = state[\"topic\"]\n",
    "    \n",
    "    # Use the tool to search for information. The .run() method takes the query string.\n",
    "    search_results = search_tool.run(topic)\n",
    "    \n",
    "    print(f\"Search Results:\\n{search_results}\")\n",
    "\n",
    "    prompt = ChatPromptTemplate.from_template(\n",
    "        \"\"\"You are a helpful research assistant. Based on the following search results,\n",
    "        provide a brief, easy-to-understand explanation of the topic: {topic}.\n",
    "\n",
    "        Search Results:\n",
    "        {search_results}\n",
    "        \"\"\"\n",
    "    )\n",
    "    \n",
    "    chain = prompt | llm\n",
    "    result = chain.invoke({\"topic\": topic, \"search_results\": search_results})\n",
    "    \n",
    "    print(f\"Researcher's Explanation:\\n{result.content}\")\n",
    "    return {\"explanation\": result.content}"
   ]
  },
  {
   "cell_type": "code",
   "execution_count": null,
   "id": "d137f518",
   "metadata": {},
   "outputs": [],
   "source": [
    "def summarizer_agent(state: ResearchState) -> dict:\n",
    "    \"\"\"\n",
    "    This agent takes an explanation and summarizes it in one sentence.\n",
    "    \"\"\"\n",
    "    print(\"---SUMMARIZER---\")\n",
    "    explanation = state[\"explanation\"]\n",
    "\n",
    "    prompt = ChatPromptTemplate.from_template(\n",
    "        \"You are a summarization expert. Condense the following text into a single, concise sentence:\\n\\n{explanation}\"\n",
    "    )\n",
    "    \n",
    "    chain = prompt | llm\n",
    "    result = chain.invoke({\"explanation\": explanation})\n",
    "    \n",
    "    print(f\"Summarizer's Output:\\n{result.content}\")\n",
    "    return {\"summary\": result.content}"
   ]
  },
  {
   "cell_type": "code",
   "execution_count": null,
   "id": "67d37079",
   "metadata": {},
   "outputs": [],
   "source": [
    "# --- Graph Definition ---\n",
    "\n",
    "workflow = StateGraph(ResearchState)\n",
    "\n",
    "# Add the agent functions as nodes\n",
    "workflow.add_node(\"researcher\", researcher_agent)\n",
    "workflow.add_node(\"summarizer\", summarizer_agent)\n",
    "\n",
    "# Define the edges, which control the flow\n",
    "workflow.add_edge(\"researcher\", \"summarizer\")\n",
    "workflow.add_edge(\"summarizer\", END)\n",
    "\n",
    "# Set the entry point\n",
    "workflow.set_entry_point(\"researcher\")\n",
    "\n",
    "# Compile the graph\n",
    "app = workflow.compile()"
   ]
  },
  {
   "cell_type": "code",
   "execution_count": null,
   "id": "adbe03ed",
   "metadata": {},
   "outputs": [],
   "source": [
    "# --- Main Execution Block ---\n",
    "if __name__ == \"__main__\":\n",
    "    topic = input(\"Please enter a topic for the agents to research and summarize: \")\n",
    "\n",
    "    inputs = {\"topic\": topic}\n",
    "    final_state = app.invoke(inputs)\n",
    "    \n",
    "    print(\"\\n--- FINAL SUMMARY ---\")\n",
    "    print(final_state['summary'])"
   ]
  }
 ],
 "metadata": {
  "kernelspec": {
   "display_name": "agents",
   "language": "python",
   "name": "python3"
  },
  "language_info": {
   "codemirror_mode": {
    "name": "ipython",
    "version": 3
   },
   "file_extension": ".py",
   "mimetype": "text/x-python",
   "name": "python",
   "nbconvert_exporter": "python",
   "pygments_lexer": "ipython3",
   "version": "3.11.9"
  }
 },
 "nbformat": 4,
 "nbformat_minor": 5
}
