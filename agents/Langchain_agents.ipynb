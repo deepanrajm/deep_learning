{
 "cells": [
  {
   "cell_type": "markdown",
   "id": "2ef6f457",
   "metadata": {},
   "source": [
    "Install Dependencies"
   ]
  },
  {
   "cell_type": "markdown",
   "id": "2ab4bf67",
   "metadata": {},
   "source": [
    "Connect to LLM"
   ]
  },
  {
   "cell_type": "code",
   "execution_count": null,
   "id": "c892c928",
   "metadata": {},
   "outputs": [],
   "source": [
    "# from langchain.chat_models import ChatOpenAI\n",
    "\n",
    "# llm = ChatOpenAI(openai_api_base = \"http://localhost:1234/v1\", openai_api_key = \"lm_studio\", model = \"qwen3-0.6b\",temperature=0.8,model_kwargs={\"seed\": 42}) #max_tokens=100"
   ]
  },
  {
   "cell_type": "code",
   "execution_count": 65,
   "id": "912dec38",
   "metadata": {},
   "outputs": [],
   "source": [
    "from langchain.chat_models import ChatOpenAI\n",
    "\n",
    "llm = ChatOpenAI(openai_api_base = \"https://openrouter.ai/api/v1\", openai_api_key = \"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\", model = \"deepseek/deepseek-chat-v3.1:free\",temperature=0.9) #max_tokens=100"
   ]
  },
  {
   "cell_type": "code",
   "execution_count": null,
   "id": "53e0d1a1",
   "metadata": {},
   "outputs": [],
   "source": [
    "# from langchain_community.llms import Ollama\n",
    "# llm = Ollama(model=\"llama3.2:1b\")"
   ]
  },
  {
   "cell_type": "markdown",
   "id": "35faadf7",
   "metadata": {},
   "source": [
    "Remove thinking Section"
   ]
  },
  {
   "cell_type": "code",
   "execution_count": 45,
   "id": "5b285f70",
   "metadata": {},
   "outputs": [],
   "source": [
    "import re\n",
    "\n",
    "def remove_think_sections(text):\n",
    "    return re.sub(r\"<think>.*?</think>\", \"\", text)"
   ]
  },
  {
   "cell_type": "markdown",
   "id": "b238887b",
   "metadata": {},
   "source": [
    "Agents"
   ]
  },
  {
   "cell_type": "code",
   "execution_count": null,
   "id": "0d42278a",
   "metadata": {},
   "outputs": [],
   "source": [
    "!pip install google-search-results"
   ]
  },
  {
   "cell_type": "code",
   "execution_count": null,
   "id": "f6512e61",
   "metadata": {},
   "outputs": [],
   "source": [
    "!pip install numexpr"
   ]
  },
  {
   "cell_type": "code",
   "execution_count": null,
   "id": "2dad9c45",
   "metadata": {},
   "outputs": [],
   "source": [
    "import os\n",
    "from langchain.chat_models import ChatOpenAI\n",
    "from langchain.agents import AgentType, initialize_agent, load_tools\n",
    "\n",
    "# set serpapi key\n",
    "os.environ[\"SERPAPI_API_KEY\"] = \"42a63592c032fc7a97f972c068c18c2055f7409b1886d53270e4e77d089fd71f\"\n",
    "\n",
    "# # local model\n",
    "# llm = ChatOpenAI(\n",
    "#     openai_api_base=\"http://localhost:1234/v1\",\n",
    "#     openai_api_key=\"lm_studio\",\n",
    "#     model=\"llama-3.2-1b-instruct\",\n",
    "#     temperature=0.9\n",
    "# )\n",
    "\n",
    "# tools\n",
    "tools = load_tools([\"serpapi\", \"llm-math\"], llm=llm) #bing-search, python_repl,terminal,arxiv,youtube-search\n",
    "\n",
    "# agent\n",
    "agent = initialize_agent(\n",
    "    tools,\n",
    "    llm,\n",
    "    agent=AgentType.CHAT_ZERO_SHOT_REACT_DESCRIPTION, \n",
    "    verbose=True,\n",
    "    handle_parsing_errors=True\n",
    ")\n",
    "\n",
    "# test\n",
    "print(agent.run(\"what the bitcoin price today and convert it into INR?\"))"
   ]
  },
  {
   "cell_type": "code",
   "execution_count": null,
   "id": "61cd7e7f",
   "metadata": {},
   "outputs": [],
   "source": [
    "!pip install wikipedia"
   ]
  },
  {
   "cell_type": "code",
   "execution_count": null,
   "id": "0e1d66a4",
   "metadata": {},
   "outputs": [],
   "source": [
    "import os\n",
    "from langchain.chat_models import ChatOpenAI\n",
    "from langchain.agents import AgentType, initialize_agent, load_tools\n",
    "\n",
    "\n",
    "# llm = ChatOpenAI(\n",
    "#     openai_api_base=\"http://localhost:1234/v1\",\n",
    "#     openai_api_key=\"lm_studio\",\n",
    "#     model=\"llama-3.2-1b-instruct\",\n",
    "#     temperature=0.9\n",
    "# )\n",
    "\n",
    "# tools (wikipedia + math)\n",
    "tools = load_tools([\"wikipedia\", \"llm-math\"], llm=llm)\n",
    "\n",
    "\n",
    "agent = initialize_agent(\n",
    "    tools,\n",
    "    llm,\n",
    "    agent=AgentType.CHAT_ZERO_SHOT_REACT_DESCRIPTION,  \n",
    "    verbose=True,\n",
    "    handle_parsing_errors=True  \n",
    ")\n",
    "\n",
    "\n",
    "print(agent.run(\"What is this year raised to the 0.43 power?\"))\n",
    "\n",
    "#In what year was the film Departed with Leonardo DiCaprio released?\n",
    "# \"What is this year raised to the 0.43 power?\"\n"
   ]
  }
 ],
 "metadata": {
  "kernelspec": {
   "display_name": "rag",
   "language": "python",
   "name": "python3"
  },
  "language_info": {
   "codemirror_mode": {
    "name": "ipython",
    "version": 3
   },
   "file_extension": ".py",
   "mimetype": "text/x-python",
   "name": "python",
   "nbconvert_exporter": "python",
   "pygments_lexer": "ipython3",
   "version": "3.9.21"
  }
 },
 "nbformat": 4,
 "nbformat_minor": 5
}
