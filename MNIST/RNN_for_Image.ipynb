{
  "nbformat": 4,
  "nbformat_minor": 0,
  "metadata": {
    "colab": {
      "name": "RNN_for_Image.ipynb",
      "provenance": [],
      "include_colab_link": true
    },
    "kernelspec": {
      "name": "python3",
      "display_name": "Python 3"
    },
    "language_info": {
      "name": "python"
    },
    "accelerator": "GPU"
  },
  "cells": [
    {
      "cell_type": "markdown",
      "metadata": {
        "id": "view-in-github",
        "colab_type": "text"
      },
      "source": [
        "<a href=\"https://colab.research.google.com/github/deepanrajm/deep_learning/blob/master/MNIST/RNN_for_Image.ipynb\" target=\"_parent\"><img src=\"https://colab.research.google.com/assets/colab-badge.svg\" alt=\"Open In Colab\"/></a>"
      ]
    },
    {
      "cell_type": "code",
      "execution_count": 13,
      "metadata": {
        "id": "8i-4S4GENBJG"
      },
      "outputs": [],
      "source": [
        "import numpy as np\n",
        "from tensorflow.keras.models import Sequential\n",
        "from tensorflow.keras.layers import Dense, Activation, SimpleRNN\n",
        "from tensorflow.keras.utils import to_categorical, plot_model\n",
        "from tensorflow.keras.datasets import mnist\n",
        "import tensorflow"
      ]
    },
    {
      "cell_type": "code",
      "source": [
        "# load mnist dataset\n",
        "(x_train, y_train), (x_test, y_test) = mnist.load_data()"
      ],
      "metadata": {
        "id": "fe9eFH5LV_JZ"
      },
      "execution_count": null,
      "outputs": []
    },
    {
      "cell_type": "code",
      "source": [
        "# compute the number of labels\n",
        "num_labels = len(np.unique(y_train))"
      ],
      "metadata": {
        "id": "Bx40jn1yWFjA"
      },
      "execution_count": 3,
      "outputs": []
    },
    {
      "cell_type": "code",
      "source": [
        "# convert to one-hot vector\n",
        "y_train = to_categorical(y_train)\n",
        "y_test = to_categorical(y_test)"
      ],
      "metadata": {
        "id": "2aYil0q0WINe"
      },
      "execution_count": 4,
      "outputs": []
    },
    {
      "cell_type": "code",
      "source": [
        "# resize and normalize\n",
        "image_size = x_train.shape[1]\n",
        "x_train = np.reshape(x_train,[-1, image_size, image_size])\n",
        "x_test = np.reshape(x_test,[-1, image_size, image_size])\n",
        "x_train = x_train.astype('float32') / 255\n",
        "x_test = x_test.astype('float32') / 255"
      ],
      "metadata": {
        "id": "n8cpqJPBWLz8"
      },
      "execution_count": 5,
      "outputs": []
    },
    {
      "cell_type": "code",
      "source": [
        "# network parameters\n",
        "input_shape = (image_size, image_size)\n",
        "batch_size = 128\n",
        "units = 256\n",
        "dropout = 0.2"
      ],
      "metadata": {
        "id": "QI9RqyPaWRKD"
      },
      "execution_count": 6,
      "outputs": []
    },
    {
      "cell_type": "code",
      "source": [
        "# model is RNN with 256 units, input is 28-dim vector 28 timesteps\n",
        "model = Sequential()\n",
        "model.add(SimpleRNN(units=units,\n",
        "                    dropout=dropout,\n",
        "                    input_shape=input_shape))\n",
        "model.add(Dense(num_labels))\n",
        "model.add(Activation('softmax'))\n",
        "model.summary()"
      ],
      "metadata": {
        "id": "RQRNLtLnWXfg"
      },
      "execution_count": null,
      "outputs": []
    },
    {
      "cell_type": "code",
      "source": [
        "input_shape"
      ],
      "metadata": {
        "id": "qcJ0j39KpvfC"
      },
      "execution_count": null,
      "outputs": []
    },
    {
      "cell_type": "code",
      "source": [
        "\n",
        "model.compile(loss='categorical_crossentropy',\n",
        "              optimizer='adam',\n",
        "              metrics=['accuracy'])\n",
        "# train the network\n",
        "model.fit(x_train, y_train, validation_data=(x_test, y_test), epochs=10, batch_size=200, verbose=1)"
      ],
      "metadata": {
        "id": "b3LL1kzIWfhJ"
      },
      "execution_count": null,
      "outputs": []
    },
    {
      "cell_type": "code",
      "source": [
        "scores = model.evaluate(x_test, y_test, verbose=0)\n",
        "print(\"RNN Error: %.2f%%\" % (100-scores[1]*100))"
      ],
      "metadata": {
        "id": "_51vT1TCWi32"
      },
      "execution_count": null,
      "outputs": []
    },
    {
      "cell_type": "code",
      "source": [
        "!git clone https://github.com/deepanrajm/deep_learning.git"
      ],
      "metadata": {
        "id": "oKR_ed4BoDjB"
      },
      "execution_count": null,
      "outputs": []
    },
    {
      "cell_type": "code",
      "source": [
        "img = tensorflow.keras.utils.load_img(\"/content/deep_learning/MNIST/3.png\", target_size=(28,28),color_mode='grayscale')\n",
        "img_array = tensorflow.keras.utils.img_to_array(img)\n",
        "print(img_array.shape)\n",
        "img_array = np.expand_dims(img_array, axis = 0)\n",
        "img_array = img_array / 255\n",
        "\n",
        "predictions = model.predict(img_array)\n",
        "print (np.argmax(predictions))"
      ],
      "metadata": {
        "id": "IpfbqZ9AoFSX"
      },
      "execution_count": null,
      "outputs": []
    }
  ]
}