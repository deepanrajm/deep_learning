{
  "nbformat": 4,
  "nbformat_minor": 0,
  "metadata": {
    "colab": {
      "name": "Untitled7.ipynb",
      "provenance": [],
      "include_colab_link": true
    },
    "kernelspec": {
      "name": "python3",
      "display_name": "Python 3"
    },
    "accelerator": "TPU"
  },
  "cells": [
    {
      "cell_type": "markdown",
      "metadata": {
        "id": "view-in-github",
        "colab_type": "text"
      },
      "source": [
        "<a href=\"https://colab.research.google.com/github/deepanrajm/deep_learning/blob/master/MNIST/mnist_mlp_baseline.ipynb\" target=\"_parent\"><img src=\"https://colab.research.google.com/assets/colab-badge.svg\" alt=\"Open In Colab\"/></a>"
      ]
    },
    {
      "cell_type": "markdown",
      "metadata": {
        "id": "iKd9-7snpsDG"
      },
      "source": [
        "# **Baseline MLP for MNIST dataset**"
      ]
    },
    {
      "cell_type": "markdown",
      "metadata": {
        "id": "YqRW5TldpuhN"
      },
      "source": [
        "**Importing Packages**"
      ]
    },
    {
      "cell_type": "code",
      "metadata": {
        "id": "YaEsArN1pzY1"
      },
      "source": [
        "import numpy\n",
        "from keras.datasets import mnist\n",
        "from keras.models import Sequential\n",
        "from keras.layers import Dense\n",
        "# from keras.layers import Dropout\n",
        "from keras.utils import np_utils"
      ],
      "execution_count": 1,
      "outputs": []
    },
    {
      "cell_type": "code",
      "metadata": {
        "id": "y4WvGb-LprJB"
      },
      "source": [
        "seed = 7\n",
        "numpy.random.seed(seed)"
      ],
      "execution_count": 2,
      "outputs": []
    },
    {
      "cell_type": "markdown",
      "metadata": {
        "id": "PTlQn7u8p5LC"
      },
      "source": [
        "**load data**"
      ]
    },
    {
      "cell_type": "code",
      "metadata": {
        "id": "ccqFxeZHp560",
        "colab": {
          "base_uri": "https://localhost:8080/"
        },
        "outputId": "2b0269d0-0d09-4412-9dc6-45910b199fb2"
      },
      "source": [
        "(X_train, y_train), (X_test, y_test) = mnist.load_data()"
      ],
      "execution_count": 3,
      "outputs": [
        {
          "output_type": "stream",
          "name": "stdout",
          "text": [
            "Downloading data from https://storage.googleapis.com/tensorflow/tf-keras-datasets/mnist.npz\n",
            "11490434/11490434 [==============================] - 0s 0us/step\n"
          ]
        }
      ]
    },
    {
      "cell_type": "markdown",
      "metadata": {
        "id": "NgcQYUSzp9SR"
      },
      "source": [
        "**flatten 28x28 images to a 784 vector for each image **"
      ]
    },
    {
      "cell_type": "code",
      "metadata": {
        "id": "Nab5ycYTqHfW",
        "colab": {
          "base_uri": "https://localhost:8080/"
        },
        "outputId": "8f5c5ea5-5834-460c-da9f-1c214991b08a"
      },
      "source": [
        "num_pixels = X_train.shape[1] * X_train.shape[2]\n",
        "print (X_train.shape)\n",
        "X_train = X_train.reshape(X_train.shape[0], num_pixels).astype('float32')\n",
        "X_test = X_test.reshape(X_test.shape[0], num_pixels).astype('float32')"
      ],
      "execution_count": 4,
      "outputs": [
        {
          "output_type": "stream",
          "name": "stdout",
          "text": [
            "(60000, 28, 28)\n"
          ]
        }
      ]
    },
    {
      "cell_type": "markdown",
      "metadata": {
        "id": "5z5zTzcfqMB1"
      },
      "source": [
        "**normalize inputs from 0-255 to 0-1**"
      ]
    },
    {
      "cell_type": "code",
      "metadata": {
        "id": "ya0mb3clqSik"
      },
      "source": [
        "X_train = X_train / 255\n",
        "X_test = X_test / 255"
      ],
      "execution_count": 5,
      "outputs": []
    },
    {
      "cell_type": "markdown",
      "metadata": {
        "id": "JHbpYZODqUT7"
      },
      "source": [
        "**One Hot Encoding the outputs**"
      ]
    },
    {
      "cell_type": "code",
      "metadata": {
        "id": "r84uDvKyqX7v"
      },
      "source": [
        "y_train = np_utils.to_categorical(y_train)\n",
        "y_test = np_utils.to_categorical(y_test)\n",
        "num_classes = y_test.shape[1]"
      ],
      "execution_count": 6,
      "outputs": []
    },
    {
      "cell_type": "markdown",
      "metadata": {
        "id": "saFMnRssqbdR"
      },
      "source": [
        "**define baseline model**"
      ]
    },
    {
      "cell_type": "code",
      "metadata": {
        "id": "eIx6S5PzqclX"
      },
      "source": [
        "def baseline_model():\n",
        "\t# create model\n",
        "\tmodel = Sequential()\n",
        "\tmodel.add(Dense(num_pixels, input_dim=num_pixels, activation='relu'))\n",
        "\tmodel.add(Dense(num_classes,  activation='softmax'))\n",
        "\t# Compile model\n",
        "\tmodel.compile(loss='categorical_crossentropy', optimizer='adam', metrics=['accuracy'])\n",
        "\treturn model"
      ],
      "execution_count": 10,
      "outputs": []
    },
    {
      "cell_type": "markdown",
      "metadata": {
        "id": "ohdSQ0INqfjk"
      },
      "source": [
        "**Build and Fit the model**"
      ]
    },
    {
      "cell_type": "code",
      "metadata": {
        "id": "Xvk_Bs3PqiIL",
        "colab": {
          "base_uri": "https://localhost:8080/"
        },
        "outputId": "f0a496e6-5845-4c2d-d1d1-61a470731f7b"
      },
      "source": [
        "model = baseline_model()\n",
        "model.fit(X_train, y_train, validation_data=(X_test, y_test), epochs=10, batch_size=200, verbose=2)"
      ],
      "execution_count": 12,
      "outputs": [
        {
          "output_type": "stream",
          "name": "stdout",
          "text": [
            "Epoch 1/10\n",
            "300/300 - 9s - loss: 0.2813 - accuracy: 0.9197 - val_loss: 0.1488 - val_accuracy: 0.9579 - 9s/epoch - 30ms/step\n",
            "Epoch 2/10\n",
            "300/300 - 5s - loss: 0.1128 - accuracy: 0.9672 - val_loss: 0.0931 - val_accuracy: 0.9703 - 5s/epoch - 17ms/step\n",
            "Epoch 3/10\n",
            "300/300 - 7s - loss: 0.0717 - accuracy: 0.9796 - val_loss: 0.0855 - val_accuracy: 0.9736 - 7s/epoch - 22ms/step\n",
            "Epoch 4/10\n",
            "300/300 - 7s - loss: 0.0505 - accuracy: 0.9854 - val_loss: 0.0704 - val_accuracy: 0.9782 - 7s/epoch - 24ms/step\n",
            "Epoch 5/10\n",
            "300/300 - 5s - loss: 0.0368 - accuracy: 0.9893 - val_loss: 0.0617 - val_accuracy: 0.9805 - 5s/epoch - 18ms/step\n",
            "Epoch 6/10\n",
            "300/300 - 8s - loss: 0.0264 - accuracy: 0.9927 - val_loss: 0.0601 - val_accuracy: 0.9813 - 8s/epoch - 26ms/step\n",
            "Epoch 7/10\n",
            "300/300 - 5s - loss: 0.0202 - accuracy: 0.9947 - val_loss: 0.0634 - val_accuracy: 0.9791 - 5s/epoch - 18ms/step\n",
            "Epoch 8/10\n",
            "300/300 - 5s - loss: 0.0137 - accuracy: 0.9970 - val_loss: 0.0690 - val_accuracy: 0.9792 - 5s/epoch - 18ms/step\n",
            "Epoch 9/10\n",
            "300/300 - 12s - loss: 0.0119 - accuracy: 0.9973 - val_loss: 0.0552 - val_accuracy: 0.9838 - 12s/epoch - 40ms/step\n",
            "Epoch 10/10\n",
            "300/300 - 5s - loss: 0.0090 - accuracy: 0.9981 - val_loss: 0.0616 - val_accuracy: 0.9825 - 5s/epoch - 17ms/step\n"
          ]
        },
        {
          "output_type": "execute_result",
          "data": {
            "text/plain": [
              "<keras.callbacks.History at 0x7d14f48ed7e0>"
            ]
          },
          "metadata": {},
          "execution_count": 12
        }
      ]
    },
    {
      "cell_type": "markdown",
      "metadata": {
        "id": "ZVDxQGJSqmDR"
      },
      "source": [
        "**Final evaluation of the model**"
      ]
    },
    {
      "cell_type": "code",
      "metadata": {
        "id": "ZBLeBwHtqoBU",
        "colab": {
          "base_uri": "https://localhost:8080/"
        },
        "outputId": "75ccc190-3ee2-42e3-858a-7b4fea2ab161"
      },
      "source": [
        "scores = model.evaluate(X_test, y_test, verbose=0)\n",
        "print(\"Baseline Error: %.2f%%\" % (100-scores[1]*100))"
      ],
      "execution_count": 13,
      "outputs": [
        {
          "output_type": "stream",
          "name": "stdout",
          "text": [
            "Baseline Error: 1.75%\n"
          ]
        }
      ]
    }
  ]
}