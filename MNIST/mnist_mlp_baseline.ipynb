{
  "nbformat": 4,
  "nbformat_minor": 0,
  "metadata": {
    "colab": {
      "name": "Untitled7.ipynb",
      "provenance": [],
      "gpuType": "V28"
    },
    "kernelspec": {
      "name": "python3",
      "display_name": "Python 3"
    },
    "accelerator": "TPU"
  },
  "cells": [
    {
      "cell_type": "markdown",
      "metadata": {
        "id": "iKd9-7snpsDG"
      },
      "source": [
        "# **Baseline MLP for MNIST dataset**"
      ]
    },
    {
      "cell_type": "markdown",
      "metadata": {
        "id": "YqRW5TldpuhN"
      },
      "source": [
        "**Importing Packages**"
      ]
    },
    {
      "cell_type": "code",
      "metadata": {
        "id": "YaEsArN1pzY1"
      },
      "source": [
        "import numpy\n",
        "import keras\n",
        "from keras.datasets import mnist\n",
        "from keras.models import Sequential\n",
        "from keras.layers import Dense\n",
        "import matplotlib.pyplot as plt\n",
        "from keras.utils import to_categorical"
      ],
      "execution_count": 39,
      "outputs": []
    },
    {
      "cell_type": "markdown",
      "metadata": {
        "id": "PTlQn7u8p5LC"
      },
      "source": [
        "**load data**"
      ]
    },
    {
      "cell_type": "code",
      "metadata": {
        "id": "ccqFxeZHp560"
      },
      "source": [
        "(X_train, y_train), (X_test, y_test) = mnist.load_data()"
      ],
      "execution_count": 40,
      "outputs": []
    },
    {
      "cell_type": "markdown",
      "metadata": {
        "id": "NgcQYUSzp9SR"
      },
      "source": [
        "**flatten 28x28 images to a 784 vector for each image **"
      ]
    },
    {
      "cell_type": "code",
      "metadata": {
        "id": "Nab5ycYTqHfW",
        "colab": {
          "base_uri": "https://localhost:8080/"
        },
        "outputId": "4f00f4d3-0300-44b9-f866-123220740513"
      },
      "source": [
        "num_pixels = X_train.shape[1] * X_train.shape[2]\n",
        "print (X_train.shape)\n",
        "X_train = X_train.reshape(X_train.shape[0], num_pixels).astype('float32')\n",
        "X_test = X_test.reshape(X_test.shape[0], num_pixels).astype('float32')"
      ],
      "execution_count": 41,
      "outputs": [
        {
          "output_type": "stream",
          "name": "stdout",
          "text": [
            "(60000, 28, 28)\n"
          ]
        }
      ]
    },
    {
      "cell_type": "markdown",
      "metadata": {
        "id": "5z5zTzcfqMB1"
      },
      "source": [
        "**normalize inputs from 0-255 to 0-1**"
      ]
    },
    {
      "cell_type": "code",
      "metadata": {
        "id": "ya0mb3clqSik"
      },
      "source": [
        "X_train = X_train / 255\n",
        "X_test = X_test / 255"
      ],
      "execution_count": 42,
      "outputs": []
    },
    {
      "cell_type": "markdown",
      "metadata": {
        "id": "JHbpYZODqUT7"
      },
      "source": [
        "**One Hot Encoding the outputs**"
      ]
    },
    {
      "cell_type": "code",
      "metadata": {
        "id": "r84uDvKyqX7v"
      },
      "source": [
        "y_train = to_categorical(y_train)\n",
        "y_test = to_categorical(y_test)\n",
        "num_classes = y_test.shape[1]"
      ],
      "execution_count": 43,
      "outputs": []
    },
    {
      "cell_type": "markdown",
      "metadata": {
        "id": "saFMnRssqbdR"
      },
      "source": [
        "**define baseline model**"
      ]
    },
    {
      "cell_type": "code",
      "metadata": {
        "id": "eIx6S5PzqclX"
      },
      "source": [
        "def baseline_model():\n",
        "\t# create model\n",
        "\tmodel = Sequential()\n",
        "\tmodel.add(Dense(num_pixels, input_dim=num_pixels, activation='relu'))\n",
        "\tmodel.add(Dense(num_classes,  activation='softmax'))\n",
        "\t# Compile model\n",
        "\tmodel.compile(loss='categorical_crossentropy', optimizer='adam', metrics=['accuracy'])\n",
        "\treturn model"
      ],
      "execution_count": 44,
      "outputs": []
    },
    {
      "cell_type": "markdown",
      "metadata": {
        "id": "ohdSQ0INqfjk"
      },
      "source": [
        "**Build and Fit the model**"
      ]
    },
    {
      "cell_type": "code",
      "metadata": {
        "id": "Xvk_Bs3PqiIL"
      },
      "source": [
        "model = baseline_model()\n",
        "model.fit(X_train, y_train, validation_data=(X_test, y_test), epochs=10, batch_size=200, verbose=2)"
      ],
      "execution_count": null,
      "outputs": []
    },
    {
      "cell_type": "markdown",
      "metadata": {
        "id": "ZVDxQGJSqmDR"
      },
      "source": [
        "**Final evaluation of the model**"
      ]
    },
    {
      "cell_type": "code",
      "metadata": {
        "id": "ZBLeBwHtqoBU",
        "colab": {
          "base_uri": "https://localhost:8080/"
        },
        "outputId": "8a638665-4fb3-4514-d0bd-98a62bf8c03b"
      },
      "source": [
        "scores = model.evaluate(X_test, y_test, verbose=0)\n",
        "print(\"Baseline Error: %.2f%%\" % (100-scores[1]*100))"
      ],
      "execution_count": 46,
      "outputs": [
        {
          "output_type": "stream",
          "name": "stdout",
          "text": [
            "Baseline Error: 1.93%\n"
          ]
        }
      ]
    },
    {
      "cell_type": "code",
      "source": [
        "!git clone https://github.com/deepanrajm/deep_learning.git"
      ],
      "metadata": {
        "id": "K5msHLToK_3D"
      },
      "execution_count": null,
      "outputs": []
    },
    {
      "cell_type": "code",
      "source": [
        "img = keras.utils.load_img(\"/content/deep_learning/MNIST/2.png\", target_size=(28,28),color_mode='grayscale')\n",
        "img_array = keras.utils.img_to_array(img)\n",
        "print(img_array.shape)\n",
        "img_array = img_array.reshape(1, num_pixels).astype('float32')\n",
        "img_array = img_array / 255\n",
        "\n",
        "predictions = model.predict(img_array)\n",
        "print (numpy.argmax(predictions))"
      ],
      "metadata": {
        "id": "Hchm7beKDyJU"
      },
      "execution_count": null,
      "outputs": []
    }
  ]
}