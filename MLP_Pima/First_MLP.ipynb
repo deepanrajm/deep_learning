{
  "nbformat": 4,
  "nbformat_minor": 0,
  "metadata": {
    "colab": {
      "name": "Untitled4.ipynb",
      "provenance": [],
      "include_colab_link": true
    },
    "kernelspec": {
      "name": "python3",
      "display_name": "Python 3"
    }
  },
  "cells": [
    {
      "cell_type": "markdown",
      "metadata": {
        "id": "view-in-github",
        "colab_type": "text"
      },
      "source": [
        "<a href=\"https://colab.research.google.com/github/deepanrajm/deep_learning/blob/master/MLP_Pima/First_MLP.ipynb\" target=\"_parent\"><img src=\"https://colab.research.google.com/assets/colab-badge.svg\" alt=\"Open In Colab\"/></a>"
      ]
    },
    {
      "cell_type": "markdown",
      "metadata": {
        "id": "qhb7ThqUe4Gq"
      },
      "source": [
        "# **Simple MLP for PIMA Indian Dataset**"
      ]
    },
    {
      "cell_type": "code",
      "metadata": {
        "id": "lbz9RQZOdYG3"
      },
      "source": [
        "!git clone https://github.com/deepanrajm/deep_learning.git"
      ],
      "execution_count": null,
      "outputs": []
    },
    {
      "cell_type": "code",
      "metadata": {
        "id": "LVoyErHsgfIw"
      },
      "source": [
        "!ls"
      ],
      "execution_count": null,
      "outputs": []
    },
    {
      "cell_type": "markdown",
      "metadata": {
        "id": "8Z-VHSBxeTaw"
      },
      "source": [
        "**Importing Packages**"
      ]
    },
    {
      "cell_type": "code",
      "metadata": {
        "id": "WnxDBeE7eJMu"
      },
      "source": [
        "from keras.models import Sequential\n",
        "from keras.layers import Dense\n",
        "import numpy"
      ],
      "execution_count": null,
      "outputs": []
    },
    {
      "cell_type": "code",
      "metadata": {
        "id": "w3JSIF3ieWey"
      },
      "source": [
        "seed = 7\n",
        "numpy.random.seed(seed)"
      ],
      "execution_count": null,
      "outputs": []
    },
    {
      "cell_type": "markdown",
      "metadata": {
        "id": "cBHLH6YSee4l"
      },
      "source": [
        "**load pima indians dataset**"
      ]
    },
    {
      "cell_type": "code",
      "metadata": {
        "id": "7MyL_3S7eaX3"
      },
      "source": [
        "dataset = numpy.loadtxt(\"deep_learning/MLP_Pima/pima-indians-diabetes.csv\", delimiter=\",\")"
      ],
      "execution_count": null,
      "outputs": []
    },
    {
      "cell_type": "markdown",
      "metadata": {
        "id": "D2Uhn0Skef39"
      },
      "source": [
        "**split into input (X) and output (Y)**"
      ]
    },
    {
      "cell_type": "code",
      "metadata": {
        "id": "Wl_9PzhueiC9"
      },
      "source": [
        "X = dataset[:,0:8]\n",
        "Y = dataset[:,8]"
      ],
      "execution_count": null,
      "outputs": []
    },
    {
      "cell_type": "markdown",
      "metadata": {
        "id": "NpaAAWy-ejgB"
      },
      "source": [
        "**create model**"
      ]
    },
    {
      "cell_type": "code",
      "metadata": {
        "id": "xnipV3o_elD7"
      },
      "source": [
        "model = Sequential()\n",
        "model.add(Dense(12, input_dim=8, activation='relu'))\n",
        "model.add(Dense(8, activation='relu'))\n",
        "model.add(Dense(1, activation='sigmoid'))"
      ],
      "execution_count": null,
      "outputs": []
    },
    {
      "cell_type": "markdown",
      "metadata": {
        "id": "zZJM37I0epr0"
      },
      "source": [
        "**Compile model**"
      ]
    },
    {
      "cell_type": "code",
      "metadata": {
        "id": "f40-ZVLleqfI"
      },
      "source": [
        "model.compile(loss='binary_crossentropy', optimizer='adam', metrics=['accuracy'])"
      ],
      "execution_count": null,
      "outputs": []
    },
    {
      "cell_type": "markdown",
      "metadata": {
        "id": "lTPZtwClesza"
      },
      "source": [
        "**Fit the Model**"
      ]
    },
    {
      "cell_type": "code",
      "metadata": {
        "id": "4llIN6Suevyw"
      },
      "source": [
        "model.fit(X, Y, epochs=200, batch_size=10)"
      ],
      "execution_count": null,
      "outputs": []
    },
    {
      "cell_type": "markdown",
      "metadata": {
        "id": "c9fEqWSKeyWy"
      },
      "source": [
        "**Evaluate The Model**"
      ]
    },
    {
      "cell_type": "code",
      "metadata": {
        "id": "gynZFOHjex5b"
      },
      "source": [
        "scores = model.evaluate(X, Y)\n",
        "print(\"%s: %.2f%%\" % (model.metrics_names[1], scores[1]*100))"
      ],
      "execution_count": null,
      "outputs": []
    }
  ]
}