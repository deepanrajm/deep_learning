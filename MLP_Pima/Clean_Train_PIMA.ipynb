{
  "nbformat": 4,
  "nbformat_minor": 0,
  "metadata": {
    "colab": {
      "name": "Untitled4.ipynb",
      "provenance": []
    },
    "kernelspec": {
      "name": "python3",
      "display_name": "Python 3"
    }
  },
  "cells": [
    {
      "cell_type": "markdown",
      "metadata": {
        "id": "qhb7ThqUe4Gq"
      },
      "source": [
        "# **Simple MLP for PIMA Indian Dataset**"
      ]
    },
    {
      "cell_type": "code",
      "metadata": {
        "id": "lbz9RQZOdYG3"
      },
      "source": [
        "!git clone https://github.com/deepanrajm/deep_learning.git"
      ],
      "execution_count": null,
      "outputs": []
    },
    {
      "cell_type": "code",
      "metadata": {
        "id": "LVoyErHsgfIw",
        "outputId": "014d9744-4ff8-412c-cf78-ef657d504f2d",
        "colab": {
          "base_uri": "https://localhost:8080/"
        }
      },
      "source": [
        "!ls"
      ],
      "execution_count": 2,
      "outputs": [
        {
          "output_type": "stream",
          "name": "stdout",
          "text": [
            "deep_learning  sample_data\n"
          ]
        }
      ]
    },
    {
      "cell_type": "markdown",
      "metadata": {
        "id": "8Z-VHSBxeTaw"
      },
      "source": [
        "**Importing Packages**"
      ]
    },
    {
      "cell_type": "code",
      "metadata": {
        "id": "WnxDBeE7eJMu"
      },
      "source": [
        "from tensorflow.keras.models import Sequential\n",
        "from tensorflow.keras.layers import Dense\n",
        "import numpy"
      ],
      "execution_count": 31,
      "outputs": []
    },
    {
      "cell_type": "code",
      "metadata": {
        "id": "w3JSIF3ieWey"
      },
      "source": [
        "seed = 7\n",
        "numpy.random.seed(seed)"
      ],
      "execution_count": 4,
      "outputs": []
    },
    {
      "cell_type": "markdown",
      "metadata": {
        "id": "cBHLH6YSee4l"
      },
      "source": [
        "**load pima indians dataset**"
      ]
    },
    {
      "cell_type": "code",
      "metadata": {
        "id": "7MyL_3S7eaX3"
      },
      "source": [
        "dataset = numpy.loadtxt(\"deep_learning/MLP_Pima/pima-indians-diabetes.csv\", delimiter=\",\")"
      ],
      "execution_count": 5,
      "outputs": []
    },
    {
      "cell_type": "markdown",
      "metadata": {
        "id": "D2Uhn0Skef39"
      },
      "source": [
        "**split into input (X) and output (Y)**"
      ]
    },
    {
      "cell_type": "code",
      "metadata": {
        "id": "Wl_9PzhueiC9"
      },
      "source": [
        "X = dataset[:,0:8]\n",
        "Y = dataset[:,8]"
      ],
      "execution_count": 6,
      "outputs": []
    },
    {
      "cell_type": "markdown",
      "metadata": {
        "id": "NpaAAWy-ejgB"
      },
      "source": [
        "**create model**"
      ]
    },
    {
      "cell_type": "code",
      "metadata": {
        "id": "xnipV3o_elD7"
      },
      "source": [
        "model = Sequential()\n",
        "model.add(Dense(12, input_dim=8, activation='relu'))\n",
        "model.add(Dense(24, activation='relu'))\n",
        "model.add(Dense(24, activation='relu'))\n",
        "model.add(Dense(8, activation='relu'))\n",
        "model.add(Dense(1, activation='sigmoid'))"
      ],
      "execution_count": null,
      "outputs": []
    },
    {
      "cell_type": "markdown",
      "metadata": {
        "id": "zZJM37I0epr0"
      },
      "source": [
        "**Compile model**"
      ]
    },
    {
      "cell_type": "code",
      "metadata": {
        "id": "f40-ZVLleqfI"
      },
      "source": [
        "model.compile(loss='binary_crossentropy', optimizer='adam', metrics=['accuracy'])"
      ],
      "execution_count": 33,
      "outputs": []
    },
    {
      "cell_type": "markdown",
      "metadata": {
        "id": "lTPZtwClesza"
      },
      "source": [
        "**Fit the Model**"
      ]
    },
    {
      "cell_type": "code",
      "metadata": {
        "id": "4llIN6Suevyw"
      },
      "source": [
        "h= model.fit(X, Y, epochs=40, batch_size=10)"
      ],
      "execution_count": null,
      "outputs": []
    },
    {
      "cell_type": "markdown",
      "metadata": {
        "id": "c9fEqWSKeyWy"
      },
      "source": [
        "**Evaluate The Model**"
      ]
    },
    {
      "cell_type": "code",
      "source": [
        "import matplotlib.pyplot as plt\n",
        "print(h.history.keys())\n",
        "\n",
        "# Loss Curves\n",
        "plt.figure(figsize=(25, 10))\n",
        "plt.subplot(1, 2, 1)\n",
        "plt.plot(h.history['loss'],'-g',linewidth=1.0)\n",
        "# plt.plot(h.history['val_loss'],'-r',linewidth=1.0)\n",
        "plt.legend(['Training loss', 'Validation Loss'],fontsize=14)\n",
        "plt.xlabel('Epochs ',fontsize=16)\n",
        "plt.ylabel('Loss',fontsize=16)\n",
        "plt.title('Loss Curves',fontsize=22)\n",
        "\n",
        "# Accuracy Curves\n",
        "plt.subplot(1, 2, 2)\n",
        "plt.plot(h.history['accuracy'],'-g',linewidth=1.0)\n",
        "# plt.plot(h.history['val_accuracy'],'-r',linewidth=1.0)\n",
        "plt.legend(['Training Accuracy', 'Validation Accuracy'],fontsize=14)\n",
        "plt.xlabel('Epochs ',fontsize=16)\n",
        "\n",
        "plt.ylabel('Accuracy',fontsize=16)\n",
        "plt.title('Accuracy Curves',fontsize=22)\n",
        "plt.show()"
      ],
      "metadata": {
        "id": "fuQaPMN7rKoN"
      },
      "execution_count": null,
      "outputs": []
    },
    {
      "cell_type": "code",
      "metadata": {
        "id": "gynZFOHjex5b"
      },
      "source": [
        "scores = model.evaluate(X, Y)\n",
        "print(\"%s: %.2f%%\" % (model.metrics_names[1], scores[1]*100))"
      ],
      "execution_count": null,
      "outputs": []
    },
    {
      "cell_type": "markdown",
      "source": [
        "# Data Cleaning"
      ],
      "metadata": {
        "id": "T__IIAF12bhW"
      }
    },
    {
      "cell_type": "code",
      "source": [
        "import pandas as pd\n",
        "import numpy as np\n",
        "\n",
        "# Load dataset\n",
        "df = pd.read_csv(\"deep_learning/MLP_Pima/pima-indians-diabetes.csv\")"
      ],
      "metadata": {
        "id": "HPKdr3lj2bBY"
      },
      "execution_count": 23,
      "outputs": []
    },
    {
      "cell_type": "code",
      "source": [
        "df.columns = [\"Pregnancies\",\t\"Glucose\", \t\"BP\",\t\"SkinThickness\",\"Insulin\"\t,\"BMI\"\t,\"DiabetesPedigreeFunction\",\t\"Age\"\t,\"Outcome\"]"
      ],
      "metadata": {
        "id": "6i9OZSR-3Uci"
      },
      "execution_count": 24,
      "outputs": []
    },
    {
      "cell_type": "code",
      "source": [
        "df.head()"
      ],
      "metadata": {
        "id": "nB2PYvSd3DUY"
      },
      "execution_count": null,
      "outputs": []
    },
    {
      "cell_type": "code",
      "source": [
        "df.info()"
      ],
      "metadata": {
        "id": "HnzWB-If3a3r"
      },
      "execution_count": null,
      "outputs": []
    },
    {
      "cell_type": "code",
      "source": [
        "df.isnull().any()"
      ],
      "metadata": {
        "id": "R5JLRsp83gdq"
      },
      "execution_count": null,
      "outputs": []
    },
    {
      "cell_type": "code",
      "source": [
        "df = df.rename(columns={'DiabetesPedigreeFunction':'DPF'})\n",
        "df.head()"
      ],
      "metadata": {
        "id": "Cm9mcFwO3jkj"
      },
      "execution_count": null,
      "outputs": []
    },
    {
      "cell_type": "code",
      "source": [
        "df_copy = df.copy(deep=True)\n",
        "df_copy[['Glucose','BP','SkinThickness','Insulin','BMI']] = df_copy[['Glucose','BP','SkinThickness','Insulin','BMI']].replace(0,np.nan)\n",
        "df_copy.isnull().sum()"
      ],
      "metadata": {
        "id": "gNpB9aQt3mYi",
        "outputId": "3d8f00a6-376e-4368-9d82-4127915966ed",
        "colab": {
          "base_uri": "https://localhost:8080/",
          "height": 366
        }
      },
      "execution_count": 27,
      "outputs": [
        {
          "output_type": "execute_result",
          "data": {
            "text/plain": [
              "Pregnancies        0\n",
              "Glucose            5\n",
              "BP                35\n",
              "SkinThickness    227\n",
              "Insulin          373\n",
              "BMI               11\n",
              "DPF                0\n",
              "Age                0\n",
              "Outcome            0\n",
              "dtype: int64"
            ],
            "text/html": [
              "<div>\n",
              "<style scoped>\n",
              "    .dataframe tbody tr th:only-of-type {\n",
              "        vertical-align: middle;\n",
              "    }\n",
              "\n",
              "    .dataframe tbody tr th {\n",
              "        vertical-align: top;\n",
              "    }\n",
              "\n",
              "    .dataframe thead th {\n",
              "        text-align: right;\n",
              "    }\n",
              "</style>\n",
              "<table border=\"1\" class=\"dataframe\">\n",
              "  <thead>\n",
              "    <tr style=\"text-align: right;\">\n",
              "      <th></th>\n",
              "      <th>0</th>\n",
              "    </tr>\n",
              "  </thead>\n",
              "  <tbody>\n",
              "    <tr>\n",
              "      <th>Pregnancies</th>\n",
              "      <td>0</td>\n",
              "    </tr>\n",
              "    <tr>\n",
              "      <th>Glucose</th>\n",
              "      <td>5</td>\n",
              "    </tr>\n",
              "    <tr>\n",
              "      <th>BP</th>\n",
              "      <td>35</td>\n",
              "    </tr>\n",
              "    <tr>\n",
              "      <th>SkinThickness</th>\n",
              "      <td>227</td>\n",
              "    </tr>\n",
              "    <tr>\n",
              "      <th>Insulin</th>\n",
              "      <td>373</td>\n",
              "    </tr>\n",
              "    <tr>\n",
              "      <th>BMI</th>\n",
              "      <td>11</td>\n",
              "    </tr>\n",
              "    <tr>\n",
              "      <th>DPF</th>\n",
              "      <td>0</td>\n",
              "    </tr>\n",
              "    <tr>\n",
              "      <th>Age</th>\n",
              "      <td>0</td>\n",
              "    </tr>\n",
              "    <tr>\n",
              "      <th>Outcome</th>\n",
              "      <td>0</td>\n",
              "    </tr>\n",
              "  </tbody>\n",
              "</table>\n",
              "</div><br><label><b>dtype:</b> int64</label>"
            ]
          },
          "metadata": {},
          "execution_count": 27
        }
      ]
    },
    {
      "cell_type": "code",
      "source": [
        "df_copy['Glucose'].fillna(df_copy['Glucose'].mean(), inplace=True)\n",
        "df_copy['BP'].fillna(df_copy['BP'].mean(), inplace=True)\n",
        "df_copy['SkinThickness'].fillna(df_copy['SkinThickness'].median(), inplace=True)\n",
        "df_copy['Insulin'].fillna(df_copy['Insulin'].median(), inplace=True)\n",
        "df_copy['BMI'].fillna(df_copy['BMI'].median(), inplace=True)"
      ],
      "metadata": {
        "id": "tYuM_CwN37o0"
      },
      "execution_count": null,
      "outputs": []
    },
    {
      "cell_type": "code",
      "source": [
        "df_copy.isnull().sum()"
      ],
      "metadata": {
        "id": "8kJh8zVd4FlD"
      },
      "execution_count": null,
      "outputs": []
    },
    {
      "cell_type": "code",
      "source": [
        "from sklearn.preprocessing import MinMaxScaler\n",
        "from sklearn.model_selection import train_test_split\n",
        "import pandas as pd\n",
        "from tensorflow.keras.models import Sequential\n",
        "from tensorflow.keras.layers import Dense\n",
        "from sklearn.metrics import mean_absolute_error"
      ],
      "metadata": {
        "id": "GmEUxpdo4Mx7"
      },
      "execution_count": 35,
      "outputs": []
    },
    {
      "cell_type": "code",
      "source": [
        "X = df_copy[[\"Pregnancies\", \"Glucose\", \"BP\", \"SkinThickness\", \"Insulin\", \"BMI\", \"DPF\", \"Age\"]]\n",
        "y = df_copy[[\"Outcome\"]]\n",
        "\n",
        "# Data needs to be scaled to  0 to 1 for the neural network to train correctly.\n",
        "X_scaler = MinMaxScaler(feature_range=(0, 1))\n",
        "y_scaler = MinMaxScaler(feature_range=(0, 1))\n",
        "\n",
        "# Scale both the training inputs and outputs\n",
        "X[X.columns] = X_scaler.fit_transform(X[X.columns])\n",
        "y[y.columns] = y_scaler.fit_transform(y[y.columns])\n",
        "\n",
        "# Split the data set in a training set (75%) and a test set (25%)\n",
        "X_train, X_test, y_train, y_test = train_test_split(X, y, test_size=0.25)"
      ],
      "metadata": {
        "id": "iY-7IhlM4nOs"
      },
      "execution_count": null,
      "outputs": []
    },
    {
      "cell_type": "code",
      "source": [
        "model = Sequential()\n",
        "model.add(Dense(12, input_dim=8, activation='relu'))\n",
        "model.add(Dense(24, activation='relu'))\n",
        "model.add(Dense(24, activation='relu'))\n",
        "model.add(Dense(8, activation='relu'))\n",
        "model.add(Dense(1, activation='sigmoid'))"
      ],
      "metadata": {
        "id": "QzQVQso8457s"
      },
      "execution_count": null,
      "outputs": []
    },
    {
      "cell_type": "code",
      "source": [
        "model.compile(loss='binary_crossentropy', optimizer='adam', metrics=['accuracy'])"
      ],
      "metadata": {
        "id": "AxyBAQ7e4-e5"
      },
      "execution_count": 39,
      "outputs": []
    },
    {
      "cell_type": "code",
      "source": [
        "h = model.fit(\n",
        "    X_train,\n",
        "    y_train,\n",
        "    epochs=50,\n",
        "    batch_size=10,\n",
        "    shuffle=True,validation_data=(X_test, y_test)\n",
        ")"
      ],
      "metadata": {
        "id": "pN6H2_vj5CVo"
      },
      "execution_count": null,
      "outputs": []
    },
    {
      "cell_type": "code",
      "source": [
        "\n",
        "print(h.history.keys())\n",
        "\n",
        "# Loss Curves\n",
        "plt.figure(figsize=(25, 10))\n",
        "plt.subplot(1, 2, 1)\n",
        "plt.plot(h.history['loss'],'-g',linewidth=1.0)\n",
        "plt.plot(h.history['val_loss'],'-r',linewidth=1.0)\n",
        "plt.legend(['Training loss', 'Validation Loss'],fontsize=14)\n",
        "plt.xlabel('Epochs ',fontsize=16)\n",
        "plt.ylabel('Loss',fontsize=16)\n",
        "plt.title('Loss Curves',fontsize=22)\n",
        "\n",
        "# Accuracy Curves\n",
        "plt.subplot(1, 2, 2)\n",
        "plt.plot(h.history['accuracy'],'-g',linewidth=1.0)\n",
        "plt.plot(h.history['val_accuracy'],'-r',linewidth=1.0)\n",
        "plt.legend(['Training Accuracy', 'Validation Accuracy'],fontsize=14)\n",
        "plt.xlabel('Epochs ',fontsize=16)\n",
        "\n",
        "plt.ylabel('Accuracy',fontsize=16)\n",
        "plt.title('Accuracy Curves',fontsize=22)\n",
        "plt.show()"
      ],
      "metadata": {
        "id": "qGFfDnee5CPQ"
      },
      "execution_count": null,
      "outputs": []
    },
    {
      "cell_type": "code",
      "source": [
        "patient_data = [\n",
        "    2,  # Pregnancy\n",
        "    138,  # Glucose\n",
        "    62,  # BP\n",
        "    35,  # SkinThickness\n",
        "    50, # Insulin\n",
        "    33.6, #BMI\n",
        "    0.127,  #DPF\n",
        "    47 # Age\n",
        "\n",
        "]\n",
        "\n",
        "# Keras assumes we want to predict the values for multiple of patient data at once, so it expects an array.\n",
        "# We only want to value a single patient data, so it will be the only item in our array.\n",
        "database = [\n",
        "    patient_data\n",
        "]\n",
        "\n",
        "# Scale the new data like the training data\n",
        "scaled_database_data = X_scaler.transform(database)\n",
        "\n",
        "# Make a prediction for each house in the scaled_database_data array (but we only have one)\n",
        "result_value = model.predict(scaled_database_data)\n",
        "\n",
        "# The prediction from the neural network will be scaled 0 to 1 just like the training data\n",
        "# We need to unscale it using the same factor as we used to scale the training data\n",
        "unscaled_patient_result = y_scaler.inverse_transform(result_value)\n",
        "\n",
        "# Since we are only predicting the price of one house, grab the first prediction returned\n",
        "predicted_value = unscaled_patient_result[0][0]\n",
        "\n",
        "if predicted_value > 0.:\n",
        "  print(\"You've Diabetics\")\n",
        "else:\n",
        "  print(\"You don't have the diabetics\")"
      ],
      "metadata": {
        "id": "e3nwCVy554m5"
      },
      "execution_count": null,
      "outputs": []
    }
  ]
}