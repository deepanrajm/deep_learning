{
  "nbformat": 4,
  "nbformat_minor": 0,
  "metadata": {
    "colab": {
      "provenance": []
    },
    "kernelspec": {
      "name": "python3",
      "display_name": "Python 3"
    },
    "language_info": {
      "name": "python"
    }
  },
  "cells": [
    {
      "cell_type": "code",
      "source": [
        "%pip install llama-parse\n"
      ],
      "metadata": {
        "id": "pHovlqd3zWV1"
      },
      "execution_count": null,
      "outputs": []
    },
    {
      "cell_type": "code",
      "source": [
        "!wget \"https://s2.q4cdn.com/470004039/files/doc_financials/2021/q4/_10-K-2021-(As-Filed).pdf\" -O apple_10k.pdf\n"
      ],
      "metadata": {
        "id": "x3Y2nAcBzWxz"
      },
      "execution_count": null,
      "outputs": []
    },
    {
      "cell_type": "code",
      "source": [
        "import nest_asyncio\n",
        "\n",
        "nest_asyncio.apply()"
      ],
      "metadata": {
        "id": "e5uAizOEzcVT"
      },
      "execution_count": 3,
      "outputs": []
    },
    {
      "cell_type": "code",
      "source": [
        "import os\n",
        "\n",
        "os.environ[\"LLAMA_CLOUD_API_KEY\"] = \"llx-xXCvs8FVAdyNuuC0bsLoURuk4M0pPvHsBiAnNHcPQkkBtNyi\"\n"
      ],
      "metadata": {
        "id": "FDym7oMPzmwL"
      },
      "execution_count": 13,
      "outputs": []
    },
    {
      "cell_type": "code",
      "source": [
        "from llama_parse import LlamaParse\n",
        "\n",
        "document = LlamaParse(result_type=\"markdown\").load_data(\"/content/apple_10k.pdf\")"
      ],
      "metadata": {
        "colab": {
          "base_uri": "https://localhost:8080/"
        },
        "id": "aYIUKOJ_z0eY",
        "outputId": "7dba79ae-185a-4804-e139-f517144588e0"
      },
      "execution_count": 14,
      "outputs": [
        {
          "output_type": "stream",
          "name": "stdout",
          "text": [
            "Started parsing the file under job_id eff580fd-568f-42e2-89d5-32f01bde8f15\n"
          ]
        }
      ]
    },
    {
      "cell_type": "code",
      "source": [
        "document"
      ],
      "metadata": {
        "colab": {
          "base_uri": "https://localhost:8080/"
        },
        "id": "przLOnGO0Ygf",
        "outputId": "eda5584d-8082-4caa-9a05-8e8bc2a70427"
      },
      "execution_count": 6,
      "outputs": [
        {
          "output_type": "execute_result",
          "data": {
            "text/plain": [
              "[]"
            ]
          },
          "metadata": {},
          "execution_count": 6
        }
      ]
    },
    {
      "cell_type": "code",
      "source": [
        "print(document[0].text[:1000])"
      ],
      "metadata": {
        "id": "5HZSRMmSzzE_"
      },
      "execution_count": null,
      "outputs": []
    },
    {
      "cell_type": "code",
      "source": [
        "file_name = \"apple.md\"\n",
        "with open(file_name, 'w') as file:\n",
        "    file.write(document[0].text)"
      ],
      "metadata": {
        "id": "KeaGJ-781BJE"
      },
      "execution_count": 16,
      "outputs": []
    },
    {
      "cell_type": "code",
      "source": [
        "documents_with_instruction = LlamaParse(\n",
        "    result_type=\"markdown\",\n",
        "    parsing_instruction=\"\"\"\n",
        "    This is the Apple anual report. make a summary\n",
        "    \"\"\"\n",
        "    ).load_data(\"/content/apple_10k.pdf\")"
      ],
      "metadata": {
        "colab": {
          "base_uri": "https://localhost:8080/"
        },
        "id": "ud2-XzHP1ch2",
        "outputId": "d628f5af-45bb-4f97-bf9d-cdb1dd8af742"
      },
      "execution_count": 17,
      "outputs": [
        {
          "output_type": "stream",
          "name": "stdout",
          "text": [
            "Started parsing the file under job_id bf526ca6-b474-46d2-bf16-f31edf8f6fe9\n"
          ]
        }
      ]
    },
    {
      "cell_type": "code",
      "source": [
        "file_name = \"apple_10k_instructions.md\"\n",
        "with open(file_name, 'w') as file:\n",
        "    file.write(documents_with_instruction[0].text)"
      ],
      "metadata": {
        "id": "RrLwiRVs1Io6"
      },
      "execution_count": 18,
      "outputs": []
    }
  ]
}