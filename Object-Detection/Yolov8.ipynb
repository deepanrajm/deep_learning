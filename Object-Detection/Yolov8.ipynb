{
  "nbformat": 4,
  "nbformat_minor": 0,
  "metadata": {
    "colab": {
      "provenance": []
    },
    "kernelspec": {
      "name": "python3",
      "display_name": "Python 3"
    },
    "language_info": {
      "name": "python"
    },
    "accelerator": "GPU",
    "gpuClass": "standard"
  },
  "cells": [
    {
      "cell_type": "code",
      "source": [
        "from google.colab import drive\n",
        "drive.mount('/content/drive')"
      ],
      "metadata": {
        "id": "nth6COoY9SYN"
      },
      "execution_count": null,
      "outputs": []
    },
    {
      "cell_type": "code",
      "execution_count": null,
      "metadata": {
        "id": "pbj1-qFR72DR"
      },
      "outputs": [],
      "source": [
        "!pip install ultralytics"
      ]
    },
    {
      "cell_type": "code",
      "source": [
        "import ultralytics\n",
        "ultralytics.checks()"
      ],
      "metadata": {
        "id": "o-5hePh09Xih"
      },
      "execution_count": null,
      "outputs": []
    },
    {
      "cell_type": "code",
      "source": [
        "!cp -r /content/drive/MyDrive/v8_format/* ."
      ],
      "metadata": {
        "id": "YI60cEmBzVA-"
      },
      "execution_count": null,
      "outputs": []
    },
    {
      "cell_type": "code",
      "source": [
        "# !rsync -a /content/drive/MyDrive/v8_format ."
      ],
      "metadata": {
        "id": "pnkDumKz9ikV"
      },
      "execution_count": null,
      "outputs": []
    },
    {
      "cell_type": "code",
      "source": [
        "!yolo task=detect mode=train model=yolov8s.pt data=data.yaml epochs=50 imgsz=640 batch=8 project=/content/drive/MyDrive/ball_output name=Ball_Detection"
      ],
      "metadata": {
        "id": "9RqJ-4r0BqrM"
      },
      "execution_count": null,
      "outputs": []
    },
    {
      "cell_type": "code",
      "source": [
        "# !yolo task=detect mode=train model=yolov8s.pt data=data.yaml epochs=50 imgsz=640 batch=8 project=/content/drive/MyDrive/ball_output name=Ball_Detection_1 optimizer='AdamW' close_mosaic=10 cos_lr=True degrees: 0.2 shear: 0.2 perspective: 0.01 mixup: 0.3 warmup_epochs=1.0"
      ],
      "metadata": {
        "id": "tNJBThMQZEC9"
      },
      "execution_count": null,
      "outputs": []
    },
    {
      "cell_type": "code",
      "source": [
        "!yolo task=detect mode=predict model=/content/drive/MyDrive/ball_output/Ball_Detection/weights/best.pt conf=0.55 source=/content/drive/MyDrive/v8_format/images/val/002af65597d93000.jpg save=true"
      ],
      "metadata": {
        "id": "nZWBc3ZV-3Lv"
      },
      "execution_count": null,
      "outputs": []
    },
    {
      "cell_type": "code",
      "source": [
        "!pip install supervision"
      ],
      "metadata": {
        "id": "8XLWQ029qiQK"
      },
      "execution_count": null,
      "outputs": []
    },
    {
      "cell_type": "code",
      "source": [
        "import cv2\n",
        "from ultralytics import YOLO\n",
        "import supervision as sv\n",
        "import numpy as np\n",
        "\n",
        "# --- Configuration ---\n",
        "# Note: Make sure these paths are correct for your Colab environment.\n",
        "input_video_path = \"/content/drive/MyDrive/29_sept_IITD/foot_ball.mp4\"\n",
        "output_video_path = \"/content/drive/MyDrive/29_sept_IITD/detection_output.mp4\"\n",
        "model_path = \"/content/drive/MyDrive/ball_output/Ball_Detection/weights/best.pt\"\n",
        "\n",
        "# --- Video Capture ---\n",
        "cap = cv2.VideoCapture(input_video_path)\n",
        "if not cap.isOpened():\n",
        "    print(f\"Error: Could not open video file at {input_video_path}\")\n",
        "else:\n",
        "    # --- Get Video Properties ---\n",
        "    frame_width = int(cap.get(cv2.CAP_PROP_FRAME_WIDTH))\n",
        "    frame_height = int(cap.get(cv2.CAP_PROP_FRAME_HEIGHT))\n",
        "    fps = int(cap.get(cv2.CAP_PROP_FPS))\n",
        "\n",
        "    # --- Video Writer ---\n",
        "    fourcc = cv2.VideoWriter_fourcc(*'mp4v')\n",
        "    out = cv2.VideoWriter(output_video_path, fourcc, fps, (frame_width, frame_height))\n",
        "\n",
        "    # --- Model and Annotators ---\n",
        "    model = YOLO(model_path)\n",
        "\n",
        "    # Create a BoxAnnotator for drawing boxes ONLY\n",
        "    box_annotator = sv.BoxAnnotator(\n",
        "        thickness=2\n",
        "    )\n",
        "\n",
        "    # Create a LabelAnnotator for drawing text labels ONLY\n",
        "    label_annotator = sv.LabelAnnotator(\n",
        "        text_thickness=2,\n",
        "        text_scale=1\n",
        "    )\n",
        "\n",
        "    print(\"🚀 Starting video processing...\")\n",
        "\n",
        "    # --- Main Loop ---\n",
        "    while True:\n",
        "        ret, frame = cap.read()\n",
        "        if not ret:\n",
        "            break\n",
        "\n",
        "        result = model(frame, agnostic_nms=True)[0]\n",
        "        detections = sv.Detections.from_ultralytics(result)\n",
        "\n",
        "        # CORRECTED LINE: Access class_id and confidence directly from detections\n",
        "        labels = [\n",
        "            f\"{model.model.names[class_id]} {confidence:0.2f}\"\n",
        "            for class_id, confidence\n",
        "            in zip(detections.class_id, detections.confidence)\n",
        "        ]\n",
        "\n",
        "        # --- Two-step annotation process ---\n",
        "        # 1. Annotate the frame with bounding boxes\n",
        "        frame = box_annotator.annotate(\n",
        "            scene=frame,\n",
        "            detections=detections\n",
        "        )\n",
        "\n",
        "        # 2. Annotate the frame with labels on top of the boxes\n",
        "        frame = label_annotator.annotate(\n",
        "            scene=frame,\n",
        "            detections=detections,\n",
        "            labels=labels\n",
        "        )\n",
        "\n",
        "        out.write(frame)\n",
        "\n",
        "    print(f\"✅ Processing complete. Video saved to {output_video_path}\")\n",
        "\n",
        "    # --- Cleanup ---\n",
        "    cap.release()\n",
        "    out.release()\n",
        "    cv2.destroyAllWindows()"
      ],
      "metadata": {
        "id": "WfmU3qhrptx3"
      },
      "execution_count": null,
      "outputs": []
    }
  ]
}