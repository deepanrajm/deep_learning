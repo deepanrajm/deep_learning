{
  "nbformat": 4,
  "nbformat_minor": 0,
  "metadata": {
    "kernelspec": {
      "display_name": "Python 3",
      "language": "python",
      "name": "python3"
    },
    "language_info": {
      "codemirror_mode": {
        "name": "ipython",
        "version": 3
      },
      "file_extension": ".py",
      "mimetype": "text/x-python",
      "name": "python",
      "nbconvert_exporter": "python",
      "pygments_lexer": "ipython3",
      "version": "3.7.3"
    },
    "colab": {
      "name": "DNA Classification Code.ipynb",
      "provenance": []
    },
    "accelerator": "GPU"
  },
  "cells": [
    {
      "cell_type": "markdown",
      "metadata": {
        "id": "gPuvdJFEZ5bf"
      },
      "source": [
        "# -------------------------------- DNA Classification Project ---------------------------------------"
      ]
    },
    {
      "cell_type": "code",
      "metadata": {
        "id": "Ztcgfh72Z5bo"
      },
      "source": [
        "# Hide warnings\n",
        "import warnings\n",
        "warnings.simplefilter('ignore')"
      ],
      "execution_count": 1,
      "outputs": []
    },
    {
      "cell_type": "markdown",
      "metadata": {
        "id": "00gYCAWcZ5bp"
      },
      "source": [
        "## Step 1: Importing the Dataset\n",
        "\n",
        "The following code cells will import necessary libraries and import the dataset from the UCI repository as a Pandas DataFram"
      ]
    },
    {
      "cell_type": "code",
      "metadata": {
        "id": "CQD3hYExZ5bq"
      },
      "source": [
        "#import and change module name\n",
        "import numpy as np\n",
        "import matplotlib.pyplot as plt\n",
        "import pandas as pd\n",
        "url = 'https://archive.ics.uci.edu/ml/machine-learning-databases/molecular-biology/promoter-gene-sequences/promoters.data'\n",
        "names = ['Class', 'id', 'Sequence']\n",
        "data = pd.read_csv(url, names = names)"
      ],
      "execution_count": 2,
      "outputs": []
    },
    {
      "cell_type": "code",
      "metadata": {
        "id": "5MQZSx9BZ5bq"
      },
      "source": [
        "data.columns"
      ],
      "execution_count": null,
      "outputs": []
    },
    {
      "cell_type": "code",
      "metadata": {
        "id": "V99M4sMqZ5bs"
      },
      "source": [
        "data.head()"
      ],
      "execution_count": null,
      "outputs": []
    },
    {
      "cell_type": "code",
      "metadata": {
        "id": "JLQYr-xlZ5bs"
      },
      "source": [
        "data.shape"
      ],
      "execution_count": null,
      "outputs": []
    },
    {
      "cell_type": "code",
      "metadata": {
        "id": "OK6V3Gf9Z5bt"
      },
      "source": [
        "data.dtypes"
      ],
      "execution_count": null,
      "outputs": []
    },
    {
      "cell_type": "markdown",
      "metadata": {
        "id": "0Ofdz8ILZ5bt"
      },
      "source": [
        "## Step 2: Preprocessing the Dataset\n"
      ]
    },
    {
      "cell_type": "code",
      "metadata": {
        "id": "SxUjMj8xZ5bu"
      },
      "source": [
        "# Build our dataset using custom pandas dataframe\n",
        "clases = data.loc[:,'Class']\n",
        "clases.head()"
      ],
      "execution_count": null,
      "outputs": []
    },
    {
      "cell_type": "code",
      "metadata": {
        "id": "mPWf5e6kZ5bu"
      },
      "source": [
        "# generate list of DNA sequence\n",
        "sequence = list(data.loc[:, 'Sequence'])\n",
        "sequence"
      ],
      "execution_count": null,
      "outputs": []
    },
    {
      "cell_type": "code",
      "metadata": {
        "id": "jt95F_gwZ5bv"
      },
      "source": [
        "#Remove tab from each sequence\n",
        "dic = {}\n",
        "for i, seq in enumerate(sequence):\n",
        "    nucleotides = list(seq)\n",
        "    nucleotides = [char for char in nucleotides if char != '\\t']\n",
        "    #append class assignment\n",
        "    nucleotides.append(clases[i])\n",
        "    \n",
        "    dic[i] = nucleotides\n",
        "dic[0]    "
      ],
      "execution_count": null,
      "outputs": []
    },
    {
      "cell_type": "code",
      "metadata": {
        "id": "R48sWbQbZ5bv"
      },
      "source": [
        "# Convert Dict object into dataframe\n",
        "df = pd.DataFrame(dic)\n",
        "df.head()\n"
      ],
      "execution_count": null,
      "outputs": []
    },
    {
      "cell_type": "code",
      "metadata": {
        "id": "nHIZbwyjZ5bw"
      },
      "source": [
        "# transpose dataframe into correct format\n",
        "df = df.transpose()\n",
        "df.head()"
      ],
      "execution_count": null,
      "outputs": []
    },
    {
      "cell_type": "code",
      "metadata": {
        "id": "SkGbeE63Z5bw"
      },
      "source": [
        "df.columns"
      ],
      "execution_count": null,
      "outputs": []
    },
    {
      "cell_type": "code",
      "metadata": {
        "id": "5tg0gDCmZ5bx"
      },
      "source": [
        "# Rename\n",
        "df.rename(columns = {57:'Class'}, inplace = True)"
      ],
      "execution_count": 13,
      "outputs": []
    },
    {
      "cell_type": "code",
      "metadata": {
        "id": "nZSbi47PZ5bx"
      },
      "source": [
        "df.columns"
      ],
      "execution_count": null,
      "outputs": []
    },
    {
      "cell_type": "code",
      "metadata": {
        "id": "P7VxWAzMZ5bx"
      },
      "source": [
        "df.head()"
      ],
      "execution_count": null,
      "outputs": []
    },
    {
      "cell_type": "code",
      "metadata": {
        "id": "ZEcm6IaIZ5by"
      },
      "source": [
        "#Encoding\n",
        "numerical_df = pd.get_dummies(df)\n",
        "numerical_df.head()"
      ],
      "execution_count": null,
      "outputs": []
    },
    {
      "cell_type": "code",
      "metadata": {
        "id": "Eo1-4-9bZ5by"
      },
      "source": [
        "# Drop class_- or Class_+ either of one\n",
        "numerical_df.drop('Class_-', axis = 1, inplace = True)\n",
        "numerical_df.head()"
      ],
      "execution_count": null,
      "outputs": []
    },
    {
      "cell_type": "code",
      "metadata": {
        "id": "F-LQDl2hZ5b0"
      },
      "source": [
        "# rename Class_+ to Class\n",
        "numerical_df.rename(columns = {'Class_+':'Class'}, inplace = True)"
      ],
      "execution_count": 18,
      "outputs": []
    },
    {
      "cell_type": "markdown",
      "metadata": {
        "id": "6eb93f0rZ5b0"
      },
      "source": [
        "## Step 3: Training and Testing the Classification Algorithms"
      ]
    },
    {
      "cell_type": "code",
      "metadata": {
        "id": "8WjA5kO6Z5b1"
      },
      "source": [
        "#Importing different classifier from sklearn\n",
        "from sklearn.neighbors import KNeighborsClassifier\n",
        "from sklearn.tree import DecisionTreeClassifier\n",
        "from sklearn import svm\n",
        "from sklearn.naive_bayes import GaussianNB\n",
        "from sklearn.gaussian_process.kernels import RBF\n",
        "from sklearn.gaussian_process import GaussianProcessClassifier\n",
        "from sklearn.neural_network import MLPClassifier\n",
        "from sklearn.ensemble import RandomForestClassifier, AdaBoostClassifier\n",
        "from sklearn.metrics import classification_report, accuracy_score"
      ],
      "execution_count": 19,
      "outputs": []
    },
    {
      "cell_type": "code",
      "metadata": {
        "id": "PStXE4wzZ5b1"
      },
      "source": [
        "from sklearn.model_selection import train_test_split\n",
        "X = numerical_df.drop(['Class'], axis = 1).values\n",
        "y = numerical_df['Class'].values\n",
        "\n",
        "#define a seed for reproducibility\n",
        "seed = 1\n",
        "\n",
        "# Splitting data into training and testing data\n",
        "X_train, X_test, y_train, y_test = train_test_split(X, y, test_size = 0.25, random_state = seed)\n"
      ],
      "execution_count": 20,
      "outputs": []
    },
    {
      "cell_type": "code",
      "metadata": {
        "id": "Y03-WyR1Z5b2"
      },
      "source": [
        "# Define scoring method\n",
        "scoring = 'accuracy'\n",
        "# Model building to train\n",
        "names = ['K Nearest Neighbors', 'Gaussian Process', 'Decision Tree', 'Random Forest', 'Neural Net', 'AddaBoost', 'Naive Bayes', 'SVM Linear', 'SVM RBF', 'SVM Sigmoid']\n",
        "Classifiers = [\n",
        "    KNeighborsClassifier(n_neighbors = 3),\n",
        "    GaussianProcessClassifier(1.0*RBF(1.0)),\n",
        "    DecisionTreeClassifier(max_depth = 5),\n",
        "    RandomForestClassifier(max_depth = 5, n_estimators = 10, max_features = 1 ),\n",
        "    MLPClassifier(alpha = 1),\n",
        "    AdaBoostClassifier(),\n",
        "    GaussianNB(),\n",
        "    svm.SVC(kernel = 'linear'),\n",
        "    svm.SVC(kernel = 'rbf'),\n",
        "    svm.SVC(kernel = 'sigmoid')\n",
        "    \n",
        "    ]\n",
        "models = zip(names, Classifiers)\n",
        "# import KFold\n",
        "from sklearn.model_selection import KFold, cross_val_score\n",
        "\n",
        "names = []\n",
        "result = []\n",
        "for name, model in models:\n",
        "    kfold = KFold(n_splits = 10, random_state = 1)\n",
        "    cv_results = cross_val_score(model, X_train, y_train, cv = kfold, scoring = 'accuracy')\n",
        "    result.append(cv_results)\n",
        "    names.append(name)\n",
        "    msg = \"{0}: {1} ({2})\".format(name, cv_results.mean(), cv_results.std())\n",
        "    print(msg)"
      ],
      "execution_count": null,
      "outputs": []
    },
    {
      "cell_type": "markdown",
      "metadata": {
        "id": "_nyjNbiNZ5b2"
      },
      "source": [
        "## Step 4 : Model Evaluation\n"
      ]
    },
    {
      "cell_type": "code",
      "metadata": {
        "id": "N-92O_HhZ5b3"
      },
      "source": [
        "#Test the algorithm on the test data set\n",
        "models = zip(names, Classifiers)\n",
        "for name, model in models:\n",
        "    model.fit(X_train, y_train)\n",
        "    y_pred = model.predict(X_test)\n",
        "    print(name)\n",
        "    print(accuracy_score(y_test, y_pred))\n",
        "    print(classification_report(y_test, y_pred))\n",
        "    "
      ],
      "execution_count": null,
      "outputs": []
    }
  ]
}