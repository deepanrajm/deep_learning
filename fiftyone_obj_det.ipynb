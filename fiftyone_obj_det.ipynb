{
  "nbformat": 4,
  "nbformat_minor": 0,
  "metadata": {
    "colab": {
      "provenance": []
    },
    "kernelspec": {
      "name": "python3",
      "display_name": "Python 3"
    },
    "language_info": {
      "name": "python"
    }
  },
  "cells": [
    {
      "cell_type": "code",
      "execution_count": null,
      "metadata": {
        "id": "r5VeKMOG4ZDw"
      },
      "outputs": [],
      "source": [
        "!pip install fiftyone"
      ]
    },
    {
      "cell_type": "code",
      "source": [
        "!pip install fiftyone-db==0.4.3"
      ],
      "metadata": {
        "id": "9gvzjA175dZs"
      },
      "execution_count": null,
      "outputs": []
    },
    {
      "cell_type": "code",
      "source": [
        "import fiftyone as fo\n",
        "import fiftyone.zoo as foz"
      ],
      "metadata": {
        "id": "rXO_WJi25gHq"
      },
      "execution_count": null,
      "outputs": []
    },
    {
      "cell_type": "code",
      "source": [
        "dataset = foz.load_zoo_dataset(\"quickstart\")\n",
        "print(dataset)"
      ],
      "metadata": {
        "id": "ZhDvI1vB5jam"
      },
      "execution_count": null,
      "outputs": []
    },
    {
      "cell_type": "code",
      "source": [
        "session = fo.launch_app(dataset)"
      ],
      "metadata": {
        "id": "B-tAh-7n51_p"
      },
      "execution_count": null,
      "outputs": []
    },
    {
      "cell_type": "code",
      "source": [
        "session.show()"
      ],
      "metadata": {
        "id": "20xz4qZx52fz"
      },
      "execution_count": null,
      "outputs": []
    },
    {
      "cell_type": "code",
      "source": [
        "from fiftyone import ViewField as F\n",
        "\n",
        "session.view = (\n",
        "    dataset\n",
        "    .sort_by(\"uniqueness\", reverse=True)\n",
        "    .limit(25)\n",
        "    .filter_labels(\"predictions\", F(\"confidence\") > 0.5)\n",
        ")"
      ],
      "metadata": {
        "id": "pUENwOUQ599h"
      },
      "execution_count": null,
      "outputs": []
    },
    {
      "cell_type": "code",
      "source": [
        "\n",
        "high_conf_view = dataset.filter_labels(\"predictions\", F(\"confidence\") > 0.75)\n",
        "\n",
        "results = high_conf_view.evaluate_detections(\n",
        "    \"predictions\",\n",
        "    gt_field=\"ground_truth\",\n",
        "    eval_key=\"eval\",\n",
        ")"
      ],
      "metadata": {
        "id": "X5662zxE6ImF"
      },
      "execution_count": null,
      "outputs": []
    },
    {
      "cell_type": "code",
      "source": [
        "results = dataset.evaluate_detections(\n",
        "    \"predictions\",\n",
        "    gt_field=\"ground_truth\",\n",
        "    compute_mAP=True,\n",
        ")\n",
        "\n",
        "print(\"\\nmAP: %.4f\" % results.mAP())"
      ],
      "metadata": {
        "id": "oae3ZQN_6FOe"
      },
      "execution_count": null,
      "outputs": []
    },
    {
      "cell_type": "code",
      "source": [
        "# Get the 10 most common classes in the dataset\n",
        "counts = dataset.count_values(\"ground_truth.detections.label\")\n",
        "classes = sorted(counts, key=counts.get, reverse=True)[:10]\n",
        "\n",
        "# Print a classification report for the top-10 classes\n",
        "results.print_report(classes=classes)"
      ],
      "metadata": {
        "id": "OzW9MM6J6iG7"
      },
      "execution_count": null,
      "outputs": []
    },
    {
      "cell_type": "code",
      "source": [
        "print(dataset)"
      ],
      "metadata": {
        "id": "6sWk3FAU6rud"
      },
      "execution_count": null,
      "outputs": []
    },
    {
      "cell_type": "code",
      "source": [
        "session.view = high_conf_view.sort_by(\"eval_fp\", reverse=True)"
      ],
      "metadata": {
        "id": "nUYLkbUa6tc5"
      },
      "execution_count": null,
      "outputs": []
    },
    {
      "cell_type": "code",
      "source": [
        "import fiftyone.brain as fob\n",
        "\n",
        "# Computes the mistakenness of the labels in the `ground_truth` field,\n",
        "# which scores the chance that the labels are incorrect, using the\n",
        "# high confidence predictions in the `predictions` field as a reference\n",
        "fob.compute_mistakenness(\n",
        "    high_conf_view,\n",
        "    \"predictions\",\n",
        "    label_field=\"ground_truth\",\n",
        "    use_logits=False,\n",
        ")"
      ],
      "metadata": {
        "id": "QBt2TgcP6z3b"
      },
      "execution_count": null,
      "outputs": []
    },
    {
      "cell_type": "code",
      "source": [
        "print(dataset)"
      ],
      "metadata": {
        "id": "J3Al_j2a7Wvf"
      },
      "execution_count": null,
      "outputs": []
    },
    {
      "cell_type": "code",
      "source": [
        "session.view = high_conf_view.filter_labels(\"ground_truth\", F(\"mistakenness\") > 0.95)"
      ],
      "metadata": {
        "id": "iYBLbw567bZH"
      },
      "execution_count": null,
      "outputs": []
    },
    {
      "cell_type": "code",
      "source": [
        "fob.compute_similarity(dataset, brain_key=\"image_sim\")"
      ],
      "metadata": {
        "id": "cWLvOg8S8FhH"
      },
      "execution_count": null,
      "outputs": []
    },
    {
      "cell_type": "code",
      "source": [
        "print (dataset)"
      ],
      "metadata": {
        "id": "NOicmvdO82iD"
      },
      "execution_count": null,
      "outputs": []
    },
    {
      "cell_type": "code",
      "source": [
        "session.show()"
      ],
      "metadata": {
        "id": "Uh2OSmSt9C_h"
      },
      "execution_count": null,
      "outputs": []
    },
    {
      "cell_type": "code",
      "source": [
        "fob.compute_similarity(dataset, patches_field=\"ground_truth\",brain_key=\"gt_sim\")"
      ],
      "metadata": {
        "id": "YMyyI6gW9P6v"
      },
      "execution_count": null,
      "outputs": []
    },
    {
      "cell_type": "code",
      "source": [
        "fob.compute_similarity(dataset,patches_field=\"predictions\",brain_key=\"pred_sim\")"
      ],
      "metadata": {
        "id": "nz1ksAm1-XpP"
      },
      "execution_count": null,
      "outputs": []
    },
    {
      "cell_type": "code",
      "source": [
        "session.show()"
      ],
      "metadata": {
        "id": "nx2BlXU19cKR"
      },
      "execution_count": null,
      "outputs": []
    }
  ]
}