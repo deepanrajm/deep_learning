{
  "nbformat": 4,
  "nbformat_minor": 0,
  "metadata": {
    "colab": {
      "provenance": []
    },
    "kernelspec": {
      "name": "python3",
      "display_name": "Python 3"
    },
    "language_info": {
      "name": "python"
    }
  },
  "cells": [
    {
      "cell_type": "code",
      "source": [
        "!pip install -U \"tensorflow-text==2.15.*\"\n",
        "!pip install -U \"tf-models-official==2.15.*\""
      ],
      "metadata": {
        "id": "u6yU6ZMV6E3h"
      },
      "execution_count": null,
      "outputs": []
    },
    {
      "cell_type": "code",
      "execution_count": 18,
      "metadata": {
        "id": "MRiSUEEP4hUQ"
      },
      "outputs": [],
      "source": [
        "import tensorflow as tf\n",
        "import tensorflow_datasets as tfds\n",
        "import numpy as np\n",
        "import matplotlib.pyplot as plt\n",
        "import tensorflow_hub as hub\n",
        "import tensorflow_text as text"
      ]
    },
    {
      "cell_type": "code",
      "source": [
        "(train_data, val_data), info = tfds.load('ag_news_subset:1.0.0', #version 1.0.0\n",
        "                                         split=('train', 'test'),\n",
        "                                         with_info=True,\n",
        "                                         as_supervised=True)"
      ],
      "metadata": {
        "id": "Z9ichNvw5B5k"
      },
      "execution_count": 19,
      "outputs": []
    },
    {
      "cell_type": "code",
      "source": [
        "print(info)"
      ],
      "metadata": {
        "id": "tglakWKf5EHb"
      },
      "execution_count": null,
      "outputs": []
    },
    {
      "cell_type": "code",
      "source": [
        "# Displaying the classes\n",
        "\n",
        "class_names = info.features['label'].names\n",
        "num_classes = info.features['label'].num_classes\n",
        "\n",
        "print(f'The news are grouped into {num_classes} classes that are :{class_names}')"
      ],
      "metadata": {
        "colab": {
          "base_uri": "https://localhost:8080/"
        },
        "id": "n_WJL2Iz5GV8",
        "outputId": "77d90d7c-26fd-4285-b155-dc1aa485b028"
      },
      "execution_count": 21,
      "outputs": [
        {
          "output_type": "stream",
          "name": "stdout",
          "text": [
            "The news are grouped into 4 classes that are :['World', 'Sports', 'Business', 'Sci/Tech']\n"
          ]
        }
      ]
    },
    {
      "cell_type": "code",
      "source": [
        "\n",
        "num_train = info.splits['train'].num_examples\n",
        "num_val = info.splits['test'].num_examples\n",
        "\n",
        "print(f'The number of training samples: {num_train} \\nThe number of validation samples: {num_val}')"
      ],
      "metadata": {
        "id": "4NL8ZSoX5IqA"
      },
      "execution_count": null,
      "outputs": []
    },
    {
      "cell_type": "code",
      "source": [
        "\n",
        "news_df = tfds.as_dataframe(train_data.take(10), info)\n",
        "\n",
        "news_df.head(10)"
      ],
      "metadata": {
        "id": "WiyXu-DP5KqP"
      },
      "execution_count": null,
      "outputs": []
    },
    {
      "cell_type": "code",
      "source": [
        "for i in range (0,4):\n",
        "\n",
        "  print(f\"Sample news {i}\\n \\\n",
        "  Label: {news_df['label'][i]} {(class_names[i])}\\n \\\n",
        "  Description: {news_df['description'][i]}\\n----------\\n\")"
      ],
      "metadata": {
        "id": "-p71zGo75LDI"
      },
      "execution_count": null,
      "outputs": []
    },
    {
      "cell_type": "code",
      "source": [
        "buffer_size = 1000\n",
        "batch_size = 32\n",
        "\n",
        "train_data = train_data.shuffle(buffer_size)\n",
        "train_data = train_data.batch(batch_size).prefetch(1)\n",
        "val_data = val_data.batch(batch_size).prefetch(1)"
      ],
      "metadata": {
        "id": "H9kVj_0a5Nxt"
      },
      "execution_count": 25,
      "outputs": []
    },
    {
      "cell_type": "code",
      "source": [
        "for news, label in train_data.take(1):\n",
        "\n",
        "  print(f'Sample news\\n----\\n {news.numpy()[:4]} \\n----\\nCorresponding labels: {label.numpy()[:4]}')"
      ],
      "metadata": {
        "id": "u4MLyOht5T7v"
      },
      "execution_count": null,
      "outputs": []
    },
    {
      "cell_type": "code",
      "source": [
        "bert_handle = 'https://tfhub.dev/tensorflow/small_bert/bert_en_uncased_L-4_H-512_A-8/2'\n",
        "preprocessing_model = 'https://tfhub.dev/tensorflow/bert_en_uncased_preprocess/3'"
      ],
      "metadata": {
        "id": "ZqWGs0Qg5jXa"
      },
      "execution_count": 27,
      "outputs": []
    },
    {
      "cell_type": "code",
      "source": [
        "preprocess_layer = hub.KerasLayer(preprocessing_model)"
      ],
      "metadata": {
        "id": "ixHbkait5lT5"
      },
      "execution_count": 28,
      "outputs": []
    },
    {
      "cell_type": "code",
      "source": [
        "sample_news = ['Tech rumors: The tech giant Apple is working on its self driving car']\n",
        "\n",
        "preprocessed_news = preprocess_layer(sample_news)\n",
        "\n",
        "print(f'Keys       : {list(preprocessed_news.keys())}')\n",
        "print(f'Shape      : {preprocessed_news[\"input_word_ids\"].shape}')\n",
        "print(f'Word Ids   : {preprocessed_news[\"input_word_ids\"][0, :5]}')\n",
        "print(f'Input Mask : {preprocessed_news[\"input_mask\"][0, :5]}')\n",
        "print(f'Type Ids   : {preprocessed_news[\"input_type_ids\"][0, :5]}')"
      ],
      "metadata": {
        "id": "D7JQP0Gh5ljy"
      },
      "execution_count": null,
      "outputs": []
    },
    {
      "cell_type": "code",
      "source": [
        "bert_model = hub.KerasLayer(bert_handle)"
      ],
      "metadata": {
        "id": "C-pyjAlv5nb5"
      },
      "execution_count": 14,
      "outputs": []
    },
    {
      "cell_type": "code",
      "source": [
        "bert_outputs = bert_model(preprocessed_news)\n",
        "\n",
        "print(f'Pooled output shape:{bert_outputs[\"pooled_output\"].shape}')\n",
        "print(f'Pooled output values:{bert_outputs[\"pooled_output\"][0, :5]}')\n",
        "print(f'Sequence output shape:{bert_outputs[\"sequence_output\"].shape}')\n",
        "print(f'Sequence output values:{bert_outputs[\"sequence_output\"][0, :5]}')"
      ],
      "metadata": {
        "id": "88pHgXy65pp5"
      },
      "execution_count": null,
      "outputs": []
    },
    {
      "cell_type": "code",
      "source": [
        "input_text = tf.keras.layers.Input(shape=(), dtype=tf.string, name='Input')\n",
        "\n",
        "# A preprocesing model before layer BERT\n",
        "preprocessing_layer = hub.KerasLayer(preprocessing_model, name='preprocessing_layer')\n",
        "\n",
        "bert_input = preprocessing_layer(input_text)\n",
        "\n",
        "# Getting a Bert model, set trainable to True\n",
        "bert_encoder = hub.KerasLayer(bert_handle, trainable=True, name='bert_encoder')\n",
        "\n",
        "bert_outputs = bert_encoder(bert_input)\n",
        "\n",
        "# For finetuning, we take pooled_output\n",
        "pooled_bert_output = bert_outputs['pooled_output']\n",
        "\n",
        "# Adding a dense layer\n",
        "\n",
        "dense_net = tf.keras.layers.Dense(16, activation='relu', name='fully_connected_layer')(pooled_bert_output)\n",
        "# Add dropout layer for regularization\n",
        "dense_net = tf.keras.layers.Dropout(0.2)(dense_net)\n",
        "\n",
        "# Last dense layer for classification purpose\n",
        "final_output = tf.keras.layers.Dense(4, activation='softmax', name='classifier')(dense_net)\n",
        "\n",
        "# Combine input and output\n",
        "\n",
        "news_classifier = tf.keras.Model(input_text, final_output)"
      ],
      "metadata": {
        "id": "AW8gE62s5rYa"
      },
      "execution_count": 16,
      "outputs": []
    },
    {
      "cell_type": "code",
      "source": [
        "news_classifier.summary()"
      ],
      "metadata": {
        "id": "kyWhAGZO5uyn"
      },
      "execution_count": null,
      "outputs": []
    },
    {
      "cell_type": "code",
      "source": [
        "news_classifier.compile(optimizer=tf.keras.optimizers.Adam(learning_rate=3e-5),\n",
        "                        loss='sparse_categorical_crossentropy',\n",
        "                        metrics=['accuracy'])"
      ],
      "metadata": {
        "id": "5AYvGBlU60BW"
      },
      "execution_count": 30,
      "outputs": []
    },
    {
      "cell_type": "code",
      "source": [
        "batch_size = 32\n",
        "\n",
        "train_steps = int(len(train_data)/batch_size)\n",
        "val_steps = int(len(val_data)/batch_size)\n",
        "\n",
        "history = news_classifier.fit(train_data,\n",
        "                    epochs=15,\n",
        "                    validation_data=val_data,\n",
        "                    steps_per_epoch=train_steps,\n",
        "                    validation_steps=val_steps\n",
        ")"
      ],
      "metadata": {
        "id": "oidal23W7BHp"
      },
      "execution_count": null,
      "outputs": []
    },
    {
      "cell_type": "code",
      "source": [
        "def predict(model, sample_news, class_names):\n",
        "\n",
        "  # Convert sample news into array\n",
        "\n",
        "  sample_news = np.array(sample_news)\n",
        "\n",
        "  # Predict the news type\n",
        "\n",
        "  preds = model.predict(sample_news)\n",
        "\n",
        "  pred_class = np.argmax(preds[0])\n",
        "\n",
        "  print(f'predicted class: {pred_class} \\nPredicted Class name: {class_names[pred_class]}')"
      ],
      "metadata": {
        "id": "jZTZ7_JA7EbG"
      },
      "execution_count": null,
      "outputs": []
    },
    {
      "cell_type": "code",
      "source": [
        "sample_news = ['Tesla, a self driving car company is also planning to make a humanoid robot. This humanoid robot appeared dancing in the latest Tesla AI day']\n",
        "\n",
        "predict(news_classifier, sample_news, class_names)"
      ],
      "metadata": {
        "id": "R0lxI_7Z7Iwr"
      },
      "execution_count": null,
      "outputs": []
    },
    {
      "cell_type": "code",
      "source": [
        "sample_news = [\"In the last weeks, there has been many transfer suprises in footbal. Ronaldo went back to Old Trafford, \"\n",
        "                \"while Messi went to Paris Saint Germain to join his former colleague Neymar.\"\n",
        "                \"We can't wait to see these two clubs will perform in upcoming leagues\"]\n",
        "\n",
        "\n",
        "predict(news_classifier, sample_news, class_names)"
      ],
      "metadata": {
        "id": "mO9voF5-7Kwk"
      },
      "execution_count": null,
      "outputs": []
    }
  ]
}