{
  "nbformat": 4,
  "nbformat_minor": 0,
  "metadata": {
    "colab": {
      "provenance": [],
      "gpuType": "T4"
    },
    "kernelspec": {
      "name": "python3",
      "display_name": "Python 3"
    },
    "language_info": {
      "name": "python"
    },
    "accelerator": "GPU"
  },
  "cells": [
    {
      "cell_type": "code",
      "execution_count": null,
      "metadata": {
        "id": "YOSWkKTY9S5C"
      },
      "outputs": [],
      "source": [
        "import torch\n",
        "from diffusers import CogVideoXImageToVideoPipeline\n",
        "from diffusers.utils import export_to_video, load_image\n",
        "\n",
        "prompt = \"A vast, shimmering ocean flows gracefully under a twilight sky, its waves undulating in a mesmerizing dance of blues and greens. The surface glints with the last rays of the setting sun, casting golden highlights that ripple across the water. Seagulls soar above, their cries blending with the gentle roar of the waves. The horizon stretches infinitely, where the ocean meets the sky in a seamless blend of hues. Close-ups reveal the intricate patterns of the waves, capturing the fluidity and dynamic beauty of the sea in motion.\"\n",
        "image = load_image(image=\"cogvideox_rocket.png\")\n",
        "pipe = CogVideoXImageToVideoPipeline.from_pretrained(\n",
        "    \"THUDM/CogVideoX-5b-I2V\",\n",
        "    torch_dtype=torch.bfloat16\n",
        ")\n",
        "\n",
        "pipe.vae.enable_tiling()\n",
        "pipe.vae.enable_slicing()\n",
        "\n",
        "video = pipe(\n",
        "    prompt=prompt,\n",
        "    image=image,\n",
        "    num_videos_per_prompt=1,\n",
        "    num_inference_steps=50,\n",
        "    num_frames=49,\n",
        "    guidance_scale=6,\n",
        "    generator=torch.Generator(device=\"cuda\").manual_seed(42),\n",
        ").frames[0]\n",
        "\n",
        "export_to_video(video, \"output.mp4\", fps=8)"
      ]
    }
  ]
}