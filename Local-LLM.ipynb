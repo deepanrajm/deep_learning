{
 "cells": [
  {
   "cell_type": "markdown",
   "id": "61106f94",
   "metadata": {
    "tags": []
   },
   "source": [
    "<center> <h1>Local LLMs on CPU with LM Studio</h1>"
   ]
  },
  {
   "cell_type": "markdown",
   "id": "2f8ed84d",
   "metadata": {
    "tags": []
   },
   "source": [
    "## 1. Install the langchain-openai package"
   ]
  },
  {
   "cell_type": "code",
   "execution_count": null,
   "id": "1e9b9f88",
   "metadata": {
    "scrolled": true
   },
   "outputs": [],
   "source": [
    "!pip install -U langchain-openai"
   ]
  },
  {
   "cell_type": "markdown",
   "id": "b591af29",
   "metadata": {
    "tags": []
   },
   "source": [
    "## 2. Instanciate a ChatOpenAI object with the LM Studio base url"
   ]
  },
  {
   "cell_type": "code",
   "execution_count": 2,
   "id": "0a553636",
   "metadata": {},
   "outputs": [],
   "source": [
    "from langchain_openai import ChatOpenAI\n",
    "llm = ChatOpenAI(base_url=\"http://localhost:1234/v1\", api_key=\"type-anything-here\")"
   ]
  },
  {
   "cell_type": "markdown",
   "id": "20ee1678",
   "metadata": {
    "tags": []
   },
   "source": [
    "## 3. Create a basic question answering chain"
   ]
  },
  {
   "cell_type": "code",
   "execution_count": 17,
   "id": "9941b47b",
   "metadata": {},
   "outputs": [],
   "source": [
    "from langchain_core.prompts import ChatPromptTemplate\n",
    "from langchain_core.output_parsers import StrOutputParser\n",
    "\n",
    "prompt = ChatPromptTemplate([\n",
    "    (\"system\", \"You are an intelligent assistant. You always provide well-reasoned answers that are both correct and helpful.\"),\n",
    "    (\"user\", \"\"\"{question}\"\"\"),\n",
    "])\n",
    "\n",
    "chain = prompt | llm | StrOutputParser()\n",
    "# chain = prompt | llm | output_parser"
   ]
  },
  {
   "cell_type": "markdown",
   "id": "f33b38ad",
   "metadata": {
    "tags": []
   },
   "source": [
    "## 4. Stream the chain response"
   ]
  },
  {
   "cell_type": "code",
   "execution_count": 18,
   "id": "b6b84233",
   "metadata": {},
   "outputs": [],
   "source": [
    "def stream(question):\n",
    "    for s in chain.stream(question):\n",
    "        print(s, end=\"\", flush=True)\n",
    "        return s"
   ]
  },
  {
   "cell_type": "code",
   "execution_count": 19,
   "id": "978f446a",
   "metadata": {
    "scrolled": true
   },
   "outputs": [
    {
     "name": "stdout",
     "output_type": "stream",
     "text": [
      "Earth"
     ]
    }
   ],
   "source": [
    "d=stream(\"why are there different seasons ?\")"
   ]
  },
  {
   "cell_type": "code",
   "execution_count": 21,
   "id": "ca7c2239",
   "metadata": {},
   "outputs": [
    {
     "name": "stdout",
     "output_type": "stream",
     "text": [
      "Earth\n"
     ]
    }
   ],
   "source": [
    "print(d)"
   ]
  }
 ],
 "metadata": {
  "kernelspec": {
   "display_name": "malaria",
   "language": "python",
   "name": "python3"
  },
  "language_info": {
   "codemirror_mode": {
    "name": "ipython",
    "version": 3
   },
   "file_extension": ".py",
   "mimetype": "text/x-python",
   "name": "python",
   "nbconvert_exporter": "python",
   "pygments_lexer": "ipython3",
   "version": "3.10.14"
  }
 },
 "nbformat": 4,
 "nbformat_minor": 5
}
